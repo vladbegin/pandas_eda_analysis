{
  "nbformat": 4,
  "nbformat_minor": 0,
  "metadata": {
    "colab": {
      "provenance": [],
      "collapsed_sections": [
        "HOvG8MbMWpdU",
        "FJhoQ0N_rIqw",
        "6OcF5lq-rWOf"
      ]
    },
    "kernelspec": {
      "name": "python3",
      "display_name": "Python 3"
    },
    "language_info": {
      "name": "python"
    }
  },
  "cells": [
    {
      "cell_type": "markdown",
      "source": [
        "#Приготовления с файлом"
      ],
      "metadata": {
        "id": "E6Gy3xmaQmx_"
      }
    },
    {
      "cell_type": "code",
      "execution_count": null,
      "metadata": {
        "id": "0wYa6XIyqk9l"
      },
      "outputs": [],
      "source": [
        "# импортируем необходимые библиотеки\n",
        "\n",
        "import pandas as pd\n",
        "import numpy as np\n",
        "import matplotlib.pyplot as plt\n",
        "import warnings\n",
        "import seaborn as sns\n",
        "import math\n",
        "\n",
        "\n",
        "# отключаем предупреждения\n",
        "warnings.filterwarnings('ignore')"
      ]
    },
    {
      "cell_type": "markdown",
      "source": [
        "# Import"
      ],
      "metadata": {
        "id": "HOvG8MbMWpdU"
      }
    },
    {
      "cell_type": "code",
      "source": [
        "#@markdown **Импортирую файл**\n",
        "data = pd.read_csv('/content/cars_info.csv') # Прочитаем csv-файл\n",
        "data.tail() # Выведем его первые пять строк."
      ],
      "metadata": {
        "colab": {
          "base_uri": "https://localhost:8080/",
          "height": 293
        },
        "id": "JE0Y1amzqqRH",
        "outputId": "2843222b-6c37-4591-c9b9-1ee09739c9cc",
        "cellView": "form"
      },
      "execution_count": null,
      "outputs": [
        {
          "output_type": "execute_result",
          "data": {
            "text/plain": [
              "            ad_id                     title   price  Year  \\\n",
              "512  № 3450776471       Datsun on-DO 1.6 MT  527000  2014   \n",
              "513  № 2937704797  Renault Latitude 2.0 CVT  770000  2013   \n",
              "514  № 3356494422         Opel Astra 1.6 MT  980000  2013   \n",
              "515  № 3532422048    Chevrolet Cruze 1.6 AT  850000  2013   \n",
              "516  № 3297239619            Mazda 3 1.6 AT  875000  2011   \n",
              "\n",
              "                   Generation  Mileage PTS Condition        Modification  \\\n",
              "512             I (2014—2019)   121000   2  Не битый    1.6 MT (87 л.с.)   \n",
              "513             I (2010—2013)   237000   3  Не битый  2.0 CVT (139 л.с.)   \n",
              "514  J рестайлинг (2012—2018)   176000   2  Не битый   1.6 MT (115 л.с.)   \n",
              "515  I рестайлинг (2012—2015)   161000   2  Не битый   1.6 AT (109 л.с.)   \n",
              "516            BL (2008—2011)   186500   6  Не битый   1.6 AT (105 л.с.)   \n",
              "\n",
              "    Engine_capacity Type_engine Transmission          Body_type     color  \\\n",
              "512           1.6 л      Бензин     Механика              Седан  Бордовый   \n",
              "513             2 л      Бензин     Вариатор              Седан    Чёрный   \n",
              "514           1.6 л      Бензин     Механика  Хетчбек 5-дверный    Чёрный   \n",
              "515           1.6 л      Бензин      Автомат  Хетчбек 5-дверный     Белый   \n",
              "516           1.6 л      Бензин      Автомат              Седан     Белый   \n",
              "\n",
              "      seller_type                                            address  \\\n",
              "512     Автодилер  Московская область, г.о. Мытищи, пос. Нагорное...   \n",
              "513  Частное лицо  Республика Карелия, Петрозаводский г.о., Петро...   \n",
              "514  Частное лицо                         Калужская область, Обнинск   \n",
              "515  Частное лицо        Санкт-Петербург, Дальневосточный пр-т, 69к5   \n",
              "516  Частное лицо  Калужская область, Боровский р-н, городское по...   \n",
              "\n",
              "                                           current_url  \n",
              "512  https://www.avito.ru/moskva/avtomobili/datsun_...  \n",
              "513  https://www.avito.ru/petrozavodsk/avtomobili/r...  \n",
              "514  https://www.avito.ru/obninsk/avtomobili/opel_a...  \n",
              "515  https://www.avito.ru/sankt-peterburg/avtomobil...  \n",
              "516  https://www.avito.ru/balabanovo/avtomobili/maz...  "
            ],
            "text/html": [
              "\n",
              "  <div id=\"df-8dc09f47-33e6-494c-a890-4d47498694d2\" class=\"colab-df-container\">\n",
              "    <div>\n",
              "<style scoped>\n",
              "    .dataframe tbody tr th:only-of-type {\n",
              "        vertical-align: middle;\n",
              "    }\n",
              "\n",
              "    .dataframe tbody tr th {\n",
              "        vertical-align: top;\n",
              "    }\n",
              "\n",
              "    .dataframe thead th {\n",
              "        text-align: right;\n",
              "    }\n",
              "</style>\n",
              "<table border=\"1\" class=\"dataframe\">\n",
              "  <thead>\n",
              "    <tr style=\"text-align: right;\">\n",
              "      <th></th>\n",
              "      <th>ad_id</th>\n",
              "      <th>title</th>\n",
              "      <th>price</th>\n",
              "      <th>Year</th>\n",
              "      <th>Generation</th>\n",
              "      <th>Mileage</th>\n",
              "      <th>PTS</th>\n",
              "      <th>Condition</th>\n",
              "      <th>Modification</th>\n",
              "      <th>Engine_capacity</th>\n",
              "      <th>Type_engine</th>\n",
              "      <th>Transmission</th>\n",
              "      <th>Body_type</th>\n",
              "      <th>color</th>\n",
              "      <th>seller_type</th>\n",
              "      <th>address</th>\n",
              "      <th>current_url</th>\n",
              "    </tr>\n",
              "  </thead>\n",
              "  <tbody>\n",
              "    <tr>\n",
              "      <th>512</th>\n",
              "      <td>№ 3450776471</td>\n",
              "      <td>Datsun on-DO 1.6 MT</td>\n",
              "      <td>527000</td>\n",
              "      <td>2014</td>\n",
              "      <td>I (2014—2019)</td>\n",
              "      <td>121000</td>\n",
              "      <td>2</td>\n",
              "      <td>Не битый</td>\n",
              "      <td>1.6 MT (87 л.с.)</td>\n",
              "      <td>1.6 л</td>\n",
              "      <td>Бензин</td>\n",
              "      <td>Механика</td>\n",
              "      <td>Седан</td>\n",
              "      <td>Бордовый</td>\n",
              "      <td>Автодилер</td>\n",
              "      <td>Московская область, г.о. Мытищи, пос. Нагорное...</td>\n",
              "      <td>https://www.avito.ru/moskva/avtomobili/datsun_...</td>\n",
              "    </tr>\n",
              "    <tr>\n",
              "      <th>513</th>\n",
              "      <td>№ 2937704797</td>\n",
              "      <td>Renault Latitude 2.0 CVT</td>\n",
              "      <td>770000</td>\n",
              "      <td>2013</td>\n",
              "      <td>I (2010—2013)</td>\n",
              "      <td>237000</td>\n",
              "      <td>3</td>\n",
              "      <td>Не битый</td>\n",
              "      <td>2.0 CVT (139 л.с.)</td>\n",
              "      <td>2 л</td>\n",
              "      <td>Бензин</td>\n",
              "      <td>Вариатор</td>\n",
              "      <td>Седан</td>\n",
              "      <td>Чёрный</td>\n",
              "      <td>Частное лицо</td>\n",
              "      <td>Республика Карелия, Петрозаводский г.о., Петро...</td>\n",
              "      <td>https://www.avito.ru/petrozavodsk/avtomobili/r...</td>\n",
              "    </tr>\n",
              "    <tr>\n",
              "      <th>514</th>\n",
              "      <td>№ 3356494422</td>\n",
              "      <td>Opel Astra 1.6 MT</td>\n",
              "      <td>980000</td>\n",
              "      <td>2013</td>\n",
              "      <td>J рестайлинг (2012—2018)</td>\n",
              "      <td>176000</td>\n",
              "      <td>2</td>\n",
              "      <td>Не битый</td>\n",
              "      <td>1.6 MT (115 л.с.)</td>\n",
              "      <td>1.6 л</td>\n",
              "      <td>Бензин</td>\n",
              "      <td>Механика</td>\n",
              "      <td>Хетчбек 5-дверный</td>\n",
              "      <td>Чёрный</td>\n",
              "      <td>Частное лицо</td>\n",
              "      <td>Калужская область, Обнинск</td>\n",
              "      <td>https://www.avito.ru/obninsk/avtomobili/opel_a...</td>\n",
              "    </tr>\n",
              "    <tr>\n",
              "      <th>515</th>\n",
              "      <td>№ 3532422048</td>\n",
              "      <td>Chevrolet Cruze 1.6 AT</td>\n",
              "      <td>850000</td>\n",
              "      <td>2013</td>\n",
              "      <td>I рестайлинг (2012—2015)</td>\n",
              "      <td>161000</td>\n",
              "      <td>2</td>\n",
              "      <td>Не битый</td>\n",
              "      <td>1.6 AT (109 л.с.)</td>\n",
              "      <td>1.6 л</td>\n",
              "      <td>Бензин</td>\n",
              "      <td>Автомат</td>\n",
              "      <td>Хетчбек 5-дверный</td>\n",
              "      <td>Белый</td>\n",
              "      <td>Частное лицо</td>\n",
              "      <td>Санкт-Петербург, Дальневосточный пр-т, 69к5</td>\n",
              "      <td>https://www.avito.ru/sankt-peterburg/avtomobil...</td>\n",
              "    </tr>\n",
              "    <tr>\n",
              "      <th>516</th>\n",
              "      <td>№ 3297239619</td>\n",
              "      <td>Mazda 3 1.6 AT</td>\n",
              "      <td>875000</td>\n",
              "      <td>2011</td>\n",
              "      <td>BL (2008—2011)</td>\n",
              "      <td>186500</td>\n",
              "      <td>6</td>\n",
              "      <td>Не битый</td>\n",
              "      <td>1.6 AT (105 л.с.)</td>\n",
              "      <td>1.6 л</td>\n",
              "      <td>Бензин</td>\n",
              "      <td>Автомат</td>\n",
              "      <td>Седан</td>\n",
              "      <td>Белый</td>\n",
              "      <td>Частное лицо</td>\n",
              "      <td>Калужская область, Боровский р-н, городское по...</td>\n",
              "      <td>https://www.avito.ru/balabanovo/avtomobili/maz...</td>\n",
              "    </tr>\n",
              "  </tbody>\n",
              "</table>\n",
              "</div>\n",
              "    <div class=\"colab-df-buttons\">\n",
              "\n",
              "  <div class=\"colab-df-container\">\n",
              "    <button class=\"colab-df-convert\" onclick=\"convertToInteractive('df-8dc09f47-33e6-494c-a890-4d47498694d2')\"\n",
              "            title=\"Convert this dataframe to an interactive table.\"\n",
              "            style=\"display:none;\">\n",
              "\n",
              "  <svg xmlns=\"http://www.w3.org/2000/svg\" height=\"24px\" viewBox=\"0 -960 960 960\">\n",
              "    <path d=\"M120-120v-720h720v720H120Zm60-500h600v-160H180v160Zm220 220h160v-160H400v160Zm0 220h160v-160H400v160ZM180-400h160v-160H180v160Zm440 0h160v-160H620v160ZM180-180h160v-160H180v160Zm440 0h160v-160H620v160Z\"/>\n",
              "  </svg>\n",
              "    </button>\n",
              "\n",
              "  <style>\n",
              "    .colab-df-container {\n",
              "      display:flex;\n",
              "      gap: 12px;\n",
              "    }\n",
              "\n",
              "    .colab-df-convert {\n",
              "      background-color: #E8F0FE;\n",
              "      border: none;\n",
              "      border-radius: 50%;\n",
              "      cursor: pointer;\n",
              "      display: none;\n",
              "      fill: #1967D2;\n",
              "      height: 32px;\n",
              "      padding: 0 0 0 0;\n",
              "      width: 32px;\n",
              "    }\n",
              "\n",
              "    .colab-df-convert:hover {\n",
              "      background-color: #E2EBFA;\n",
              "      box-shadow: 0px 1px 2px rgba(60, 64, 67, 0.3), 0px 1px 3px 1px rgba(60, 64, 67, 0.15);\n",
              "      fill: #174EA6;\n",
              "    }\n",
              "\n",
              "    .colab-df-buttons div {\n",
              "      margin-bottom: 4px;\n",
              "    }\n",
              "\n",
              "    [theme=dark] .colab-df-convert {\n",
              "      background-color: #3B4455;\n",
              "      fill: #D2E3FC;\n",
              "    }\n",
              "\n",
              "    [theme=dark] .colab-df-convert:hover {\n",
              "      background-color: #434B5C;\n",
              "      box-shadow: 0px 1px 3px 1px rgba(0, 0, 0, 0.15);\n",
              "      filter: drop-shadow(0px 1px 2px rgba(0, 0, 0, 0.3));\n",
              "      fill: #FFFFFF;\n",
              "    }\n",
              "  </style>\n",
              "\n",
              "    <script>\n",
              "      const buttonEl =\n",
              "        document.querySelector('#df-8dc09f47-33e6-494c-a890-4d47498694d2 button.colab-df-convert');\n",
              "      buttonEl.style.display =\n",
              "        google.colab.kernel.accessAllowed ? 'block' : 'none';\n",
              "\n",
              "      async function convertToInteractive(key) {\n",
              "        const element = document.querySelector('#df-8dc09f47-33e6-494c-a890-4d47498694d2');\n",
              "        const dataTable =\n",
              "          await google.colab.kernel.invokeFunction('convertToInteractive',\n",
              "                                                    [key], {});\n",
              "        if (!dataTable) return;\n",
              "\n",
              "        const docLinkHtml = 'Like what you see? Visit the ' +\n",
              "          '<a target=\"_blank\" href=https://colab.research.google.com/notebooks/data_table.ipynb>data table notebook</a>'\n",
              "          + ' to learn more about interactive tables.';\n",
              "        element.innerHTML = '';\n",
              "        dataTable['output_type'] = 'display_data';\n",
              "        await google.colab.output.renderOutput(dataTable, element);\n",
              "        const docLink = document.createElement('div');\n",
              "        docLink.innerHTML = docLinkHtml;\n",
              "        element.appendChild(docLink);\n",
              "      }\n",
              "    </script>\n",
              "  </div>\n",
              "\n",
              "\n",
              "<div id=\"df-1f11e53f-60b8-4595-b087-91e6420fdb71\">\n",
              "  <button class=\"colab-df-quickchart\" onclick=\"quickchart('df-1f11e53f-60b8-4595-b087-91e6420fdb71')\"\n",
              "            title=\"Suggest charts.\"\n",
              "            style=\"display:none;\">\n",
              "\n",
              "<svg xmlns=\"http://www.w3.org/2000/svg\" height=\"24px\"viewBox=\"0 0 24 24\"\n",
              "     width=\"24px\">\n",
              "    <g>\n",
              "        <path d=\"M19 3H5c-1.1 0-2 .9-2 2v14c0 1.1.9 2 2 2h14c1.1 0 2-.9 2-2V5c0-1.1-.9-2-2-2zM9 17H7v-7h2v7zm4 0h-2V7h2v10zm4 0h-2v-4h2v4z\"/>\n",
              "    </g>\n",
              "</svg>\n",
              "  </button>\n",
              "\n",
              "<style>\n",
              "  .colab-df-quickchart {\n",
              "      --bg-color: #E8F0FE;\n",
              "      --fill-color: #1967D2;\n",
              "      --hover-bg-color: #E2EBFA;\n",
              "      --hover-fill-color: #174EA6;\n",
              "      --disabled-fill-color: #AAA;\n",
              "      --disabled-bg-color: #DDD;\n",
              "  }\n",
              "\n",
              "  [theme=dark] .colab-df-quickchart {\n",
              "      --bg-color: #3B4455;\n",
              "      --fill-color: #D2E3FC;\n",
              "      --hover-bg-color: #434B5C;\n",
              "      --hover-fill-color: #FFFFFF;\n",
              "      --disabled-bg-color: #3B4455;\n",
              "      --disabled-fill-color: #666;\n",
              "  }\n",
              "\n",
              "  .colab-df-quickchart {\n",
              "    background-color: var(--bg-color);\n",
              "    border: none;\n",
              "    border-radius: 50%;\n",
              "    cursor: pointer;\n",
              "    display: none;\n",
              "    fill: var(--fill-color);\n",
              "    height: 32px;\n",
              "    padding: 0;\n",
              "    width: 32px;\n",
              "  }\n",
              "\n",
              "  .colab-df-quickchart:hover {\n",
              "    background-color: var(--hover-bg-color);\n",
              "    box-shadow: 0 1px 2px rgba(60, 64, 67, 0.3), 0 1px 3px 1px rgba(60, 64, 67, 0.15);\n",
              "    fill: var(--button-hover-fill-color);\n",
              "  }\n",
              "\n",
              "  .colab-df-quickchart-complete:disabled,\n",
              "  .colab-df-quickchart-complete:disabled:hover {\n",
              "    background-color: var(--disabled-bg-color);\n",
              "    fill: var(--disabled-fill-color);\n",
              "    box-shadow: none;\n",
              "  }\n",
              "\n",
              "  .colab-df-spinner {\n",
              "    border: 2px solid var(--fill-color);\n",
              "    border-color: transparent;\n",
              "    border-bottom-color: var(--fill-color);\n",
              "    animation:\n",
              "      spin 1s steps(1) infinite;\n",
              "  }\n",
              "\n",
              "  @keyframes spin {\n",
              "    0% {\n",
              "      border-color: transparent;\n",
              "      border-bottom-color: var(--fill-color);\n",
              "      border-left-color: var(--fill-color);\n",
              "    }\n",
              "    20% {\n",
              "      border-color: transparent;\n",
              "      border-left-color: var(--fill-color);\n",
              "      border-top-color: var(--fill-color);\n",
              "    }\n",
              "    30% {\n",
              "      border-color: transparent;\n",
              "      border-left-color: var(--fill-color);\n",
              "      border-top-color: var(--fill-color);\n",
              "      border-right-color: var(--fill-color);\n",
              "    }\n",
              "    40% {\n",
              "      border-color: transparent;\n",
              "      border-right-color: var(--fill-color);\n",
              "      border-top-color: var(--fill-color);\n",
              "    }\n",
              "    60% {\n",
              "      border-color: transparent;\n",
              "      border-right-color: var(--fill-color);\n",
              "    }\n",
              "    80% {\n",
              "      border-color: transparent;\n",
              "      border-right-color: var(--fill-color);\n",
              "      border-bottom-color: var(--fill-color);\n",
              "    }\n",
              "    90% {\n",
              "      border-color: transparent;\n",
              "      border-bottom-color: var(--fill-color);\n",
              "    }\n",
              "  }\n",
              "</style>\n",
              "\n",
              "  <script>\n",
              "    async function quickchart(key) {\n",
              "      const quickchartButtonEl =\n",
              "        document.querySelector('#' + key + ' button');\n",
              "      quickchartButtonEl.disabled = true;  // To prevent multiple clicks.\n",
              "      quickchartButtonEl.classList.add('colab-df-spinner');\n",
              "      try {\n",
              "        const charts = await google.colab.kernel.invokeFunction(\n",
              "            'suggestCharts', [key], {});\n",
              "      } catch (error) {\n",
              "        console.error('Error during call to suggestCharts:', error);\n",
              "      }\n",
              "      quickchartButtonEl.classList.remove('colab-df-spinner');\n",
              "      quickchartButtonEl.classList.add('colab-df-quickchart-complete');\n",
              "    }\n",
              "    (() => {\n",
              "      let quickchartButtonEl =\n",
              "        document.querySelector('#df-1f11e53f-60b8-4595-b087-91e6420fdb71 button');\n",
              "      quickchartButtonEl.style.display =\n",
              "        google.colab.kernel.accessAllowed ? 'block' : 'none';\n",
              "    })();\n",
              "  </script>\n",
              "</div>\n",
              "    </div>\n",
              "  </div>\n"
            ]
          },
          "metadata": {},
          "execution_count": 2
        }
      ]
    },
    {
      "cell_type": "code",
      "source": [
        "#отображения чисел с плавающей запятой в pandas\n",
        "pd.set_option('display.float_format', '{:.2f}'.format)"
      ],
      "metadata": {
        "id": "hXOFbHg_90KM"
      },
      "execution_count": null,
      "outputs": []
    },
    {
      "cell_type": "code",
      "source": [
        "# Используем регулярные выражения для разделения столбца\n",
        "data['Power'] = data['Modification'].str.extract(r'\\((\\d+)')\n",
        "data.drop('Modification', axis=1, inplace=True)\n",
        "data['Engine_capacity']=data['Engine_capacity'].str.replace(' л','')\n",
        "data['Engine_capacity'] = data['Engine_capacity'].astype(float)\n",
        "data['Power'] = data['Power'].astype(int)"
      ],
      "metadata": {
        "id": "51CbKD2yAwXr"
      },
      "execution_count": null,
      "outputs": []
    },
    {
      "cell_type": "code",
      "source": [
        "#@markdown **Количество строк и столбцов**\n",
        "data.shape"
      ],
      "metadata": {
        "colab": {
          "base_uri": "https://localhost:8080/"
        },
        "id": "_v1ScvmgqsiG",
        "outputId": "91b7e447-0942-4b3c-e610-152941a68993",
        "cellView": "form"
      },
      "execution_count": null,
      "outputs": [
        {
          "output_type": "execute_result",
          "data": {
            "text/plain": [
              "(517, 17)"
            ]
          },
          "metadata": {},
          "execution_count": 5
        }
      ]
    },
    {
      "cell_type": "code",
      "source": [
        "#@markdown **Описательные статистики**\n",
        "data.describe()"
      ],
      "metadata": {
        "colab": {
          "base_uri": "https://localhost:8080/",
          "height": 301
        },
        "id": "1-bN9PGhqwoy",
        "outputId": "8d37897e-e9d1-4d64-b452-adbfa2e8ea80",
        "cellView": "form"
      },
      "execution_count": null,
      "outputs": [
        {
          "output_type": "execute_result",
          "data": {
            "text/plain": [
              "           price    Year   Mileage  Engine_capacity  Power\n",
              "count     517.00  517.00    517.00           517.00 517.00\n",
              "mean   860734.24 2013.71 146866.38             1.57 115.09\n",
              "std    149290.34    2.34  40286.80             0.15  16.68\n",
              "min    450000.00 2011.00     10.00             1.20  70.00\n",
              "25%    750000.00 2012.00 120000.00             1.60 105.00\n",
              "50%    860000.00 2013.00 152775.00             1.60 110.00\n",
              "75%    980000.00 2015.00 179861.00             1.60 123.00\n",
              "max   1100000.00 2022.00 286000.00             2.30 200.00"
            ],
            "text/html": [
              "\n",
              "  <div id=\"df-b7e2b45e-13ea-4eba-b769-fac266344b1f\" class=\"colab-df-container\">\n",
              "    <div>\n",
              "<style scoped>\n",
              "    .dataframe tbody tr th:only-of-type {\n",
              "        vertical-align: middle;\n",
              "    }\n",
              "\n",
              "    .dataframe tbody tr th {\n",
              "        vertical-align: top;\n",
              "    }\n",
              "\n",
              "    .dataframe thead th {\n",
              "        text-align: right;\n",
              "    }\n",
              "</style>\n",
              "<table border=\"1\" class=\"dataframe\">\n",
              "  <thead>\n",
              "    <tr style=\"text-align: right;\">\n",
              "      <th></th>\n",
              "      <th>price</th>\n",
              "      <th>Year</th>\n",
              "      <th>Mileage</th>\n",
              "      <th>Engine_capacity</th>\n",
              "      <th>Power</th>\n",
              "    </tr>\n",
              "  </thead>\n",
              "  <tbody>\n",
              "    <tr>\n",
              "      <th>count</th>\n",
              "      <td>517.00</td>\n",
              "      <td>517.00</td>\n",
              "      <td>517.00</td>\n",
              "      <td>517.00</td>\n",
              "      <td>517.00</td>\n",
              "    </tr>\n",
              "    <tr>\n",
              "      <th>mean</th>\n",
              "      <td>860734.24</td>\n",
              "      <td>2013.71</td>\n",
              "      <td>146866.38</td>\n",
              "      <td>1.57</td>\n",
              "      <td>115.09</td>\n",
              "    </tr>\n",
              "    <tr>\n",
              "      <th>std</th>\n",
              "      <td>149290.34</td>\n",
              "      <td>2.34</td>\n",
              "      <td>40286.80</td>\n",
              "      <td>0.15</td>\n",
              "      <td>16.68</td>\n",
              "    </tr>\n",
              "    <tr>\n",
              "      <th>min</th>\n",
              "      <td>450000.00</td>\n",
              "      <td>2011.00</td>\n",
              "      <td>10.00</td>\n",
              "      <td>1.20</td>\n",
              "      <td>70.00</td>\n",
              "    </tr>\n",
              "    <tr>\n",
              "      <th>25%</th>\n",
              "      <td>750000.00</td>\n",
              "      <td>2012.00</td>\n",
              "      <td>120000.00</td>\n",
              "      <td>1.60</td>\n",
              "      <td>105.00</td>\n",
              "    </tr>\n",
              "    <tr>\n",
              "      <th>50%</th>\n",
              "      <td>860000.00</td>\n",
              "      <td>2013.00</td>\n",
              "      <td>152775.00</td>\n",
              "      <td>1.60</td>\n",
              "      <td>110.00</td>\n",
              "    </tr>\n",
              "    <tr>\n",
              "      <th>75%</th>\n",
              "      <td>980000.00</td>\n",
              "      <td>2015.00</td>\n",
              "      <td>179861.00</td>\n",
              "      <td>1.60</td>\n",
              "      <td>123.00</td>\n",
              "    </tr>\n",
              "    <tr>\n",
              "      <th>max</th>\n",
              "      <td>1100000.00</td>\n",
              "      <td>2022.00</td>\n",
              "      <td>286000.00</td>\n",
              "      <td>2.30</td>\n",
              "      <td>200.00</td>\n",
              "    </tr>\n",
              "  </tbody>\n",
              "</table>\n",
              "</div>\n",
              "    <div class=\"colab-df-buttons\">\n",
              "\n",
              "  <div class=\"colab-df-container\">\n",
              "    <button class=\"colab-df-convert\" onclick=\"convertToInteractive('df-b7e2b45e-13ea-4eba-b769-fac266344b1f')\"\n",
              "            title=\"Convert this dataframe to an interactive table.\"\n",
              "            style=\"display:none;\">\n",
              "\n",
              "  <svg xmlns=\"http://www.w3.org/2000/svg\" height=\"24px\" viewBox=\"0 -960 960 960\">\n",
              "    <path d=\"M120-120v-720h720v720H120Zm60-500h600v-160H180v160Zm220 220h160v-160H400v160Zm0 220h160v-160H400v160ZM180-400h160v-160H180v160Zm440 0h160v-160H620v160ZM180-180h160v-160H180v160Zm440 0h160v-160H620v160Z\"/>\n",
              "  </svg>\n",
              "    </button>\n",
              "\n",
              "  <style>\n",
              "    .colab-df-container {\n",
              "      display:flex;\n",
              "      gap: 12px;\n",
              "    }\n",
              "\n",
              "    .colab-df-convert {\n",
              "      background-color: #E8F0FE;\n",
              "      border: none;\n",
              "      border-radius: 50%;\n",
              "      cursor: pointer;\n",
              "      display: none;\n",
              "      fill: #1967D2;\n",
              "      height: 32px;\n",
              "      padding: 0 0 0 0;\n",
              "      width: 32px;\n",
              "    }\n",
              "\n",
              "    .colab-df-convert:hover {\n",
              "      background-color: #E2EBFA;\n",
              "      box-shadow: 0px 1px 2px rgba(60, 64, 67, 0.3), 0px 1px 3px 1px rgba(60, 64, 67, 0.15);\n",
              "      fill: #174EA6;\n",
              "    }\n",
              "\n",
              "    .colab-df-buttons div {\n",
              "      margin-bottom: 4px;\n",
              "    }\n",
              "\n",
              "    [theme=dark] .colab-df-convert {\n",
              "      background-color: #3B4455;\n",
              "      fill: #D2E3FC;\n",
              "    }\n",
              "\n",
              "    [theme=dark] .colab-df-convert:hover {\n",
              "      background-color: #434B5C;\n",
              "      box-shadow: 0px 1px 3px 1px rgba(0, 0, 0, 0.15);\n",
              "      filter: drop-shadow(0px 1px 2px rgba(0, 0, 0, 0.3));\n",
              "      fill: #FFFFFF;\n",
              "    }\n",
              "  </style>\n",
              "\n",
              "    <script>\n",
              "      const buttonEl =\n",
              "        document.querySelector('#df-b7e2b45e-13ea-4eba-b769-fac266344b1f button.colab-df-convert');\n",
              "      buttonEl.style.display =\n",
              "        google.colab.kernel.accessAllowed ? 'block' : 'none';\n",
              "\n",
              "      async function convertToInteractive(key) {\n",
              "        const element = document.querySelector('#df-b7e2b45e-13ea-4eba-b769-fac266344b1f');\n",
              "        const dataTable =\n",
              "          await google.colab.kernel.invokeFunction('convertToInteractive',\n",
              "                                                    [key], {});\n",
              "        if (!dataTable) return;\n",
              "\n",
              "        const docLinkHtml = 'Like what you see? Visit the ' +\n",
              "          '<a target=\"_blank\" href=https://colab.research.google.com/notebooks/data_table.ipynb>data table notebook</a>'\n",
              "          + ' to learn more about interactive tables.';\n",
              "        element.innerHTML = '';\n",
              "        dataTable['output_type'] = 'display_data';\n",
              "        await google.colab.output.renderOutput(dataTable, element);\n",
              "        const docLink = document.createElement('div');\n",
              "        docLink.innerHTML = docLinkHtml;\n",
              "        element.appendChild(docLink);\n",
              "      }\n",
              "    </script>\n",
              "  </div>\n",
              "\n",
              "\n",
              "<div id=\"df-61892574-054d-4b78-8b49-d28ba9f0b0a0\">\n",
              "  <button class=\"colab-df-quickchart\" onclick=\"quickchart('df-61892574-054d-4b78-8b49-d28ba9f0b0a0')\"\n",
              "            title=\"Suggest charts.\"\n",
              "            style=\"display:none;\">\n",
              "\n",
              "<svg xmlns=\"http://www.w3.org/2000/svg\" height=\"24px\"viewBox=\"0 0 24 24\"\n",
              "     width=\"24px\">\n",
              "    <g>\n",
              "        <path d=\"M19 3H5c-1.1 0-2 .9-2 2v14c0 1.1.9 2 2 2h14c1.1 0 2-.9 2-2V5c0-1.1-.9-2-2-2zM9 17H7v-7h2v7zm4 0h-2V7h2v10zm4 0h-2v-4h2v4z\"/>\n",
              "    </g>\n",
              "</svg>\n",
              "  </button>\n",
              "\n",
              "<style>\n",
              "  .colab-df-quickchart {\n",
              "      --bg-color: #E8F0FE;\n",
              "      --fill-color: #1967D2;\n",
              "      --hover-bg-color: #E2EBFA;\n",
              "      --hover-fill-color: #174EA6;\n",
              "      --disabled-fill-color: #AAA;\n",
              "      --disabled-bg-color: #DDD;\n",
              "  }\n",
              "\n",
              "  [theme=dark] .colab-df-quickchart {\n",
              "      --bg-color: #3B4455;\n",
              "      --fill-color: #D2E3FC;\n",
              "      --hover-bg-color: #434B5C;\n",
              "      --hover-fill-color: #FFFFFF;\n",
              "      --disabled-bg-color: #3B4455;\n",
              "      --disabled-fill-color: #666;\n",
              "  }\n",
              "\n",
              "  .colab-df-quickchart {\n",
              "    background-color: var(--bg-color);\n",
              "    border: none;\n",
              "    border-radius: 50%;\n",
              "    cursor: pointer;\n",
              "    display: none;\n",
              "    fill: var(--fill-color);\n",
              "    height: 32px;\n",
              "    padding: 0;\n",
              "    width: 32px;\n",
              "  }\n",
              "\n",
              "  .colab-df-quickchart:hover {\n",
              "    background-color: var(--hover-bg-color);\n",
              "    box-shadow: 0 1px 2px rgba(60, 64, 67, 0.3), 0 1px 3px 1px rgba(60, 64, 67, 0.15);\n",
              "    fill: var(--button-hover-fill-color);\n",
              "  }\n",
              "\n",
              "  .colab-df-quickchart-complete:disabled,\n",
              "  .colab-df-quickchart-complete:disabled:hover {\n",
              "    background-color: var(--disabled-bg-color);\n",
              "    fill: var(--disabled-fill-color);\n",
              "    box-shadow: none;\n",
              "  }\n",
              "\n",
              "  .colab-df-spinner {\n",
              "    border: 2px solid var(--fill-color);\n",
              "    border-color: transparent;\n",
              "    border-bottom-color: var(--fill-color);\n",
              "    animation:\n",
              "      spin 1s steps(1) infinite;\n",
              "  }\n",
              "\n",
              "  @keyframes spin {\n",
              "    0% {\n",
              "      border-color: transparent;\n",
              "      border-bottom-color: var(--fill-color);\n",
              "      border-left-color: var(--fill-color);\n",
              "    }\n",
              "    20% {\n",
              "      border-color: transparent;\n",
              "      border-left-color: var(--fill-color);\n",
              "      border-top-color: var(--fill-color);\n",
              "    }\n",
              "    30% {\n",
              "      border-color: transparent;\n",
              "      border-left-color: var(--fill-color);\n",
              "      border-top-color: var(--fill-color);\n",
              "      border-right-color: var(--fill-color);\n",
              "    }\n",
              "    40% {\n",
              "      border-color: transparent;\n",
              "      border-right-color: var(--fill-color);\n",
              "      border-top-color: var(--fill-color);\n",
              "    }\n",
              "    60% {\n",
              "      border-color: transparent;\n",
              "      border-right-color: var(--fill-color);\n",
              "    }\n",
              "    80% {\n",
              "      border-color: transparent;\n",
              "      border-right-color: var(--fill-color);\n",
              "      border-bottom-color: var(--fill-color);\n",
              "    }\n",
              "    90% {\n",
              "      border-color: transparent;\n",
              "      border-bottom-color: var(--fill-color);\n",
              "    }\n",
              "  }\n",
              "</style>\n",
              "\n",
              "  <script>\n",
              "    async function quickchart(key) {\n",
              "      const quickchartButtonEl =\n",
              "        document.querySelector('#' + key + ' button');\n",
              "      quickchartButtonEl.disabled = true;  // To prevent multiple clicks.\n",
              "      quickchartButtonEl.classList.add('colab-df-spinner');\n",
              "      try {\n",
              "        const charts = await google.colab.kernel.invokeFunction(\n",
              "            'suggestCharts', [key], {});\n",
              "      } catch (error) {\n",
              "        console.error('Error during call to suggestCharts:', error);\n",
              "      }\n",
              "      quickchartButtonEl.classList.remove('colab-df-spinner');\n",
              "      quickchartButtonEl.classList.add('colab-df-quickchart-complete');\n",
              "    }\n",
              "    (() => {\n",
              "      let quickchartButtonEl =\n",
              "        document.querySelector('#df-61892574-054d-4b78-8b49-d28ba9f0b0a0 button');\n",
              "      quickchartButtonEl.style.display =\n",
              "        google.colab.kernel.accessAllowed ? 'block' : 'none';\n",
              "    })();\n",
              "  </script>\n",
              "</div>\n",
              "    </div>\n",
              "  </div>\n"
            ]
          },
          "metadata": {},
          "execution_count": 6
        }
      ]
    },
    {
      "cell_type": "code",
      "source": [
        "#@markdown **Типы данных**\n",
        "data.info()"
      ],
      "metadata": {
        "colab": {
          "base_uri": "https://localhost:8080/"
        },
        "id": "0pk3e1XVq1FW",
        "outputId": "53a38558-4262-4a10-8182-ce8f8888f735",
        "cellView": "form"
      },
      "execution_count": null,
      "outputs": [
        {
          "output_type": "stream",
          "name": "stdout",
          "text": [
            "<class 'pandas.core.frame.DataFrame'>\n",
            "RangeIndex: 517 entries, 0 to 516\n",
            "Data columns (total 17 columns):\n",
            " #   Column           Non-Null Count  Dtype  \n",
            "---  ------           --------------  -----  \n",
            " 0   ad_id            517 non-null    object \n",
            " 1   title            517 non-null    object \n",
            " 2   price            517 non-null    int64  \n",
            " 3   Year             517 non-null    int64  \n",
            " 4   Generation       517 non-null    object \n",
            " 5   Mileage          517 non-null    int64  \n",
            " 6   PTS              517 non-null    object \n",
            " 7   Condition        517 non-null    object \n",
            " 8   Engine_capacity  517 non-null    float64\n",
            " 9   Type_engine      517 non-null    object \n",
            " 10  Transmission     517 non-null    object \n",
            " 11  Body_type        517 non-null    object \n",
            " 12  color            517 non-null    object \n",
            " 13  seller_type      517 non-null    object \n",
            " 14  address          517 non-null    object \n",
            " 15  current_url      517 non-null    object \n",
            " 16  Power            517 non-null    int64  \n",
            "dtypes: float64(1), int64(4), object(12)\n",
            "memory usage: 68.8+ KB\n"
          ]
        }
      ]
    },
    {
      "cell_type": "code",
      "source": [
        "#@markdown **Ищу пропущенные значения**\n",
        "data.isnull().sum()"
      ],
      "metadata": {
        "colab": {
          "base_uri": "https://localhost:8080/"
        },
        "id": "609SJLXVq7rb",
        "outputId": "728cbf72-9d14-434f-d27e-59e4d80f6668",
        "cellView": "form"
      },
      "execution_count": null,
      "outputs": [
        {
          "output_type": "execute_result",
          "data": {
            "text/plain": [
              "ad_id              0\n",
              "title              0\n",
              "price              0\n",
              "Year               0\n",
              "Generation         0\n",
              "Mileage            0\n",
              "PTS                0\n",
              "Condition          0\n",
              "Engine_capacity    0\n",
              "Type_engine        0\n",
              "Transmission       0\n",
              "Body_type          0\n",
              "color              0\n",
              "seller_type        0\n",
              "address            0\n",
              "current_url        0\n",
              "Power              0\n",
              "dtype: int64"
            ]
          },
          "metadata": {},
          "execution_count": 8
        }
      ]
    },
    {
      "cell_type": "code",
      "source": [
        "#@markdown **Поиск дубликатов**\n",
        "data.duplicated().sum()"
      ],
      "metadata": {
        "colab": {
          "base_uri": "https://localhost:8080/"
        },
        "id": "0GrVNp_qq9Aw",
        "outputId": "1c2eb232-1531-4bb1-b293-75ab4a2d6be6",
        "cellView": "form"
      },
      "execution_count": null,
      "outputs": [
        {
          "output_type": "execute_result",
          "data": {
            "text/plain": [
              "0"
            ]
          },
          "metadata": {},
          "execution_count": 9
        }
      ]
    },
    {
      "cell_type": "code",
      "source": [],
      "metadata": {
        "id": "MlxfLClAXItL"
      },
      "execution_count": null,
      "outputs": []
    },
    {
      "cell_type": "code",
      "source": [
        "#@markdown **Узнаем 75% самых старых автомиблей**\n",
        "_old_cars = data.loc[data['Year'] <= data['Year'].quantile(0.25)]['title'].count()\n",
        "year_75 = data['Year'].quantile(0.25)\n",
        "print(f\"{_old_cars} Автомобилей c годом {year_75}\")"
      ],
      "metadata": {
        "colab": {
          "base_uri": "https://localhost:8080/"
        },
        "id": "t9BIay2svpte",
        "outputId": "ac2dea92-8da1-4efb-ce6a-f62ee0f9b309",
        "cellView": "form"
      },
      "execution_count": null,
      "outputs": [
        {
          "output_type": "stream",
          "name": "stdout",
          "text": [
            "192 Автомобилей c годом 2012.0\n"
          ]
        }
      ]
    },
    {
      "cell_type": "code",
      "source": [
        "#@markdown **Узнаем средний год выпуска автомиблей**\n",
        "_median_cars = data.loc[data['Year'] == data['Year'].median()]['title'].count()\n",
        "year_median = data['Year'].median()\n",
        "print(f\"{_median_cars} Автомобилей c годом {year_median}\")"
      ],
      "metadata": {
        "colab": {
          "base_uri": "https://localhost:8080/"
        },
        "id": "H9wm9b81zQYA",
        "outputId": "737cc141-37f8-4fdd-95ac-daf1092d4721",
        "cellView": "form"
      },
      "execution_count": null,
      "outputs": [
        {
          "output_type": "stream",
          "name": "stdout",
          "text": [
            "91 Автомобилей c годом 2013.0\n"
          ]
        }
      ]
    },
    {
      "cell_type": "code",
      "source": [
        "#@markdown **Узнаем сколько самых молодых автомобилей**\n",
        "_young_cars = data.loc[data['Year'] >= data['Year'].quantile(0.75)]['title'].count()\n",
        "year_young = data['Year'].quantile(0.85)\n",
        "print(f\"{_young_cars} Автомобилей c годом от {year_young}\")"
      ],
      "metadata": {
        "colab": {
          "base_uri": "https://localhost:8080/"
        },
        "id": "tItXNGAwysgc",
        "outputId": "968b3a91-54ac-4835-81bc-7fcbc8e5a913",
        "cellView": "form"
      },
      "execution_count": null,
      "outputs": [
        {
          "output_type": "stream",
          "name": "stdout",
          "text": [
            "157 Автомобилей c годом от 2016.0\n"
          ]
        }
      ]
    },
    {
      "cell_type": "markdown",
      "source": [
        "#Изменяю типы данных\n"
      ],
      "metadata": {
        "id": "FJhoQ0N_rIqw"
      }
    },
    {
      "cell_type": "code",
      "source": [
        "data['PTS'] =  data['PTS'].str.replace('+','')\n",
        "data['PTS'] = data['PTS'].astype('int')"
      ],
      "metadata": {
        "id": "JnqddOt2rM2m"
      },
      "execution_count": null,
      "outputs": []
    },
    {
      "cell_type": "code",
      "source": [
        "models = [\n",
        "    'ford focus',\n",
        "    'kia rio',\n",
        "    'Volkswagen Polo',\n",
        "    'Hyundai Solaris',\n",
        "    'Peugeot 308',\n",
        "    'Peugeot 408',\n",
        "    'Skoda Rapid',\n",
        "    'Kia Ceed',\n",
        "    'Skoda Octavia',\n",
        "    'Ford Mondeo',\n",
        "    'Kia Cerato',\n",
        "    'Volkswagen Jetta',\n",
        "    'Volkswagen Passat',\n",
        "    'Hyundai i30',\n",
        "    'Peugeot 3008',\n",
        "    'Toyota Avensis',\n",
        "    'Peugeot 107',\n",
        "    'Peugeot 4007',\n",
        "    'Peugeot 508',\n",
        "    'Peugeot 301',\n",
        "    'Renault Logan',\n",
        "    'Hyundai Elantra',\n",
        "    'Renault Sandero',\n",
        "    'Renault Duster',\n",
        "    'Skoda Fabia',\n",
        "    'Renault Symbol',\n",
        "    'Renault Megane',\n",
        "    'Peugeot 208',\n",
        "    'Peugeot 2008',\n",
        "    'Peugeot 4008',\n",
        "    'Hyundai Accent'\n",
        "]\n",
        "\n",
        "def find_model(title):\n",
        "    for model in models:\n",
        "        if model.lower() in title.lower():\n",
        "            return model\n",
        "    return ''\n",
        "\n",
        "data['model'] = data['title'].apply(find_model)\n"
      ],
      "metadata": {
        "id": "JrSABU3Dtvgg"
      },
      "execution_count": null,
      "outputs": []
    },
    {
      "cell_type": "code",
      "source": [
        "data['model'].unique()"
      ],
      "metadata": {
        "colab": {
          "base_uri": "https://localhost:8080/"
        },
        "id": "3DGQLx3K8aZT",
        "outputId": "7225643e-55e4-41e1-8230-15ed5ba2fcb4"
      },
      "execution_count": null,
      "outputs": [
        {
          "output_type": "execute_result",
          "data": {
            "text/plain": [
              "array(['Hyundai Solaris', 'Skoda Rapid', 'Kia Ceed', 'kia rio',\n",
              "       'Hyundai i30', 'ford focus', 'Ford Mondeo', 'Skoda Fabia',\n",
              "       'Skoda Octavia', 'Peugeot 308', 'vw polo', 'Volkswagen Jetta',\n",
              "       'Kia Cerato', 'Volkswagen Passat', 'Peugeot 3008',\n",
              "       'Hyundai Accent', 'Hyundai Elantra', ''], dtype=object)"
            ]
          },
          "metadata": {},
          "execution_count": 258
        }
      ]
    },
    {
      "cell_type": "markdown",
      "source": [
        "#Фильтрую данные, чтобы остались только частные объявления"
      ],
      "metadata": {
        "id": "6OcF5lq-rWOf"
      }
    },
    {
      "cell_type": "code",
      "source": [
        "diler = ['Автодилер']\n",
        "owner = ['Частное лицо']"
      ],
      "metadata": {
        "id": "Gxy0uT-WbXf8"
      },
      "execution_count": null,
      "outputs": []
    },
    {
      "cell_type": "code",
      "source": [
        "data = data.loc[~data.seller_type.isin(diler)]\n",
        "data = data.loc[data.seller_type.isin(owner)]"
      ],
      "metadata": {
        "id": "5djltefsbjJf"
      },
      "execution_count": null,
      "outputs": []
    },
    {
      "cell_type": "code",
      "source": [],
      "metadata": {
        "id": "fuM6wwwE8gFi"
      },
      "execution_count": null,
      "outputs": []
    },
    {
      "cell_type": "markdown",
      "source": [
        "#Графики\n"
      ],
      "metadata": {
        "id": "5lazENTwrn5v"
      }
    },
    {
      "cell_type": "code",
      "source": [
        "# Средняя цена автомобилей по годам выпуска\n",
        "avg_price_per_year = data.groupby('Year')['price'].mean()"
      ],
      "metadata": {
        "id": "FGEN6FXz33uw"
      },
      "execution_count": null,
      "outputs": []
    },
    {
      "cell_type": "code",
      "source": [
        "# График средней цены автомобилей по годам выпуска\n",
        "avg_price_per_year.plot(kind='bar')\n",
        "plt.title(\"Средняя цена автомобилей по годам\")\n",
        "plt.ylabel(\"Средняя цена\")\n",
        "plt.xlabel(\"Год выпуска\")\n",
        "plt.show()"
      ],
      "metadata": {
        "colab": {
          "base_uri": "https://localhost:8080/",
          "height": 493
        },
        "id": "YCalvAu03zS1",
        "outputId": "1a9c672c-8ae8-4029-c424-34d91c87d066"
      },
      "execution_count": null,
      "outputs": [
        {
          "output_type": "display_data",
          "data": {
            "text/plain": [
              "<Figure size 640x480 with 1 Axes>"
            ],
            "image/png": "[encoded data removed]"
          },
          "metadata": {}
        }
      ]
    },
    {
      "cell_type": "code",
      "source": [
        "plt.figure(figsize=(30,9))\n",
        "sns.countplot(data=sorted_cars, x='model')\n",
        "plt.show()"
      ],
      "metadata": {
        "colab": {
          "base_uri": "https://localhost:8080/",
          "height": 689
        },
        "id": "JtAej79NrqYn",
        "outputId": "2d55564d-a539-4ddd-86a3-fc4406d1fc9d"
      },
      "execution_count": null,
      "outputs": [
        {
          "output_type": "display_data",
          "data": {
            "text/plain": [
              "<Figure size 3000x900 with 1 Axes>"
            ],
            "image/png": "[encoded data removed]"
          },
          "metadata": {}
        }
      ]
    },
    {
      "cell_type": "code",
      "source": [
        "message = f\"\"\"\n",
        "Всего собрано объявлений: *{data.shape[0]}*\n",
        "Средняя цена у автомобилей: *{round(data['price'].mean())} Руб.*\n",
        "Большинство авто: *{_median_cars}* c годом до: *{round(year_median)}*\n",
        "Средний пробег *{round(data['Mileage'].mean())} км*\n",
        "\"\"\"\n",
        "\n",
        "my_bot.sendMessage('-4030974191', message, parse_mode='Markdown')"
      ],
      "metadata": {
        "colab": {
          "base_uri": "https://localhost:8080/"
        },
        "id": "0JXDIyP5oyQm",
        "outputId": "dc7bb28b-f06e-4ea6-b1ad-7b25efd1be11"
      },
      "execution_count": null,
      "outputs": [
        {
          "output_type": "execute_result",
          "data": {
            "text/plain": [
              "{'message_id': 2055,\n",
              " 'from': {'id': 2138397598,\n",
              "  'is_bot': True,\n",
              "  'first_name': 'Avi',\n",
              "  'username': 'AvinotoBot'},\n",
              " 'chat': {'id': -4030974191,\n",
              "  'title': 'Выбираем автомобиль',\n",
              "  'type': 'group',\n",
              "  'all_members_are_administrators': True},\n",
              " 'date': 1695135777,\n",
              " 'text': 'Всего собрано объявлений: 2328\\nСредняя цена у автомобилей: 802201 Руб.\\nБольшинство авто: 422 c годом до: 2013\\nСредний пробег 145243 км',\n",
              " 'entities': [{'offset': 26, 'length': 4, 'type': 'bold'},\n",
              "  {'offset': 59, 'length': 11, 'type': 'bold'},\n",
              "  {'offset': 89, 'length': 3, 'type': 'bold'},\n",
              "  {'offset': 105, 'length': 4, 'type': 'bold'},\n",
              "  {'offset': 125, 'length': 9, 'type': 'bold'}]}"
            ]
          },
          "metadata": {},
          "execution_count": 132
        }
      ]
    },
    {
      "cell_type": "code",
      "source": [
        "#@markdown **Посмотрим на графике распределение автомобилей по годам и цене**\n",
        "\n",
        "#@markdown ***Точки это автомобили***\n",
        "\n",
        "#@markdown ***Зеленая горизонтальная полоса - цена на автомобили ниже рынка***\n",
        "\n",
        "#@markdown ***Выделенная область автомобили которые нас интересуют***\n",
        "\n",
        "\n",
        "plt.figure(figsize=(12, 12))\n",
        "sns.stripplot(data=sorted_cars, x=\"Year\", y=\"price\")\n",
        "# for i in range(len(filter_data['Year'])):\n",
        "#     plt.text(filter_data['Year'][i], filter_data['price'][i], filter_data['title'][i])\n",
        "plt.axhline(y=sorted_cars['price'].quantile(0.25), color='green', label='Цена ниже рынка')\n",
        "plt.axhline(y=sorted_cars['price'].quantile(0.5), color='blue', label='средняя цена по рынку')\n",
        "plt.axhline(y=sorted_cars['price'].quantile(0.75),color='red', label='цена выше рынка')\n",
        "plt.axvline(x='2013', label='Медианный год')\n",
        "# plt.axvspan('2016', '2022', color='#EF9A9A', alpha=0.5)\n",
        "plt.axvline(x='2012', label='25% самых старых автомобилей' )\n",
        "plt.axvline(x='2016',label='25% самых молодых автомобилей', color='green')\n",
        "plt.legend(loc=\"upper right\")\n",
        "\n",
        "x_values = ['2016', '2023']\n",
        "y1_values = [sorted_cars['price'].min()] * len(x_values)\n",
        "y2_values = [sorted_cars['price'].quantile(0.25)] * len(x_values)\n",
        "\n",
        "plt.fill_between(x_values,  y2_values, color='#00FF7F', alpha=0.5)\n",
        "\n",
        "\n",
        "plt.show()\n",
        "# plt.savefig(buf, format='png')\n",
        "# buf.seek(0)\n",
        "# my_bot.sendPhoto('-4030974191', photo=buf, caption=f\"Посмотрим на графике распределение автомобилей по годам и цене\\nТочки это автомобили\\nЗеленая горизонтальная полоса - цена на автомобили ниже рынка\\nВыделенная область автомобили которые нас интересуют\")"
      ],
      "metadata": {
        "colab": {
          "base_uri": "https://localhost:8080/",
          "height": 1000
        },
        "id": "WNZjTtK0vl-k",
        "outputId": "dcbee522-ee73-4ba0-a091-f80e85391a01"
      },
      "execution_count": null,
      "outputs": [
        {
          "output_type": "display_data",
          "data": {
            "text/plain": [
              "<Figure size 1200x1200 with 1 Axes>"
            ],
            "image/png": "[encoded data removed]"
          },
          "metadata": {}
        }
      ]
    },
    {
      "cell_type": "code",
      "source": [],
      "metadata": {
        "id": "-SiORj3V86ga"
      },
      "execution_count": null,
      "outputs": []
    },
    {
      "cell_type": "markdown",
      "source": [
        "![Boxplot.jpg](data:image/jpeg;base64,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)"
      ],
      "metadata": {
        "id": "qRXIkU2UR5ir"
      }
    },
    {
      "cell_type": "code",
      "source": [
        "data.plot(kind='box', subplots=True, layout=(4,4), sharex=False, sharey=False, figsize=(15,18))\n",
        "\n",
        "plt.show()"
      ],
      "metadata": {
        "colab": {
          "base_uri": "https://localhost:8080/",
          "height": 1000
        },
        "id": "QG49VVHvIeis",
        "outputId": "8a4d9103-74b8-41d8-8df2-a4884e3c6f5b"
      },
      "execution_count": null,
      "outputs": [
        {
          "output_type": "display_data",
          "data": {
            "text/plain": [
              "<Figure size 1500x1800 with 16 Axes>"
            ],
            "image/png": "[encoded data removed]"
          },
          "metadata": {}
        }
      ]
    },
    {
      "cell_type": "code",
      "source": [
        "#Есть выбросы их надо удалить\n",
        "for column in ['price', 'Year','Mileage','Power', 'PTS']:\n",
        "\n",
        "    # если столбец числовой\n",
        "  Q1 = data[column].quantile(0.25)\n",
        "  Q3 = data[column].quantile(0.75)\n",
        "  IQR = Q3 - Q1\n",
        "\n",
        "  # Границы выбросов\n",
        "  lower_bound = Q1 - 1.5 * IQR\n",
        "  upper_bound = Q3 + 1.5 * IQR\n",
        "\n",
        "  # Отфильтровать выбросы\n",
        "  data = data[(data[column] >= lower_bound) & (data[column] <= upper_bound)]"
      ],
      "metadata": {
        "id": "DxjEL-03ChZp"
      },
      "execution_count": null,
      "outputs": []
    },
    {
      "cell_type": "code",
      "source": [
        "data.plot(kind='box', subplots=True, layout=(4,4), sharex=False, sharey=False, figsize=(15,18))\n",
        "\n",
        "plt.show()"
      ],
      "metadata": {
        "colab": {
          "base_uri": "https://localhost:8080/",
          "height": 1000
        },
        "id": "nHhUT3jVChW_",
        "outputId": "47e41fb4-db3a-426a-d894-70fd89230717"
      },
      "execution_count": null,
      "outputs": [
        {
          "output_type": "display_data",
          "data": {
            "text/plain": [
              "<Figure size 1500x1800 with 16 Axes>"
            ],
            "image/png": "[encoded data removed]"
          },
          "metadata": {}
        }
      ]
    },
    {
      "cell_type": "markdown",
      "source": [
        "#Скоринг авто"
      ],
      "metadata": {
        "id": "wR_rTfoazAFH"
      }
    },
    {
      "cell_type": "code",
      "source": [],
      "metadata": {
        "id": "9MnByPUGzCDJ"
      },
      "execution_count": null,
      "outputs": []
    },
    {
      "cell_type": "code",
      "source": [
        "# Веса для каждого критерия\n",
        "weight_price = 1.0\n",
        "weight_mileage = 0.5\n",
        "weight_pts = 0.5"
      ],
      "metadata": {
        "id": "2nZ8cT3DGquk"
      },
      "execution_count": null,
      "outputs": []
    },
    {
      "cell_type": "code",
      "source": [
        "excluded_addresses = [\n",
        "    'Краснодарский', 'Мурманская', 'Приморский край', 'Казань', 'Смоленск',\n",
        "    'Брянск', 'Башкортостан', 'Ставрополь', 'Челябинск', 'Пермский край',\n",
        "    'Ростов-на-Дону', 'Сыктывкар','Оренбург','Карачаево-Черкесская','Пенза',\n",
        "    'Самара'\n",
        "]\n",
        "\n",
        "data = data[~data['address'].str.contains('|'.join(excluded_addresses))]"
      ],
      "metadata": {
        "id": "aWMw_yI7SfDc"
      },
      "execution_count": null,
      "outputs": []
    },
    {
      "cell_type": "code",
      "source": [
        "data = data.loc[~data.ad_id.isin(filter)]\n",
        "# data = data.loc[~data.address.isin(filter_url)]"
      ],
      "metadata": {
        "id": "Xs4RKN_sRX9I"
      },
      "execution_count": null,
      "outputs": []
    },
    {
      "cell_type": "code",
      "source": [],
      "metadata": {
        "id": "4I-kcezhGqbU"
      },
      "execution_count": null,
      "outputs": []
    },
    {
      "cell_type": "code",
      "source": [
        "data['AveragePriceModel'] = data.groupby(['title','Year'])['price'].transform('mean')\n",
        "data['AveragePriceModelDiff'] = data['AveragePriceModel'] - data['price']\n",
        "data['average_mileage_model_year'] = data.groupby(['title','Year'])['Mileage'].transform('mean')\n",
        "data['average_mileage_model'] = data.groupby('model')['Mileage'].transform('mean')\n",
        "data['average_mileage_model_year_diff'] = data['average_mileage_model_year'] - data['Mileage']\n",
        "data['average_pts_by_year_model'] = data.groupby(['title','Year'])['PTS'].transform('mean')\n",
        "data['average_pts_diff'] = data['average_pts_by_year_model'] - data['PTS']\n",
        "# Вычисление баллов для каждого автомобиля\n",
        "data['score'] = (weight_price * data['AveragePriceModelDiff']\n",
        "                 - weight_mileage * data['average_mileage_model_year_diff']\n",
        "                 - weight_pts * data['average_pts_diff'])\n",
        "\n",
        "# Выбор автомобиля с наивысшим баллом\n",
        "optimal_car = data[data['score'] == data['score'].max()]"
      ],
      "metadata": {
        "id": "QxwPHMKeJC_x"
      },
      "execution_count": null,
      "outputs": []
    },
    {
      "cell_type": "code",
      "source": [],
      "metadata": {
        "id": "Iki_fVIL9ZsO"
      },
      "execution_count": null,
      "outputs": []
    },
    {
      "cell_type": "markdown",
      "source": [
        "##Раздел 3. Разделение выборки на тестовую и обучающую"
      ],
      "metadata": {
        "id": "nFCjNSOZvfIH"
      }
    },
    {
      "cell_type": "code",
      "source": [
        "# Преобразование данных (в данном случае используем только 'Year' и 'Mileage' для прогнозирования 'price')\n",
        "X = data[['Year', 'Mileage','PTS','Engine_capacity','Power','model']]\n",
        "y = data['price']\n"
      ],
      "metadata": {
        "id": "27CvOdbV8Jxo"
      },
      "execution_count": null,
      "outputs": []
    },
    {
      "cell_type": "code",
      "source": [
        "# Разделение данных на обучающие и тестовые\n",
        "X_train, X_test, y_train, y_test = train_test_split(X, y, test_size=0.2)"
      ],
      "metadata": {
        "id": "uTcE_cLS-9Ci"
      },
      "execution_count": null,
      "outputs": []
    },
    {
      "cell_type": "markdown",
      "source": [
        "## Линейная регрессия"
      ],
      "metadata": {
        "id": "fx3QRZ_KINUi"
      }
    },
    {
      "cell_type": "code",
      "source": [
        "from matplotlib.font_manager import lru_cache\n",
        "# Создание и обучение модели\n",
        "LR = LinearRegression()\n",
        "LR.fit(X_train, y_train)"
      ],
      "metadata": {
        "colab": {
          "base_uri": "https://localhost:8080/",
          "height": 75
        },
        "id": "kt1g0MjX-_Fi",
        "outputId": "2e930bd6-dcf9-489f-b1e4-adaca6d3ec6c"
      },
      "execution_count": null,
      "outputs": [
        {
          "output_type": "execute_result",
          "data": {
            "text/plain": [
              "LinearRegression()"
            ],
            "text/html": [
              "<style>#sk-container-id-1 {color: black;background-color: white;}#sk-container-id-1 pre{padding: 0;}#sk-container-id-1 div.sk-toggleable {background-color: white;}#sk-container-id-1 label.sk-toggleable__label {cursor: pointer;display: block;width: 100%;margin-bottom: 0;padding: 0.3em;box-sizing: border-box;text-align: center;}#sk-container-id-1 label.sk-toggleable__label-arrow:before {content: \"▸\";float: left;margin-right: 0.25em;color: #696969;}#sk-container-id-1 label.sk-toggleable__label-arrow:hover:before {color: black;}#sk-container-id-1 div.sk-estimator:hover label.sk-toggleable__label-arrow:before {color: black;}#sk-container-id-1 div.sk-toggleable__content {max-height: 0;max-width: 0;overflow: hidden;text-align: left;background-color: #f0f8ff;}#sk-container-id-1 div.sk-toggleable__content pre {margin: 0.2em;color: black;border-radius: 0.25em;background-color: #f0f8ff;}#sk-container-id-1 input.sk-toggleable__control:checked~div.sk-toggleable__content {max-height: 200px;max-width: 100%;overflow: auto;}#sk-container-id-1 input.sk-toggleable__control:checked~label.sk-toggleable__label-arrow:before {content: \"▾\";}#sk-container-id-1 div.sk-estimator input.sk-toggleable__control:checked~label.sk-toggleable__label {background-color: #d4ebff;}#sk-container-id-1 div.sk-label input.sk-toggleable__control:checked~label.sk-toggleable__label {background-color: #d4ebff;}#sk-container-id-1 input.sk-hidden--visually {border: 0;clip: rect(1px 1px 1px 1px);clip: rect(1px, 1px, 1px, 1px);height: 1px;margin: -1px;overflow: hidden;padding: 0;position: absolute;width: 1px;}#sk-container-id-1 div.sk-estimator {font-family: monospace;background-color: #f0f8ff;border: 1px dotted black;border-radius: 0.25em;box-sizing: border-box;margin-bottom: 0.5em;}#sk-container-id-1 div.sk-estimator:hover {background-color: #d4ebff;}#sk-container-id-1 div.sk-parallel-item::after {content: \"\";width: 100%;border-bottom: 1px solid gray;flex-grow: 1;}#sk-container-id-1 div.sk-label:hover label.sk-toggleable__label {background-color: #d4ebff;}#sk-container-id-1 div.sk-serial::before {content: \"\";position: absolute;border-left: 1px solid gray;box-sizing: border-box;top: 0;bottom: 0;left: 50%;z-index: 0;}#sk-container-id-1 div.sk-serial {display: flex;flex-direction: column;align-items: center;background-color: white;padding-right: 0.2em;padding-left: 0.2em;position: relative;}#sk-container-id-1 div.sk-item {position: relative;z-index: 1;}#sk-container-id-1 div.sk-parallel {display: flex;align-items: stretch;justify-content: center;background-color: white;position: relative;}#sk-container-id-1 div.sk-item::before, #sk-container-id-1 div.sk-parallel-item::before {content: \"\";position: absolute;border-left: 1px solid gray;box-sizing: border-box;top: 0;bottom: 0;left: 50%;z-index: -1;}#sk-container-id-1 div.sk-parallel-item {display: flex;flex-direction: column;z-index: 1;position: relative;background-color: white;}#sk-container-id-1 div.sk-parallel-item:first-child::after {align-self: flex-end;width: 50%;}#sk-container-id-1 div.sk-parallel-item:last-child::after {align-self: flex-start;width: 50%;}#sk-container-id-1 div.sk-parallel-item:only-child::after {width: 0;}#sk-container-id-1 div.sk-dashed-wrapped {border: 1px dashed gray;margin: 0 0.4em 0.5em 0.4em;box-sizing: border-box;padding-bottom: 0.4em;background-color: white;}#sk-container-id-1 div.sk-label label {font-family: monospace;font-weight: bold;display: inline-block;line-height: 1.2em;}#sk-container-id-1 div.sk-label-container {text-align: center;}#sk-container-id-1 div.sk-container {/* jupyter's `normalize.less` sets `[hidden] { display: none; }` but bootstrap.min.css set `[hidden] { display: none !important; }` so we also need the `!important` here to be able to override the default hidden behavior on the sphinx rendered scikit-learn.org. See: https://github.com/scikit-learn/scikit-learn/issues/21755 */display: inline-block !important;position: relative;}#sk-container-id-1 div.sk-text-repr-fallback {display: none;}</style><div id=\"sk-container-id-1\" class=\"sk-top-container\"><div class=\"sk-text-repr-fallback\"><pre>LinearRegression()</pre><b>In a Jupyter environment, please rerun this cell to show the HTML representation or trust the notebook. <br />On GitHub, the HTML representation is unable to render, please try loading this page with nbviewer.org.</b></div><div class=\"sk-container\" hidden><div class=\"sk-item\"><div class=\"sk-estimator sk-toggleable\"><input class=\"sk-toggleable__control sk-hidden--visually\" id=\"sk-estimator-id-1\" type=\"checkbox\" checked><label for=\"sk-estimator-id-1\" class=\"sk-toggleable__label sk-toggleable__label-arrow\">LinearRegression</label><div class=\"sk-toggleable__content\"><pre>LinearRegression()</pre></div></div></div></div></div>"
            ]
          },
          "metadata": {},
          "execution_count": 30
        }
      ]
    },
    {
      "cell_type": "code",
      "source": [
        "# Прогнозирование\n",
        "y_pred = LR.predict(X_test)"
      ],
      "metadata": {
        "id": "hmUmaxtF_BA1"
      },
      "execution_count": null,
      "outputs": []
    },
    {
      "cell_type": "code",
      "source": [
        "# Оценка модели\n",
        "mse = mean_squared_error(y_test, y_pred)\n",
        "rmse = mean_squared_error(y_test, y_pred, squared=False)\n",
        "mae = mean_absolute_error(y_test, y_pred)\n",
        "r2 = r2_score(y_test, y_pred)\n",
        "adj_r2 = 1 - (1-r2)*(len(y_test)-1)/(len(y_test)-X_test.shape[1]-1)\n",
        "\n",
        "print(f'Mean Squared Error: {mse}')\n",
        "print(f'Root Mean Squared Error: {rmse}')\n",
        "print(f'Mean Absolute Error: {mae}')\n",
        "print(f'R^2: {r2}')\n",
        "print(f'Adjusted R^2: {adj_r2}')"
      ],
      "metadata": {
        "colab": {
          "base_uri": "https://localhost:8080/"
        },
        "id": "sbPaX7mo_Gcu",
        "outputId": "9cab1867-5e0f-41b8-b3af-aaaca5b30c6b"
      },
      "execution_count": null,
      "outputs": [
        {
          "output_type": "stream",
          "name": "stdout",
          "text": [
            "Mean Squared Error: 13592980451.314785\n",
            "Root Mean Squared Error: 116588.93794573646\n",
            "Mean Absolute Error: 92223.60428851063\n",
            "R^2: 0.3440898481224468\n",
            "Adjusted R^2: 0.3373394863535526\n"
          ]
        }
      ]
    },
    {
      "cell_type": "markdown",
      "source": [
        "Mean Squared Error: 15348512425.23389\n",
        "Root Mean Squared Error: 123889.11342500555\n",
        "Mean Absolute Error: 97455.73998642109\n",
        "R^2: 0.3784568166361567\n",
        "Adjusted R^2: 0.37063866338629714"
      ],
      "metadata": {
        "id": "11cLa9h_9a_n"
      }
    },
    {
      "cell_type": "markdown",
      "source": [
        "\n",
        "\n",
        "*   MSE является мерой качества оценщика, где меньшее значение MSE указывает на лучшее качество. В моем случае это значение довольно высокое, что может указывать на наличие больших ошибок между фактическими и прогнозируемыми значениями.\n",
        "*   RMSE интерпретируется в тех же единицах измерения, что и исходные данные (в данном случае, цена). Модель ошибается в среднем на 130,009.40 единиц (скажем, если это в рублях, то на 130,009.40 рублей) при прогнозировании цены\n",
        "\n",
        "\n",
        "*   MAE представляет собой среднюю абсолютную ошибку между прогнозируемыми и фактическими значениями. Это говорит о том, что модель в среднем ошибается на 102,777.23 единиц\n",
        "*   R^2 измеряет долю дисперсии зависимой переменной, объясненную вашей моделью. Значение 0.3387 говорит о том, что модель объясняет только 33.87% дисперсии в данных. Это довольно низкое значение, что указывает на то, что модель может быть не очень хорошо подобрана или что у вас может быть много нерассмотренных или нерелевантных признаков\n",
        "\n",
        "\n",
        "Модель не идельная пробую другую модель\n",
        "\n",
        "\n",
        "\n"
      ],
      "metadata": {
        "id": "fHAozH3EIY3A"
      }
    },
    {
      "cell_type": "code",
      "source": [],
      "metadata": {
        "id": "F52VmDw_9-rA"
      },
      "execution_count": null,
      "outputs": []
    },
    {
      "cell_type": "code",
      "source": [
        "new_data[['title','Year','PTS',\"Power\",'price','LR_predict']]"
      ],
      "metadata": {
        "colab": {
          "base_uri": "https://localhost:8080/",
          "height": 206
        },
        "id": "DTe01kw84w_f",
        "outputId": "ab92ac13-2480-4974-88f3-5877287a5003"
      },
      "execution_count": null,
      "outputs": [
        {
          "output_type": "execute_result",
          "data": {
            "text/plain": [
              "                       title  Year  PTS  Power   price  LR_predict\n",
              "0         Peugeot 308 1.6 AT  2013    1    150  850000  1037238.59\n",
              "1      Renault Megane 1.6 MT  2013    1    106  739000   776762.63\n",
              "2     Hyundai Solaris 1.6 AT  2015    4    123  799000   861444.20\n",
              "3      Renault Duster 1.6 MT  2013    1    102  995000   763234.23\n",
              "4  Volkswagen Passat 1.4 AMT  2011    4    122  730000   759135.77"
            ],
            "text/html": [
              "\n",
              "  <div id=\"df-1a2f2917-91c9-459e-ac0b-b8c08f68dfc6\" class=\"colab-df-container\">\n",
              "    <div>\n",
              "<style scoped>\n",
              "    .dataframe tbody tr th:only-of-type {\n",
              "        vertical-align: middle;\n",
              "    }\n",
              "\n",
              "    .dataframe tbody tr th {\n",
              "        vertical-align: top;\n",
              "    }\n",
              "\n",
              "    .dataframe thead th {\n",
              "        text-align: right;\n",
              "    }\n",
              "</style>\n",
              "<table border=\"1\" class=\"dataframe\">\n",
              "  <thead>\n",
              "    <tr style=\"text-align: right;\">\n",
              "      <th></th>\n",
              "      <th>title</th>\n",
              "      <th>Year</th>\n",
              "      <th>PTS</th>\n",
              "      <th>Power</th>\n",
              "      <th>price</th>\n",
              "      <th>LR_predict</th>\n",
              "    </tr>\n",
              "  </thead>\n",
              "  <tbody>\n",
              "    <tr>\n",
              "      <th>0</th>\n",
              "      <td>Peugeot 308 1.6 AT</td>\n",
              "      <td>2013</td>\n",
              "      <td>1</td>\n",
              "      <td>150</td>\n",
              "      <td>850000</td>\n",
              "      <td>1037238.59</td>\n",
              "    </tr>\n",
              "    <tr>\n",
              "      <th>1</th>\n",
              "      <td>Renault Megane 1.6 MT</td>\n",
              "      <td>2013</td>\n",
              "      <td>1</td>\n",
              "      <td>106</td>\n",
              "      <td>739000</td>\n",
              "      <td>776762.63</td>\n",
              "    </tr>\n",
              "    <tr>\n",
              "      <th>2</th>\n",
              "      <td>Hyundai Solaris 1.6 AT</td>\n",
              "      <td>2015</td>\n",
              "      <td>4</td>\n",
              "      <td>123</td>\n",
              "      <td>799000</td>\n",
              "      <td>861444.20</td>\n",
              "    </tr>\n",
              "    <tr>\n",
              "      <th>3</th>\n",
              "      <td>Renault Duster 1.6 MT</td>\n",
              "      <td>2013</td>\n",
              "      <td>1</td>\n",
              "      <td>102</td>\n",
              "      <td>995000</td>\n",
              "      <td>763234.23</td>\n",
              "    </tr>\n",
              "    <tr>\n",
              "      <th>4</th>\n",
              "      <td>Volkswagen Passat 1.4 AMT</td>\n",
              "      <td>2011</td>\n",
              "      <td>4</td>\n",
              "      <td>122</td>\n",
              "      <td>730000</td>\n",
              "      <td>759135.77</td>\n",
              "    </tr>\n",
              "  </tbody>\n",
              "</table>\n",
              "</div>\n",
              "    <div class=\"colab-df-buttons\">\n",
              "\n",
              "  <div class=\"colab-df-container\">\n",
              "    <button class=\"colab-df-convert\" onclick=\"convertToInteractive('df-1a2f2917-91c9-459e-ac0b-b8c08f68dfc6')\"\n",
              "            title=\"Convert this dataframe to an interactive table.\"\n",
              "            style=\"display:none;\">\n",
              "\n",
              "  <svg xmlns=\"http://www.w3.org/2000/svg\" height=\"24px\" viewBox=\"0 -960 960 960\">\n",
              "    <path d=\"M120-120v-720h720v720H120Zm60-500h600v-160H180v160Zm220 220h160v-160H400v160Zm0 220h160v-160H400v160ZM180-400h160v-160H180v160Zm440 0h160v-160H620v160ZM180-180h160v-160H180v160Zm440 0h160v-160H620v160Z\"/>\n",
              "  </svg>\n",
              "    </button>\n",
              "\n",
              "  <style>\n",
              "    .colab-df-container {\n",
              "      display:flex;\n",
              "      gap: 12px;\n",
              "    }\n",
              "\n",
              "    .colab-df-convert {\n",
              "      background-color: #E8F0FE;\n",
              "      border: none;\n",
              "      border-radius: 50%;\n",
              "      cursor: pointer;\n",
              "      display: none;\n",
              "      fill: #1967D2;\n",
              "      height: 32px;\n",
              "      padding: 0 0 0 0;\n",
              "      width: 32px;\n",
              "    }\n",
              "\n",
              "    .colab-df-convert:hover {\n",
              "      background-color: #E2EBFA;\n",
              "      box-shadow: 0px 1px 2px rgba(60, 64, 67, 0.3), 0px 1px 3px 1px rgba(60, 64, 67, 0.15);\n",
              "      fill: #174EA6;\n",
              "    }\n",
              "\n",
              "    .colab-df-buttons div {\n",
              "      margin-bottom: 4px;\n",
              "    }\n",
              "\n",
              "    [theme=dark] .colab-df-convert {\n",
              "      background-color: #3B4455;\n",
              "      fill: #D2E3FC;\n",
              "    }\n",
              "\n",
              "    [theme=dark] .colab-df-convert:hover {\n",
              "      background-color: #434B5C;\n",
              "      box-shadow: 0px 1px 3px 1px rgba(0, 0, 0, 0.15);\n",
              "      filter: drop-shadow(0px 1px 2px rgba(0, 0, 0, 0.3));\n",
              "      fill: #FFFFFF;\n",
              "    }\n",
              "  </style>\n",
              "\n",
              "    <script>\n",
              "      const buttonEl =\n",
              "        document.querySelector('#df-1a2f2917-91c9-459e-ac0b-b8c08f68dfc6 button.colab-df-convert');\n",
              "      buttonEl.style.display =\n",
              "        google.colab.kernel.accessAllowed ? 'block' : 'none';\n",
              "\n",
              "      async function convertToInteractive(key) {\n",
              "        const element = document.querySelector('#df-1a2f2917-91c9-459e-ac0b-b8c08f68dfc6');\n",
              "        const dataTable =\n",
              "          await google.colab.kernel.invokeFunction('convertToInteractive',\n",
              "                                                    [key], {});\n",
              "        if (!dataTable) return;\n",
              "\n",
              "        const docLinkHtml = 'Like what you see? Visit the ' +\n",
              "          '<a target=\"_blank\" href=https://colab.research.google.com/notebooks/data_table.ipynb>data table notebook</a>'\n",
              "          + ' to learn more about interactive tables.';\n",
              "        element.innerHTML = '';\n",
              "        dataTable['output_type'] = 'display_data';\n",
              "        await google.colab.output.renderOutput(dataTable, element);\n",
              "        const docLink = document.createElement('div');\n",
              "        docLink.innerHTML = docLinkHtml;\n",
              "        element.appendChild(docLink);\n",
              "      }\n",
              "    </script>\n",
              "  </div>\n",
              "\n",
              "\n",
              "<div id=\"df-adeac507-c3b3-4736-8f01-1dacb8e51fd9\">\n",
              "  <button class=\"colab-df-quickchart\" onclick=\"quickchart('df-adeac507-c3b3-4736-8f01-1dacb8e51fd9')\"\n",
              "            title=\"Suggest charts.\"\n",
              "            style=\"display:none;\">\n",
              "\n",
              "<svg xmlns=\"http://www.w3.org/2000/svg\" height=\"24px\"viewBox=\"0 0 24 24\"\n",
              "     width=\"24px\">\n",
              "    <g>\n",
              "        <path d=\"M19 3H5c-1.1 0-2 .9-2 2v14c0 1.1.9 2 2 2h14c1.1 0 2-.9 2-2V5c0-1.1-.9-2-2-2zM9 17H7v-7h2v7zm4 0h-2V7h2v10zm4 0h-2v-4h2v4z\"/>\n",
              "    </g>\n",
              "</svg>\n",
              "  </button>\n",
              "\n",
              "<style>\n",
              "  .colab-df-quickchart {\n",
              "      --bg-color: #E8F0FE;\n",
              "      --fill-color: #1967D2;\n",
              "      --hover-bg-color: #E2EBFA;\n",
              "      --hover-fill-color: #174EA6;\n",
              "      --disabled-fill-color: #AAA;\n",
              "      --disabled-bg-color: #DDD;\n",
              "  }\n",
              "\n",
              "  [theme=dark] .colab-df-quickchart {\n",
              "      --bg-color: #3B4455;\n",
              "      --fill-color: #D2E3FC;\n",
              "      --hover-bg-color: #434B5C;\n",
              "      --hover-fill-color: #FFFFFF;\n",
              "      --disabled-bg-color: #3B4455;\n",
              "      --disabled-fill-color: #666;\n",
              "  }\n",
              "\n",
              "  .colab-df-quickchart {\n",
              "    background-color: var(--bg-color);\n",
              "    border: none;\n",
              "    border-radius: 50%;\n",
              "    cursor: pointer;\n",
              "    display: none;\n",
              "    fill: var(--fill-color);\n",
              "    height: 32px;\n",
              "    padding: 0;\n",
              "    width: 32px;\n",
              "  }\n",
              "\n",
              "  .colab-df-quickchart:hover {\n",
              "    background-color: var(--hover-bg-color);\n",
              "    box-shadow: 0 1px 2px rgba(60, 64, 67, 0.3), 0 1px 3px 1px rgba(60, 64, 67, 0.15);\n",
              "    fill: var(--button-hover-fill-color);\n",
              "  }\n",
              "\n",
              "  .colab-df-quickchart-complete:disabled,\n",
              "  .colab-df-quickchart-complete:disabled:hover {\n",
              "    background-color: var(--disabled-bg-color);\n",
              "    fill: var(--disabled-fill-color);\n",
              "    box-shadow: none;\n",
              "  }\n",
              "\n",
              "  .colab-df-spinner {\n",
              "    border: 2px solid var(--fill-color);\n",
              "    border-color: transparent;\n",
              "    border-bottom-color: var(--fill-color);\n",
              "    animation:\n",
              "      spin 1s steps(1) infinite;\n",
              "  }\n",
              "\n",
              "  @keyframes spin {\n",
              "    0% {\n",
              "      border-color: transparent;\n",
              "      border-bottom-color: var(--fill-color);\n",
              "      border-left-color: var(--fill-color);\n",
              "    }\n",
              "    20% {\n",
              "      border-color: transparent;\n",
              "      border-left-color: var(--fill-color);\n",
              "      border-top-color: var(--fill-color);\n",
              "    }\n",
              "    30% {\n",
              "      border-color: transparent;\n",
              "      border-left-color: var(--fill-color);\n",
              "      border-top-color: var(--fill-color);\n",
              "      border-right-color: var(--fill-color);\n",
              "    }\n",
              "    40% {\n",
              "      border-color: transparent;\n",
              "      border-right-color: var(--fill-color);\n",
              "      border-top-color: var(--fill-color);\n",
              "    }\n",
              "    60% {\n",
              "      border-color: transparent;\n",
              "      border-right-color: var(--fill-color);\n",
              "    }\n",
              "    80% {\n",
              "      border-color: transparent;\n",
              "      border-right-color: var(--fill-color);\n",
              "      border-bottom-color: var(--fill-color);\n",
              "    }\n",
              "    90% {\n",
              "      border-color: transparent;\n",
              "      border-bottom-color: var(--fill-color);\n",
              "    }\n",
              "  }\n",
              "</style>\n",
              "\n",
              "  <script>\n",
              "    async function quickchart(key) {\n",
              "      const quickchartButtonEl =\n",
              "        document.querySelector('#' + key + ' button');\n",
              "      quickchartButtonEl.disabled = true;  // To prevent multiple clicks.\n",
              "      quickchartButtonEl.classList.add('colab-df-spinner');\n",
              "      try {\n",
              "        const charts = await google.colab.kernel.invokeFunction(\n",
              "            'suggestCharts', [key], {});\n",
              "      } catch (error) {\n",
              "        console.error('Error during call to suggestCharts:', error);\n",
              "      }\n",
              "      quickchartButtonEl.classList.remove('colab-df-spinner');\n",
              "      quickchartButtonEl.classList.add('colab-df-quickchart-complete');\n",
              "    }\n",
              "    (() => {\n",
              "      let quickchartButtonEl =\n",
              "        document.querySelector('#df-adeac507-c3b3-4736-8f01-1dacb8e51fd9 button');\n",
              "      quickchartButtonEl.style.display =\n",
              "        google.colab.kernel.accessAllowed ? 'block' : 'none';\n",
              "    })();\n",
              "  </script>\n",
              "</div>\n",
              "    </div>\n",
              "  </div>\n"
            ]
          },
          "metadata": {},
          "execution_count": 53
        }
      ]
    },
    {
      "cell_type": "code",
      "source": [],
      "metadata": {
        "id": "326ozwV9-Cve"
      },
      "execution_count": null,
      "outputs": []
    },
    {
      "cell_type": "code",
      "source": [],
      "metadata": {
        "id": "azg7S_zu-UpO"
      },
      "execution_count": null,
      "outputs": []
    },
    {
      "cell_type": "markdown",
      "source": [
        "#Гребневая регрессия"
      ],
      "metadata": {
        "id": "lMFjzaopBfyH"
      }
    },
    {
      "cell_type": "code",
      "source": [
        "RR = Ridge()\n",
        "RR.fit(X_train,y_train)"
      ],
      "metadata": {
        "colab": {
          "base_uri": "https://localhost:8080/",
          "height": 75
        },
        "id": "Y-LMSAnTBnbJ",
        "outputId": "0e57c2dd-7304-40a9-e4d4-0cff3f9d937a"
      },
      "execution_count": null,
      "outputs": [
        {
          "output_type": "execute_result",
          "data": {
            "text/plain": [
              "Ridge()"
            ],
            "text/html": [
              "<style>#sk-container-id-2 {color: black;background-color: white;}#sk-container-id-2 pre{padding: 0;}#sk-container-id-2 div.sk-toggleable {background-color: white;}#sk-container-id-2 label.sk-toggleable__label {cursor: pointer;display: block;width: 100%;margin-bottom: 0;padding: 0.3em;box-sizing: border-box;text-align: center;}#sk-container-id-2 label.sk-toggleable__label-arrow:before {content: \"▸\";float: left;margin-right: 0.25em;color: #696969;}#sk-container-id-2 label.sk-toggleable__label-arrow:hover:before {color: black;}#sk-container-id-2 div.sk-estimator:hover label.sk-toggleable__label-arrow:before {color: black;}#sk-container-id-2 div.sk-toggleable__content {max-height: 0;max-width: 0;overflow: hidden;text-align: left;background-color: #f0f8ff;}#sk-container-id-2 div.sk-toggleable__content pre {margin: 0.2em;color: black;border-radius: 0.25em;background-color: #f0f8ff;}#sk-container-id-2 input.sk-toggleable__control:checked~div.sk-toggleable__content {max-height: 200px;max-width: 100%;overflow: auto;}#sk-container-id-2 input.sk-toggleable__control:checked~label.sk-toggleable__label-arrow:before {content: \"▾\";}#sk-container-id-2 div.sk-estimator input.sk-toggleable__control:checked~label.sk-toggleable__label {background-color: #d4ebff;}#sk-container-id-2 div.sk-label input.sk-toggleable__control:checked~label.sk-toggleable__label {background-color: #d4ebff;}#sk-container-id-2 input.sk-hidden--visually {border: 0;clip: rect(1px 1px 1px 1px);clip: rect(1px, 1px, 1px, 1px);height: 1px;margin: -1px;overflow: hidden;padding: 0;position: absolute;width: 1px;}#sk-container-id-2 div.sk-estimator {font-family: monospace;background-color: #f0f8ff;border: 1px dotted black;border-radius: 0.25em;box-sizing: border-box;margin-bottom: 0.5em;}#sk-container-id-2 div.sk-estimator:hover {background-color: #d4ebff;}#sk-container-id-2 div.sk-parallel-item::after {content: \"\";width: 100%;border-bottom: 1px solid gray;flex-grow: 1;}#sk-container-id-2 div.sk-label:hover label.sk-toggleable__label {background-color: #d4ebff;}#sk-container-id-2 div.sk-serial::before {content: \"\";position: absolute;border-left: 1px solid gray;box-sizing: border-box;top: 0;bottom: 0;left: 50%;z-index: 0;}#sk-container-id-2 div.sk-serial {display: flex;flex-direction: column;align-items: center;background-color: white;padding-right: 0.2em;padding-left: 0.2em;position: relative;}#sk-container-id-2 div.sk-item {position: relative;z-index: 1;}#sk-container-id-2 div.sk-parallel {display: flex;align-items: stretch;justify-content: center;background-color: white;position: relative;}#sk-container-id-2 div.sk-item::before, #sk-container-id-2 div.sk-parallel-item::before {content: \"\";position: absolute;border-left: 1px solid gray;box-sizing: border-box;top: 0;bottom: 0;left: 50%;z-index: -1;}#sk-container-id-2 div.sk-parallel-item {display: flex;flex-direction: column;z-index: 1;position: relative;background-color: white;}#sk-container-id-2 div.sk-parallel-item:first-child::after {align-self: flex-end;width: 50%;}#sk-container-id-2 div.sk-parallel-item:last-child::after {align-self: flex-start;width: 50%;}#sk-container-id-2 div.sk-parallel-item:only-child::after {width: 0;}#sk-container-id-2 div.sk-dashed-wrapped {border: 1px dashed gray;margin: 0 0.4em 0.5em 0.4em;box-sizing: border-box;padding-bottom: 0.4em;background-color: white;}#sk-container-id-2 div.sk-label label {font-family: monospace;font-weight: bold;display: inline-block;line-height: 1.2em;}#sk-container-id-2 div.sk-label-container {text-align: center;}#sk-container-id-2 div.sk-container {/* jupyter's `normalize.less` sets `[hidden] { display: none; }` but bootstrap.min.css set `[hidden] { display: none !important; }` so we also need the `!important` here to be able to override the default hidden behavior on the sphinx rendered scikit-learn.org. See: https://github.com/scikit-learn/scikit-learn/issues/21755 */display: inline-block !important;position: relative;}#sk-container-id-2 div.sk-text-repr-fallback {display: none;}</style><div id=\"sk-container-id-2\" class=\"sk-top-container\"><div class=\"sk-text-repr-fallback\"><pre>Ridge()</pre><b>In a Jupyter environment, please rerun this cell to show the HTML representation or trust the notebook. <br />On GitHub, the HTML representation is unable to render, please try loading this page with nbviewer.org.</b></div><div class=\"sk-container\" hidden><div class=\"sk-item\"><div class=\"sk-estimator sk-toggleable\"><input class=\"sk-toggleable__control sk-hidden--visually\" id=\"sk-estimator-id-2\" type=\"checkbox\" checked><label for=\"sk-estimator-id-2\" class=\"sk-toggleable__label sk-toggleable__label-arrow\">Ridge</label><div class=\"sk-toggleable__content\"><pre>Ridge()</pre></div></div></div></div></div>"
            ]
          },
          "metadata": {},
          "execution_count": 54
        }
      ]
    },
    {
      "cell_type": "code",
      "source": [
        "# Прогнозирование\n",
        "RR_predict = RR.predict(X_test)"
      ],
      "metadata": {
        "id": "gE1D54FeB6su"
      },
      "execution_count": null,
      "outputs": []
    },
    {
      "cell_type": "code",
      "source": [
        "# Оценка модели\n",
        "mse = mean_squared_error(y_test, RR_predict)\n",
        "rmse = mean_squared_error(y_test, RR_predict, squared=False)\n",
        "mae = mean_absolute_error(y_test, RR_predict)\n",
        "r2 = r2_score(y_test, RR_predict)\n",
        "adj_r2 = 1 - (1-r2)*(len(y_test)-1)/(len(y_test)-X_test.shape[1]-1)\n",
        "\n",
        "print(f'Mean Squared Error: {mse}')\n",
        "print(f'Root Mean Squared Error: {rmse}')\n",
        "print(f'Mean Absolute Error: {mae}')\n",
        "print(f'R^2: {r2}')\n",
        "print(f'Adjusted R^2: {adj_r2}')"
      ],
      "metadata": {
        "colab": {
          "base_uri": "https://localhost:8080/"
        },
        "outputId": "6bfaff89-2c16-44dc-f791-043c6a9142bd",
        "id": "5r4MPRoJB6sv"
      },
      "execution_count": null,
      "outputs": [
        {
          "output_type": "stream",
          "name": "stdout",
          "text": [
            "Mean Squared Error: 13596573519.249077\n",
            "Root Mean Squared Error: 116604.34605643598\n",
            "Mean Absolute Error: 92242.35203289027\n",
            "R^2: 0.3439164696832643\n",
            "Adjusted R^2: 0.3371643235736581\n"
          ]
        }
      ]
    },
    {
      "cell_type": "code",
      "source": [
        "RR_predict = RR.predict(to_predict)"
      ],
      "metadata": {
        "id": "E0IjsUiSDDWt"
      },
      "execution_count": null,
      "outputs": []
    },
    {
      "cell_type": "code",
      "source": [
        "mse = mean_squared_error(new_data['price'], RR_predict)\n",
        "rmse = mean_squared_error(new_data['price'], RR_predict, squared=False)\n",
        "mae = mean_absolute_error(new_data['price'], RR_predict)\n",
        "r2 = r2_score(new_data['price'], RR_predict)\n",
        "print(f\"Mean Squared Error: {mse}\")\n",
        "print(f\"Root Mean Squared Error: {rmse}\")\n",
        "print(f\"Mean Absolute Error: {mae}\")\n",
        "print(f\"R^2 Score: {r2}\")"
      ],
      "metadata": {
        "colab": {
          "base_uri": "https://localhost:8080/"
        },
        "outputId": "672df6a7-6179-4ed6-cc2e-3b11f9f31768",
        "id": "66R3wDtBDDWt"
      },
      "execution_count": null,
      "outputs": [
        {
          "output_type": "stream",
          "name": "stdout",
          "text": [
            "Mean Squared Error: 18955520794.592457\n",
            "Root Mean Squared Error: 137679.04994803114\n",
            "Mean Absolute Error: 109516.21029549689\n",
            "R^2 Score: -1.034150991409954\n"
          ]
        }
      ]
    },
    {
      "cell_type": "code",
      "source": [
        "RR_predict = RR_predict.reshape(-1,1)"
      ],
      "metadata": {
        "id": "cztDAkbZDDWt"
      },
      "execution_count": null,
      "outputs": []
    },
    {
      "cell_type": "code",
      "source": [
        "new_data['RR_predict'] = RR_predict"
      ],
      "metadata": {
        "id": "tmhKFg-ADDWt"
      },
      "execution_count": null,
      "outputs": []
    },
    {
      "cell_type": "code",
      "source": [
        "new_data[['title','Year','PTS',\"Power\",'price','LR_predict','RR_predict']]"
      ],
      "metadata": {
        "colab": {
          "base_uri": "https://localhost:8080/",
          "height": 206
        },
        "outputId": "66fe8d2a-16f8-465a-a455-582c04caab46",
        "id": "3NWBLFZoDDWt"
      },
      "execution_count": null,
      "outputs": [
        {
          "output_type": "execute_result",
          "data": {
            "text/plain": [
              "                       title  Year  PTS  Power   price  LR_predict  RR_predict\n",
              "0         Peugeot 308 1.6 AT  2013    1    150  850000  1037238.59  1036925.00\n",
              "1      Renault Megane 1.6 MT  2013    1    106  739000   776762.63   776749.50\n",
              "2     Hyundai Solaris 1.6 AT  2015    4    123  799000   861444.20   861417.68\n",
              "3      Renault Duster 1.6 MT  2013    1    102  995000   763234.23   763295.15\n",
              "4  Volkswagen Passat 1.4 AMT  2011    4    122  730000   759135.77   758784.03"
            ],
            "text/html": [
              "\n",
              "  <div id=\"df-f92498df-ee20-4065-85c4-8c2bdbf05686\" class=\"colab-df-container\">\n",
              "    <div>\n",
              "<style scoped>\n",
              "    .dataframe tbody tr th:only-of-type {\n",
              "        vertical-align: middle;\n",
              "    }\n",
              "\n",
              "    .dataframe tbody tr th {\n",
              "        vertical-align: top;\n",
              "    }\n",
              "\n",
              "    .dataframe thead th {\n",
              "        text-align: right;\n",
              "    }\n",
              "</style>\n",
              "<table border=\"1\" class=\"dataframe\">\n",
              "  <thead>\n",
              "    <tr style=\"text-align: right;\">\n",
              "      <th></th>\n",
              "      <th>title</th>\n",
              "      <th>Year</th>\n",
              "      <th>PTS</th>\n",
              "      <th>Power</th>\n",
              "      <th>price</th>\n",
              "      <th>LR_predict</th>\n",
              "      <th>RR_predict</th>\n",
              "    </tr>\n",
              "  </thead>\n",
              "  <tbody>\n",
              "    <tr>\n",
              "      <th>0</th>\n",
              "      <td>Peugeot 308 1.6 AT</td>\n",
              "      <td>2013</td>\n",
              "      <td>1</td>\n",
              "      <td>150</td>\n",
              "      <td>850000</td>\n",
              "      <td>1037238.59</td>\n",
              "      <td>1036925.00</td>\n",
              "    </tr>\n",
              "    <tr>\n",
              "      <th>1</th>\n",
              "      <td>Renault Megane 1.6 MT</td>\n",
              "      <td>2013</td>\n",
              "      <td>1</td>\n",
              "      <td>106</td>\n",
              "      <td>739000</td>\n",
              "      <td>776762.63</td>\n",
              "      <td>776749.50</td>\n",
              "    </tr>\n",
              "    <tr>\n",
              "      <th>2</th>\n",
              "      <td>Hyundai Solaris 1.6 AT</td>\n",
              "      <td>2015</td>\n",
              "      <td>4</td>\n",
              "      <td>123</td>\n",
              "      <td>799000</td>\n",
              "      <td>861444.20</td>\n",
              "      <td>861417.68</td>\n",
              "    </tr>\n",
              "    <tr>\n",
              "      <th>3</th>\n",
              "      <td>Renault Duster 1.6 MT</td>\n",
              "      <td>2013</td>\n",
              "      <td>1</td>\n",
              "      <td>102</td>\n",
              "      <td>995000</td>\n",
              "      <td>763234.23</td>\n",
              "      <td>763295.15</td>\n",
              "    </tr>\n",
              "    <tr>\n",
              "      <th>4</th>\n",
              "      <td>Volkswagen Passat 1.4 AMT</td>\n",
              "      <td>2011</td>\n",
              "      <td>4</td>\n",
              "      <td>122</td>\n",
              "      <td>730000</td>\n",
              "      <td>759135.77</td>\n",
              "      <td>758784.03</td>\n",
              "    </tr>\n",
              "  </tbody>\n",
              "</table>\n",
              "</div>\n",
              "    <div class=\"colab-df-buttons\">\n",
              "\n",
              "  <div class=\"colab-df-container\">\n",
              "    <button class=\"colab-df-convert\" onclick=\"convertToInteractive('df-f92498df-ee20-4065-85c4-8c2bdbf05686')\"\n",
              "            title=\"Convert this dataframe to an interactive table.\"\n",
              "            style=\"display:none;\">\n",
              "\n",
              "  <svg xmlns=\"http://www.w3.org/2000/svg\" height=\"24px\" viewBox=\"0 -960 960 960\">\n",
              "    <path d=\"M120-120v-720h720v720H120Zm60-500h600v-160H180v160Zm220 220h160v-160H400v160Zm0 220h160v-160H400v160ZM180-400h160v-160H180v160Zm440 0h160v-160H620v160ZM180-180h160v-160H180v160Zm440 0h160v-160H620v160Z\"/>\n",
              "  </svg>\n",
              "    </button>\n",
              "\n",
              "  <style>\n",
              "    .colab-df-container {\n",
              "      display:flex;\n",
              "      gap: 12px;\n",
              "    }\n",
              "\n",
              "    .colab-df-convert {\n",
              "      background-color: #E8F0FE;\n",
              "      border: none;\n",
              "      border-radius: 50%;\n",
              "      cursor: pointer;\n",
              "      display: none;\n",
              "      fill: #1967D2;\n",
              "      height: 32px;\n",
              "      padding: 0 0 0 0;\n",
              "      width: 32px;\n",
              "    }\n",
              "\n",
              "    .colab-df-convert:hover {\n",
              "      background-color: #E2EBFA;\n",
              "      box-shadow: 0px 1px 2px rgba(60, 64, 67, 0.3), 0px 1px 3px 1px rgba(60, 64, 67, 0.15);\n",
              "      fill: #174EA6;\n",
              "    }\n",
              "\n",
              "    .colab-df-buttons div {\n",
              "      margin-bottom: 4px;\n",
              "    }\n",
              "\n",
              "    [theme=dark] .colab-df-convert {\n",
              "      background-color: #3B4455;\n",
              "      fill: #D2E3FC;\n",
              "    }\n",
              "\n",
              "    [theme=dark] .colab-df-convert:hover {\n",
              "      background-color: #434B5C;\n",
              "      box-shadow: 0px 1px 3px 1px rgba(0, 0, 0, 0.15);\n",
              "      filter: drop-shadow(0px 1px 2px rgba(0, 0, 0, 0.3));\n",
              "      fill: #FFFFFF;\n",
              "    }\n",
              "  </style>\n",
              "\n",
              "    <script>\n",
              "      const buttonEl =\n",
              "        document.querySelector('#df-f92498df-ee20-4065-85c4-8c2bdbf05686 button.colab-df-convert');\n",
              "      buttonEl.style.display =\n",
              "        google.colab.kernel.accessAllowed ? 'block' : 'none';\n",
              "\n",
              "      async function convertToInteractive(key) {\n",
              "        const element = document.querySelector('#df-f92498df-ee20-4065-85c4-8c2bdbf05686');\n",
              "        const dataTable =\n",
              "          await google.colab.kernel.invokeFunction('convertToInteractive',\n",
              "                                                    [key], {});\n",
              "        if (!dataTable) return;\n",
              "\n",
              "        const docLinkHtml = 'Like what you see? Visit the ' +\n",
              "          '<a target=\"_blank\" href=https://colab.research.google.com/notebooks/data_table.ipynb>data table notebook</a>'\n",
              "          + ' to learn more about interactive tables.';\n",
              "        element.innerHTML = '';\n",
              "        dataTable['output_type'] = 'display_data';\n",
              "        await google.colab.output.renderOutput(dataTable, element);\n",
              "        const docLink = document.createElement('div');\n",
              "        docLink.innerHTML = docLinkHtml;\n",
              "        element.appendChild(docLink);\n",
              "      }\n",
              "    </script>\n",
              "  </div>\n",
              "\n",
              "\n",
              "<div id=\"df-ddfd6cc3-637c-4ea8-a245-f2d045294c1c\">\n",
              "  <button class=\"colab-df-quickchart\" onclick=\"quickchart('df-ddfd6cc3-637c-4ea8-a245-f2d045294c1c')\"\n",
              "            title=\"Suggest charts.\"\n",
              "            style=\"display:none;\">\n",
              "\n",
              "<svg xmlns=\"http://www.w3.org/2000/svg\" height=\"24px\"viewBox=\"0 0 24 24\"\n",
              "     width=\"24px\">\n",
              "    <g>\n",
              "        <path d=\"M19 3H5c-1.1 0-2 .9-2 2v14c0 1.1.9 2 2 2h14c1.1 0 2-.9 2-2V5c0-1.1-.9-2-2-2zM9 17H7v-7h2v7zm4 0h-2V7h2v10zm4 0h-2v-4h2v4z\"/>\n",
              "    </g>\n",
              "</svg>\n",
              "  </button>\n",
              "\n",
              "<style>\n",
              "  .colab-df-quickchart {\n",
              "      --bg-color: #E8F0FE;\n",
              "      --fill-color: #1967D2;\n",
              "      --hover-bg-color: #E2EBFA;\n",
              "      --hover-fill-color: #174EA6;\n",
              "      --disabled-fill-color: #AAA;\n",
              "      --disabled-bg-color: #DDD;\n",
              "  }\n",
              "\n",
              "  [theme=dark] .colab-df-quickchart {\n",
              "      --bg-color: #3B4455;\n",
              "      --fill-color: #D2E3FC;\n",
              "      --hover-bg-color: #434B5C;\n",
              "      --hover-fill-color: #FFFFFF;\n",
              "      --disabled-bg-color: #3B4455;\n",
              "      --disabled-fill-color: #666;\n",
              "  }\n",
              "\n",
              "  .colab-df-quickchart {\n",
              "    background-color: var(--bg-color);\n",
              "    border: none;\n",
              "    border-radius: 50%;\n",
              "    cursor: pointer;\n",
              "    display: none;\n",
              "    fill: var(--fill-color);\n",
              "    height: 32px;\n",
              "    padding: 0;\n",
              "    width: 32px;\n",
              "  }\n",
              "\n",
              "  .colab-df-quickchart:hover {\n",
              "    background-color: var(--hover-bg-color);\n",
              "    box-shadow: 0 1px 2px rgba(60, 64, 67, 0.3), 0 1px 3px 1px rgba(60, 64, 67, 0.15);\n",
              "    fill: var(--button-hover-fill-color);\n",
              "  }\n",
              "\n",
              "  .colab-df-quickchart-complete:disabled,\n",
              "  .colab-df-quickchart-complete:disabled:hover {\n",
              "    background-color: var(--disabled-bg-color);\n",
              "    fill: var(--disabled-fill-color);\n",
              "    box-shadow: none;\n",
              "  }\n",
              "\n",
              "  .colab-df-spinner {\n",
              "    border: 2px solid var(--fill-color);\n",
              "    border-color: transparent;\n",
              "    border-bottom-color: var(--fill-color);\n",
              "    animation:\n",
              "      spin 1s steps(1) infinite;\n",
              "  }\n",
              "\n",
              "  @keyframes spin {\n",
              "    0% {\n",
              "      border-color: transparent;\n",
              "      border-bottom-color: var(--fill-color);\n",
              "      border-left-color: var(--fill-color);\n",
              "    }\n",
              "    20% {\n",
              "      border-color: transparent;\n",
              "      border-left-color: var(--fill-color);\n",
              "      border-top-color: var(--fill-color);\n",
              "    }\n",
              "    30% {\n",
              "      border-color: transparent;\n",
              "      border-left-color: var(--fill-color);\n",
              "      border-top-color: var(--fill-color);\n",
              "      border-right-color: var(--fill-color);\n",
              "    }\n",
              "    40% {\n",
              "      border-color: transparent;\n",
              "      border-right-color: var(--fill-color);\n",
              "      border-top-color: var(--fill-color);\n",
              "    }\n",
              "    60% {\n",
              "      border-color: transparent;\n",
              "      border-right-color: var(--fill-color);\n",
              "    }\n",
              "    80% {\n",
              "      border-color: transparent;\n",
              "      border-right-color: var(--fill-color);\n",
              "      border-bottom-color: var(--fill-color);\n",
              "    }\n",
              "    90% {\n",
              "      border-color: transparent;\n",
              "      border-bottom-color: var(--fill-color);\n",
              "    }\n",
              "  }\n",
              "</style>\n",
              "\n",
              "  <script>\n",
              "    async function quickchart(key) {\n",
              "      const quickchartButtonEl =\n",
              "        document.querySelector('#' + key + ' button');\n",
              "      quickchartButtonEl.disabled = true;  // To prevent multiple clicks.\n",
              "      quickchartButtonEl.classList.add('colab-df-spinner');\n",
              "      try {\n",
              "        const charts = await google.colab.kernel.invokeFunction(\n",
              "            'suggestCharts', [key], {});\n",
              "      } catch (error) {\n",
              "        console.error('Error during call to suggestCharts:', error);\n",
              "      }\n",
              "      quickchartButtonEl.classList.remove('colab-df-spinner');\n",
              "      quickchartButtonEl.classList.add('colab-df-quickchart-complete');\n",
              "    }\n",
              "    (() => {\n",
              "      let quickchartButtonEl =\n",
              "        document.querySelector('#df-ddfd6cc3-637c-4ea8-a245-f2d045294c1c button');\n",
              "      quickchartButtonEl.style.display =\n",
              "        google.colab.kernel.accessAllowed ? 'block' : 'none';\n",
              "    })();\n",
              "  </script>\n",
              "</div>\n",
              "    </div>\n",
              "  </div>\n"
            ]
          },
          "metadata": {},
          "execution_count": 61
        }
      ]
    },
    {
      "cell_type": "markdown",
      "source": [
        "#Лассо регрессия"
      ],
      "metadata": {
        "id": "iQ_cOasFDTVS"
      }
    },
    {
      "cell_type": "code",
      "source": [],
      "metadata": {
        "id": "8tKLTZM7DVy2"
      },
      "execution_count": null,
      "outputs": []
    },
    {
      "cell_type": "code",
      "source": [
        "LS = Lasso()\n",
        "LS.fit(X_train,y_train)"
      ],
      "metadata": {
        "colab": {
          "base_uri": "https://localhost:8080/",
          "height": 75
        },
        "outputId": "07dbd567-a524-4271-cb1c-f29d9d4ad2a1",
        "id": "oKkF23SKDZQV"
      },
      "execution_count": null,
      "outputs": [
        {
          "output_type": "execute_result",
          "data": {
            "text/plain": [
              "Lasso()"
            ],
            "text/html": [
              "<style>#sk-container-id-3 {color: black;background-color: white;}#sk-container-id-3 pre{padding: 0;}#sk-container-id-3 div.sk-toggleable {background-color: white;}#sk-container-id-3 label.sk-toggleable__label {cursor: pointer;display: block;width: 100%;margin-bottom: 0;padding: 0.3em;box-sizing: border-box;text-align: center;}#sk-container-id-3 label.sk-toggleable__label-arrow:before {content: \"▸\";float: left;margin-right: 0.25em;color: #696969;}#sk-container-id-3 label.sk-toggleable__label-arrow:hover:before {color: black;}#sk-container-id-3 div.sk-estimator:hover label.sk-toggleable__label-arrow:before {color: black;}#sk-container-id-3 div.sk-toggleable__content {max-height: 0;max-width: 0;overflow: hidden;text-align: left;background-color: #f0f8ff;}#sk-container-id-3 div.sk-toggleable__content pre {margin: 0.2em;color: black;border-radius: 0.25em;background-color: #f0f8ff;}#sk-container-id-3 input.sk-toggleable__control:checked~div.sk-toggleable__content {max-height: 200px;max-width: 100%;overflow: auto;}#sk-container-id-3 input.sk-toggleable__control:checked~label.sk-toggleable__label-arrow:before {content: \"▾\";}#sk-container-id-3 div.sk-estimator input.sk-toggleable__control:checked~label.sk-toggleable__label {background-color: #d4ebff;}#sk-container-id-3 div.sk-label input.sk-toggleable__control:checked~label.sk-toggleable__label {background-color: #d4ebff;}#sk-container-id-3 input.sk-hidden--visually {border: 0;clip: rect(1px 1px 1px 1px);clip: rect(1px, 1px, 1px, 1px);height: 1px;margin: -1px;overflow: hidden;padding: 0;position: absolute;width: 1px;}#sk-container-id-3 div.sk-estimator {font-family: monospace;background-color: #f0f8ff;border: 1px dotted black;border-radius: 0.25em;box-sizing: border-box;margin-bottom: 0.5em;}#sk-container-id-3 div.sk-estimator:hover {background-color: #d4ebff;}#sk-container-id-3 div.sk-parallel-item::after {content: \"\";width: 100%;border-bottom: 1px solid gray;flex-grow: 1;}#sk-container-id-3 div.sk-label:hover label.sk-toggleable__label {background-color: #d4ebff;}#sk-container-id-3 div.sk-serial::before {content: \"\";position: absolute;border-left: 1px solid gray;box-sizing: border-box;top: 0;bottom: 0;left: 50%;z-index: 0;}#sk-container-id-3 div.sk-serial {display: flex;flex-direction: column;align-items: center;background-color: white;padding-right: 0.2em;padding-left: 0.2em;position: relative;}#sk-container-id-3 div.sk-item {position: relative;z-index: 1;}#sk-container-id-3 div.sk-parallel {display: flex;align-items: stretch;justify-content: center;background-color: white;position: relative;}#sk-container-id-3 div.sk-item::before, #sk-container-id-3 div.sk-parallel-item::before {content: \"\";position: absolute;border-left: 1px solid gray;box-sizing: border-box;top: 0;bottom: 0;left: 50%;z-index: -1;}#sk-container-id-3 div.sk-parallel-item {display: flex;flex-direction: column;z-index: 1;position: relative;background-color: white;}#sk-container-id-3 div.sk-parallel-item:first-child::after {align-self: flex-end;width: 50%;}#sk-container-id-3 div.sk-parallel-item:last-child::after {align-self: flex-start;width: 50%;}#sk-container-id-3 div.sk-parallel-item:only-child::after {width: 0;}#sk-container-id-3 div.sk-dashed-wrapped {border: 1px dashed gray;margin: 0 0.4em 0.5em 0.4em;box-sizing: border-box;padding-bottom: 0.4em;background-color: white;}#sk-container-id-3 div.sk-label label {font-family: monospace;font-weight: bold;display: inline-block;line-height: 1.2em;}#sk-container-id-3 div.sk-label-container {text-align: center;}#sk-container-id-3 div.sk-container {/* jupyter's `normalize.less` sets `[hidden] { display: none; }` but bootstrap.min.css set `[hidden] { display: none !important; }` so we also need the `!important` here to be able to override the default hidden behavior on the sphinx rendered scikit-learn.org. See: https://github.com/scikit-learn/scikit-learn/issues/21755 */display: inline-block !important;position: relative;}#sk-container-id-3 div.sk-text-repr-fallback {display: none;}</style><div id=\"sk-container-id-3\" class=\"sk-top-container\"><div class=\"sk-text-repr-fallback\"><pre>Lasso()</pre><b>In a Jupyter environment, please rerun this cell to show the HTML representation or trust the notebook. <br />On GitHub, the HTML representation is unable to render, please try loading this page with nbviewer.org.</b></div><div class=\"sk-container\" hidden><div class=\"sk-item\"><div class=\"sk-estimator sk-toggleable\"><input class=\"sk-toggleable__control sk-hidden--visually\" id=\"sk-estimator-id-3\" type=\"checkbox\" checked><label for=\"sk-estimator-id-3\" class=\"sk-toggleable__label sk-toggleable__label-arrow\">Lasso</label><div class=\"sk-toggleable__content\"><pre>Lasso()</pre></div></div></div></div></div>"
            ]
          },
          "metadata": {},
          "execution_count": 62
        }
      ]
    },
    {
      "cell_type": "code",
      "source": [
        "# Прогнозирование\n",
        "LS_predict = LS.predict(X_test)"
      ],
      "metadata": {
        "id": "-uUtPne0DZQV"
      },
      "execution_count": null,
      "outputs": []
    },
    {
      "cell_type": "code",
      "source": [
        "# Оценка модели\n",
        "mse = mean_squared_error(y_test, LS_predict)\n",
        "rmse = mean_squared_error(y_test, LS_predict, squared=False)\n",
        "mae = mean_absolute_error(y_test, LS_predict)\n",
        "r2 = r2_score(y_test, LS_predict)\n",
        "adj_r2 = 1 - (1-r2)*(len(y_test)-1)/(len(y_test)-X_test.shape[1]-1)\n",
        "\n",
        "print(f'Mean Squared Error: {mse}')\n",
        "print(f'Root Mean Squared Error: {rmse}')\n",
        "print(f'Mean Absolute Error: {mae}')\n",
        "print(f'R^2: {r2}')\n",
        "print(f'Adjusted R^2: {adj_r2}')"
      ],
      "metadata": {
        "colab": {
          "base_uri": "https://localhost:8080/"
        },
        "outputId": "c5c8b17a-3b82-4516-ace8-5a1fec82a310",
        "id": "UD-BAsSzDZQV"
      },
      "execution_count": null,
      "outputs": [
        {
          "output_type": "stream",
          "name": "stdout",
          "text": [
            "Mean Squared Error: 13593141166.914995\n",
            "Root Mean Squared Error: 116589.62718404668\n",
            "Mean Absolute Error: 92224.44457505122\n",
            "R^2: 0.34408209301722015\n",
            "Adjusted R^2: 0.33733165143592225\n"
          ]
        }
      ]
    },
    {
      "cell_type": "code",
      "source": [
        "LS_predict = LS.predict(to_predict)"
      ],
      "metadata": {
        "id": "eHbOWoICDZQW"
      },
      "execution_count": null,
      "outputs": []
    },
    {
      "cell_type": "code",
      "source": [
        "mse = mean_squared_error(new_data['price'], RR_predict)\n",
        "rmse = mean_squared_error(new_data['price'], RR_predict, squared=False)\n",
        "mae = mean_absolute_error(new_data['price'], RR_predict)\n",
        "r2 = r2_score(new_data['price'], RR_predict)\n",
        "print(f\"Mean Squared Error: {mse}\")\n",
        "print(f\"Root Mean Squared Error: {rmse}\")\n",
        "print(f\"Mean Absolute Error: {mae}\")\n",
        "print(f\"R^2 Score: {r2}\")"
      ],
      "metadata": {
        "colab": {
          "base_uri": "https://localhost:8080/"
        },
        "outputId": "da9cb589-fe04-4bf8-eea0-1b3b25acf1bc",
        "id": "FT51RZh-DZQW"
      },
      "execution_count": null,
      "outputs": [
        {
          "output_type": "stream",
          "name": "stdout",
          "text": [
            "Mean Squared Error: 18955520794.592457\n",
            "Root Mean Squared Error: 137679.04994803114\n",
            "Mean Absolute Error: 109516.21029549689\n",
            "R^2 Score: -1.034150991409954\n"
          ]
        }
      ]
    },
    {
      "cell_type": "code",
      "source": [
        "LS_predict = LS_predict.reshape(-1,1)"
      ],
      "metadata": {
        "id": "R4GK8JJqDZQW"
      },
      "execution_count": null,
      "outputs": []
    },
    {
      "cell_type": "code",
      "source": [
        "new_data['LS_predict'] = LS_predict"
      ],
      "metadata": {
        "id": "iqh57uNPDZQW"
      },
      "execution_count": null,
      "outputs": []
    },
    {
      "cell_type": "code",
      "source": [
        "new_data[['title','Year','PTS',\"Power\",'price','LR_predict','RR_predict','LS_predict']]"
      ],
      "metadata": {
        "colab": {
          "base_uri": "https://localhost:8080/",
          "height": 206
        },
        "outputId": "66d572b3-1f74-4d67-f58c-7d1401b4b6f7",
        "id": "FTu_dd6ZDZQW"
      },
      "execution_count": null,
      "outputs": [
        {
          "output_type": "execute_result",
          "data": {
            "text/plain": [
              "                       title  Year  PTS  Power   price  LR_predict  \\\n",
              "0         Peugeot 308 1.6 AT  2013    1    150  850000  1037238.59   \n",
              "1      Renault Megane 1.6 MT  2013    1    106  739000   776762.63   \n",
              "2     Hyundai Solaris 1.6 AT  2015    4    123  799000   861444.20   \n",
              "3      Renault Duster 1.6 MT  2013    1    102  995000   763234.23   \n",
              "4  Volkswagen Passat 1.4 AMT  2011    4    122  730000   759135.77   \n",
              "\n",
              "   RR_predict  LS_predict  \n",
              "0  1036925.00  1037224.23  \n",
              "1   776749.50   776761.69  \n",
              "2   861417.68   861443.04  \n",
              "3   763295.15   763236.38  \n",
              "4   758784.03   759120.65  "
            ],
            "text/html": [
              "\n",
              "  <div id=\"df-219bbe02-40a4-4274-944f-fd44cf99119a\" class=\"colab-df-container\">\n",
              "    <div>\n",
              "<style scoped>\n",
              "    .dataframe tbody tr th:only-of-type {\n",
              "        vertical-align: middle;\n",
              "    }\n",
              "\n",
              "    .dataframe tbody tr th {\n",
              "        vertical-align: top;\n",
              "    }\n",
              "\n",
              "    .dataframe thead th {\n",
              "        text-align: right;\n",
              "    }\n",
              "</style>\n",
              "<table border=\"1\" class=\"dataframe\">\n",
              "  <thead>\n",
              "    <tr style=\"text-align: right;\">\n",
              "      <th></th>\n",
              "      <th>title</th>\n",
              "      <th>Year</th>\n",
              "      <th>PTS</th>\n",
              "      <th>Power</th>\n",
              "      <th>price</th>\n",
              "      <th>LR_predict</th>\n",
              "      <th>RR_predict</th>\n",
              "      <th>LS_predict</th>\n",
              "    </tr>\n",
              "  </thead>\n",
              "  <tbody>\n",
              "    <tr>\n",
              "      <th>0</th>\n",
              "      <td>Peugeot 308 1.6 AT</td>\n",
              "      <td>2013</td>\n",
              "      <td>1</td>\n",
              "      <td>150</td>\n",
              "      <td>850000</td>\n",
              "      <td>1037238.59</td>\n",
              "      <td>1036925.00</td>\n",
              "      <td>1037224.23</td>\n",
              "    </tr>\n",
              "    <tr>\n",
              "      <th>1</th>\n",
              "      <td>Renault Megane 1.6 MT</td>\n",
              "      <td>2013</td>\n",
              "      <td>1</td>\n",
              "      <td>106</td>\n",
              "      <td>739000</td>\n",
              "      <td>776762.63</td>\n",
              "      <td>776749.50</td>\n",
              "      <td>776761.69</td>\n",
              "    </tr>\n",
              "    <tr>\n",
              "      <th>2</th>\n",
              "      <td>Hyundai Solaris 1.6 AT</td>\n",
              "      <td>2015</td>\n",
              "      <td>4</td>\n",
              "      <td>123</td>\n",
              "      <td>799000</td>\n",
              "      <td>861444.20</td>\n",
              "      <td>861417.68</td>\n",
              "      <td>861443.04</td>\n",
              "    </tr>\n",
              "    <tr>\n",
              "      <th>3</th>\n",
              "      <td>Renault Duster 1.6 MT</td>\n",
              "      <td>2013</td>\n",
              "      <td>1</td>\n",
              "      <td>102</td>\n",
              "      <td>995000</td>\n",
              "      <td>763234.23</td>\n",
              "      <td>763295.15</td>\n",
              "      <td>763236.38</td>\n",
              "    </tr>\n",
              "    <tr>\n",
              "      <th>4</th>\n",
              "      <td>Volkswagen Passat 1.4 AMT</td>\n",
              "      <td>2011</td>\n",
              "      <td>4</td>\n",
              "      <td>122</td>\n",
              "      <td>730000</td>\n",
              "      <td>759135.77</td>\n",
              "      <td>758784.03</td>\n",
              "      <td>759120.65</td>\n",
              "    </tr>\n",
              "  </tbody>\n",
              "</table>\n",
              "</div>\n",
              "    <div class=\"colab-df-buttons\">\n",
              "\n",
              "  <div class=\"colab-df-container\">\n",
              "    <button class=\"colab-df-convert\" onclick=\"convertToInteractive('df-219bbe02-40a4-4274-944f-fd44cf99119a')\"\n",
              "            title=\"Convert this dataframe to an interactive table.\"\n",
              "            style=\"display:none;\">\n",
              "\n",
              "  <svg xmlns=\"http://www.w3.org/2000/svg\" height=\"24px\" viewBox=\"0 -960 960 960\">\n",
              "    <path d=\"M120-120v-720h720v720H120Zm60-500h600v-160H180v160Zm220 220h160v-160H400v160Zm0 220h160v-160H400v160ZM180-400h160v-160H180v160Zm440 0h160v-160H620v160ZM180-180h160v-160H180v160Zm440 0h160v-160H620v160Z\"/>\n",
              "  </svg>\n",
              "    </button>\n",
              "\n",
              "  <style>\n",
              "    .colab-df-container {\n",
              "      display:flex;\n",
              "      gap: 12px;\n",
              "    }\n",
              "\n",
              "    .colab-df-convert {\n",
              "      background-color: #E8F0FE;\n",
              "      border: none;\n",
              "      border-radius: 50%;\n",
              "      cursor: pointer;\n",
              "      display: none;\n",
              "      fill: #1967D2;\n",
              "      height: 32px;\n",
              "      padding: 0 0 0 0;\n",
              "      width: 32px;\n",
              "    }\n",
              "\n",
              "    .colab-df-convert:hover {\n",
              "      background-color: #E2EBFA;\n",
              "      box-shadow: 0px 1px 2px rgba(60, 64, 67, 0.3), 0px 1px 3px 1px rgba(60, 64, 67, 0.15);\n",
              "      fill: #174EA6;\n",
              "    }\n",
              "\n",
              "    .colab-df-buttons div {\n",
              "      margin-bottom: 4px;\n",
              "    }\n",
              "\n",
              "    [theme=dark] .colab-df-convert {\n",
              "      background-color: #3B4455;\n",
              "      fill: #D2E3FC;\n",
              "    }\n",
              "\n",
              "    [theme=dark] .colab-df-convert:hover {\n",
              "      background-color: #434B5C;\n",
              "      box-shadow: 0px 1px 3px 1px rgba(0, 0, 0, 0.15);\n",
              "      filter: drop-shadow(0px 1px 2px rgba(0, 0, 0, 0.3));\n",
              "      fill: #FFFFFF;\n",
              "    }\n",
              "  </style>\n",
              "\n",
              "    <script>\n",
              "      const buttonEl =\n",
              "        document.querySelector('#df-219bbe02-40a4-4274-944f-fd44cf99119a button.colab-df-convert');\n",
              "      buttonEl.style.display =\n",
              "        google.colab.kernel.accessAllowed ? 'block' : 'none';\n",
              "\n",
              "      async function convertToInteractive(key) {\n",
              "        const element = document.querySelector('#df-219bbe02-40a4-4274-944f-fd44cf99119a');\n",
              "        const dataTable =\n",
              "          await google.colab.kernel.invokeFunction('convertToInteractive',\n",
              "                                                    [key], {});\n",
              "        if (!dataTable) return;\n",
              "\n",
              "        const docLinkHtml = 'Like what you see? Visit the ' +\n",
              "          '<a target=\"_blank\" href=https://colab.research.google.com/notebooks/data_table.ipynb>data table notebook</a>'\n",
              "          + ' to learn more about interactive tables.';\n",
              "        element.innerHTML = '';\n",
              "        dataTable['output_type'] = 'display_data';\n",
              "        await google.colab.output.renderOutput(dataTable, element);\n",
              "        const docLink = document.createElement('div');\n",
              "        docLink.innerHTML = docLinkHtml;\n",
              "        element.appendChild(docLink);\n",
              "      }\n",
              "    </script>\n",
              "  </div>\n",
              "\n",
              "\n",
              "<div id=\"df-cfa5f644-3aa1-45b8-a7b2-d86ef3bde5a0\">\n",
              "  <button class=\"colab-df-quickchart\" onclick=\"quickchart('df-cfa5f644-3aa1-45b8-a7b2-d86ef3bde5a0')\"\n",
              "            title=\"Suggest charts.\"\n",
              "            style=\"display:none;\">\n",
              "\n",
              "<svg xmlns=\"http://www.w3.org/2000/svg\" height=\"24px\"viewBox=\"0 0 24 24\"\n",
              "     width=\"24px\">\n",
              "    <g>\n",
              "        <path d=\"M19 3H5c-1.1 0-2 .9-2 2v14c0 1.1.9 2 2 2h14c1.1 0 2-.9 2-2V5c0-1.1-.9-2-2-2zM9 17H7v-7h2v7zm4 0h-2V7h2v10zm4 0h-2v-4h2v4z\"/>\n",
              "    </g>\n",
              "</svg>\n",
              "  </button>\n",
              "\n",
              "<style>\n",
              "  .colab-df-quickchart {\n",
              "      --bg-color: #E8F0FE;\n",
              "      --fill-color: #1967D2;\n",
              "      --hover-bg-color: #E2EBFA;\n",
              "      --hover-fill-color: #174EA6;\n",
              "      --disabled-fill-color: #AAA;\n",
              "      --disabled-bg-color: #DDD;\n",
              "  }\n",
              "\n",
              "  [theme=dark] .colab-df-quickchart {\n",
              "      --bg-color: #3B4455;\n",
              "      --fill-color: #D2E3FC;\n",
              "      --hover-bg-color: #434B5C;\n",
              "      --hover-fill-color: #FFFFFF;\n",
              "      --disabled-bg-color: #3B4455;\n",
              "      --disabled-fill-color: #666;\n",
              "  }\n",
              "\n",
              "  .colab-df-quickchart {\n",
              "    background-color: var(--bg-color);\n",
              "    border: none;\n",
              "    border-radius: 50%;\n",
              "    cursor: pointer;\n",
              "    display: none;\n",
              "    fill: var(--fill-color);\n",
              "    height: 32px;\n",
              "    padding: 0;\n",
              "    width: 32px;\n",
              "  }\n",
              "\n",
              "  .colab-df-quickchart:hover {\n",
              "    background-color: var(--hover-bg-color);\n",
              "    box-shadow: 0 1px 2px rgba(60, 64, 67, 0.3), 0 1px 3px 1px rgba(60, 64, 67, 0.15);\n",
              "    fill: var(--button-hover-fill-color);\n",
              "  }\n",
              "\n",
              "  .colab-df-quickchart-complete:disabled,\n",
              "  .colab-df-quickchart-complete:disabled:hover {\n",
              "    background-color: var(--disabled-bg-color);\n",
              "    fill: var(--disabled-fill-color);\n",
              "    box-shadow: none;\n",
              "  }\n",
              "\n",
              "  .colab-df-spinner {\n",
              "    border: 2px solid var(--fill-color);\n",
              "    border-color: transparent;\n",
              "    border-bottom-color: var(--fill-color);\n",
              "    animation:\n",
              "      spin 1s steps(1) infinite;\n",
              "  }\n",
              "\n",
              "  @keyframes spin {\n",
              "    0% {\n",
              "      border-color: transparent;\n",
              "      border-bottom-color: var(--fill-color);\n",
              "      border-left-color: var(--fill-color);\n",
              "    }\n",
              "    20% {\n",
              "      border-color: transparent;\n",
              "      border-left-color: var(--fill-color);\n",
              "      border-top-color: var(--fill-color);\n",
              "    }\n",
              "    30% {\n",
              "      border-color: transparent;\n",
              "      border-left-color: var(--fill-color);\n",
              "      border-top-color: var(--fill-color);\n",
              "      border-right-color: var(--fill-color);\n",
              "    }\n",
              "    40% {\n",
              "      border-color: transparent;\n",
              "      border-right-color: var(--fill-color);\n",
              "      border-top-color: var(--fill-color);\n",
              "    }\n",
              "    60% {\n",
              "      border-color: transparent;\n",
              "      border-right-color: var(--fill-color);\n",
              "    }\n",
              "    80% {\n",
              "      border-color: transparent;\n",
              "      border-right-color: var(--fill-color);\n",
              "      border-bottom-color: var(--fill-color);\n",
              "    }\n",
              "    90% {\n",
              "      border-color: transparent;\n",
              "      border-bottom-color: var(--fill-color);\n",
              "    }\n",
              "  }\n",
              "</style>\n",
              "\n",
              "  <script>\n",
              "    async function quickchart(key) {\n",
              "      const quickchartButtonEl =\n",
              "        document.querySelector('#' + key + ' button');\n",
              "      quickchartButtonEl.disabled = true;  // To prevent multiple clicks.\n",
              "      quickchartButtonEl.classList.add('colab-df-spinner');\n",
              "      try {\n",
              "        const charts = await google.colab.kernel.invokeFunction(\n",
              "            'suggestCharts', [key], {});\n",
              "      } catch (error) {\n",
              "        console.error('Error during call to suggestCharts:', error);\n",
              "      }\n",
              "      quickchartButtonEl.classList.remove('colab-df-spinner');\n",
              "      quickchartButtonEl.classList.add('colab-df-quickchart-complete');\n",
              "    }\n",
              "    (() => {\n",
              "      let quickchartButtonEl =\n",
              "        document.querySelector('#df-cfa5f644-3aa1-45b8-a7b2-d86ef3bde5a0 button');\n",
              "      quickchartButtonEl.style.display =\n",
              "        google.colab.kernel.accessAllowed ? 'block' : 'none';\n",
              "    })();\n",
              "  </script>\n",
              "</div>\n",
              "    </div>\n",
              "  </div>\n"
            ]
          },
          "metadata": {},
          "execution_count": 69
        }
      ]
    },
    {
      "cell_type": "markdown",
      "source": [
        "#KNN"
      ],
      "metadata": {
        "id": "cumu4KiyDz-5"
      }
    },
    {
      "cell_type": "code",
      "source": [
        "KNN = KNeighborsRegressor()\n",
        "KNN.fit(X_train, y_train)"
      ],
      "metadata": {
        "colab": {
          "base_uri": "https://localhost:8080/",
          "height": 75
        },
        "id": "XkL9OHg9D13q",
        "outputId": "c85cb846-87b3-4932-b394-cc6d3bc7ad8b"
      },
      "execution_count": null,
      "outputs": [
        {
          "output_type": "execute_result",
          "data": {
            "text/plain": [
              "KNeighborsRegressor()"
            ],
            "text/html": [
              "<style>#sk-container-id-4 {color: black;background-color: white;}#sk-container-id-4 pre{padding: 0;}#sk-container-id-4 div.sk-toggleable {background-color: white;}#sk-container-id-4 label.sk-toggleable__label {cursor: pointer;display: block;width: 100%;margin-bottom: 0;padding: 0.3em;box-sizing: border-box;text-align: center;}#sk-container-id-4 label.sk-toggleable__label-arrow:before {content: \"▸\";float: left;margin-right: 0.25em;color: #696969;}#sk-container-id-4 label.sk-toggleable__label-arrow:hover:before {color: black;}#sk-container-id-4 div.sk-estimator:hover label.sk-toggleable__label-arrow:before {color: black;}#sk-container-id-4 div.sk-toggleable__content {max-height: 0;max-width: 0;overflow: hidden;text-align: left;background-color: #f0f8ff;}#sk-container-id-4 div.sk-toggleable__content pre {margin: 0.2em;color: black;border-radius: 0.25em;background-color: #f0f8ff;}#sk-container-id-4 input.sk-toggleable__control:checked~div.sk-toggleable__content {max-height: 200px;max-width: 100%;overflow: auto;}#sk-container-id-4 input.sk-toggleable__control:checked~label.sk-toggleable__label-arrow:before {content: \"▾\";}#sk-container-id-4 div.sk-estimator input.sk-toggleable__control:checked~label.sk-toggleable__label {background-color: #d4ebff;}#sk-container-id-4 div.sk-label input.sk-toggleable__control:checked~label.sk-toggleable__label {background-color: #d4ebff;}#sk-container-id-4 input.sk-hidden--visually {border: 0;clip: rect(1px 1px 1px 1px);clip: rect(1px, 1px, 1px, 1px);height: 1px;margin: -1px;overflow: hidden;padding: 0;position: absolute;width: 1px;}#sk-container-id-4 div.sk-estimator {font-family: monospace;background-color: #f0f8ff;border: 1px dotted black;border-radius: 0.25em;box-sizing: border-box;margin-bottom: 0.5em;}#sk-container-id-4 div.sk-estimator:hover {background-color: #d4ebff;}#sk-container-id-4 div.sk-parallel-item::after {content: \"\";width: 100%;border-bottom: 1px solid gray;flex-grow: 1;}#sk-container-id-4 div.sk-label:hover label.sk-toggleable__label {background-color: #d4ebff;}#sk-container-id-4 div.sk-serial::before {content: \"\";position: absolute;border-left: 1px solid gray;box-sizing: border-box;top: 0;bottom: 0;left: 50%;z-index: 0;}#sk-container-id-4 div.sk-serial {display: flex;flex-direction: column;align-items: center;background-color: white;padding-right: 0.2em;padding-left: 0.2em;position: relative;}#sk-container-id-4 div.sk-item {position: relative;z-index: 1;}#sk-container-id-4 div.sk-parallel {display: flex;align-items: stretch;justify-content: center;background-color: white;position: relative;}#sk-container-id-4 div.sk-item::before, #sk-container-id-4 div.sk-parallel-item::before {content: \"\";position: absolute;border-left: 1px solid gray;box-sizing: border-box;top: 0;bottom: 0;left: 50%;z-index: -1;}#sk-container-id-4 div.sk-parallel-item {display: flex;flex-direction: column;z-index: 1;position: relative;background-color: white;}#sk-container-id-4 div.sk-parallel-item:first-child::after {align-self: flex-end;width: 50%;}#sk-container-id-4 div.sk-parallel-item:last-child::after {align-self: flex-start;width: 50%;}#sk-container-id-4 div.sk-parallel-item:only-child::after {width: 0;}#sk-container-id-4 div.sk-dashed-wrapped {border: 1px dashed gray;margin: 0 0.4em 0.5em 0.4em;box-sizing: border-box;padding-bottom: 0.4em;background-color: white;}#sk-container-id-4 div.sk-label label {font-family: monospace;font-weight: bold;display: inline-block;line-height: 1.2em;}#sk-container-id-4 div.sk-label-container {text-align: center;}#sk-container-id-4 div.sk-container {/* jupyter's `normalize.less` sets `[hidden] { display: none; }` but bootstrap.min.css set `[hidden] { display: none !important; }` so we also need the `!important` here to be able to override the default hidden behavior on the sphinx rendered scikit-learn.org. See: https://github.com/scikit-learn/scikit-learn/issues/21755 */display: inline-block !important;position: relative;}#sk-container-id-4 div.sk-text-repr-fallback {display: none;}</style><div id=\"sk-container-id-4\" class=\"sk-top-container\"><div class=\"sk-text-repr-fallback\"><pre>KNeighborsRegressor()</pre><b>In a Jupyter environment, please rerun this cell to show the HTML representation or trust the notebook. <br />On GitHub, the HTML representation is unable to render, please try loading this page with nbviewer.org.</b></div><div class=\"sk-container\" hidden><div class=\"sk-item\"><div class=\"sk-estimator sk-toggleable\"><input class=\"sk-toggleable__control sk-hidden--visually\" id=\"sk-estimator-id-4\" type=\"checkbox\" checked><label for=\"sk-estimator-id-4\" class=\"sk-toggleable__label sk-toggleable__label-arrow\">KNeighborsRegressor</label><div class=\"sk-toggleable__content\"><pre>KNeighborsRegressor()</pre></div></div></div></div></div>"
            ]
          },
          "metadata": {},
          "execution_count": 70
        }
      ]
    },
    {
      "cell_type": "code",
      "source": [
        "# Прогнозирование\n",
        "KNN_predict = KNN.predict(X_test)"
      ],
      "metadata": {
        "id": "26RVlfVOEF_l"
      },
      "execution_count": null,
      "outputs": []
    },
    {
      "cell_type": "code",
      "source": [
        "# Оценка модели\n",
        "mse = mean_squared_error(y_test, KNN_predict)\n",
        "rmse = mean_squared_error(y_test, KNN_predict, squared=False)\n",
        "mae = mean_absolute_error(y_test, KNN_predict)\n",
        "r2 = r2_score(y_test, KNN_predict)\n",
        "adj_r2 = 1 - (1-r2)*(len(y_test)-1)/(len(y_test)-X_test.shape[1]-1)\n",
        "\n",
        "print(f'Mean Squared Error: {mse}')\n",
        "print(f'Root Mean Squared Error: {rmse}')\n",
        "print(f'Mean Absolute Error: {mae}')\n",
        "print(f'R^2: {r2}')\n",
        "print(f'Adjusted R^2: {adj_r2}')"
      ],
      "metadata": {
        "colab": {
          "base_uri": "https://localhost:8080/"
        },
        "outputId": "a79979e6-e14b-4ef2-860d-d46dbff02cf0",
        "id": "nmppSp8bEF_n"
      },
      "execution_count": null,
      "outputs": [
        {
          "output_type": "stream",
          "name": "stdout",
          "text": [
            "Mean Squared Error: 20263450762.995186\n",
            "Root Mean Squared Error: 142349.74802575234\n",
            "Mean Absolute Error: 112895.58949152543\n",
            "R^2: 0.022215685873813062\n",
            "Adjusted R^2: 0.01215272552260016\n"
          ]
        }
      ]
    },
    {
      "cell_type": "code",
      "source": [
        "KNN_predict = KNN.predict(to_predict)"
      ],
      "metadata": {
        "id": "oPQRwSgCEF_o"
      },
      "execution_count": null,
      "outputs": []
    },
    {
      "cell_type": "code",
      "source": [
        "mse = mean_squared_error(new_data['price'], KNN_predict)\n",
        "rmse = mean_squared_error(new_data['price'], KNN_predict, squared=False)\n",
        "mae = mean_absolute_error(new_data['price'], KNN_predict)\n",
        "r2 = r2_score(new_data['price'], KNN_predict)\n",
        "print(f\"Mean Squared Error: {mse}\")\n",
        "print(f\"Root Mean Squared Error: {rmse}\")\n",
        "print(f\"Mean Absolute Error: {mae}\")\n",
        "print(f\"R^2 Score: {r2}\")"
      ],
      "metadata": {
        "colab": {
          "base_uri": "https://localhost:8080/"
        },
        "outputId": "9b8d9f01-5cc4-4d74-c6eb-62bc2f02047e",
        "id": "Vhb-AUMkEF_p"
      },
      "execution_count": null,
      "outputs": [
        {
          "output_type": "stream",
          "name": "stdout",
          "text": [
            "Mean Squared Error: 11759483696.008001\n",
            "Root Mean Squared Error: 108441.15314772341\n",
            "Mean Absolute Error: 83359.96\n",
            "R^2 Score: -0.26193132216804194\n"
          ]
        }
      ]
    },
    {
      "cell_type": "code",
      "source": [
        "KNN_predict = KNN_predict.reshape(-1,1)"
      ],
      "metadata": {
        "id": "qfjqU7wWEF_q"
      },
      "execution_count": null,
      "outputs": []
    },
    {
      "cell_type": "code",
      "source": [
        "new_data['KNN_predict'] = KNN_predict"
      ],
      "metadata": {
        "id": "sohf0m3GEF_q"
      },
      "execution_count": null,
      "outputs": []
    },
    {
      "cell_type": "code",
      "source": [
        "new_data[['title','Year','PTS',\"Power\",'price','LR_predict','RR_predict','LS_predict','KNN_predict']]"
      ],
      "metadata": {
        "colab": {
          "base_uri": "https://localhost:8080/",
          "height": 206
        },
        "outputId": "68b5d8c8-f3ac-442c-c265-5a4ceede8d50",
        "id": "wU5F-y54EF_r"
      },
      "execution_count": null,
      "outputs": [
        {
          "output_type": "execute_result",
          "data": {
            "text/plain": [
              "                       title  Year  PTS  Power   price  LR_predict  \\\n",
              "0         Peugeot 308 1.6 AT  2013    1    150  850000  1037238.59   \n",
              "1      Renault Megane 1.6 MT  2013    1    106  739000   776762.63   \n",
              "2     Hyundai Solaris 1.6 AT  2015    4    123  799000   861444.20   \n",
              "3      Renault Duster 1.6 MT  2013    1    102  995000   763234.23   \n",
              "4  Volkswagen Passat 1.4 AMT  2011    4    122  730000   759135.77   \n",
              "\n",
              "   RR_predict  LS_predict  KNN_predict  \n",
              "0  1036925.00  1037224.23    933000.00  \n",
              "1   776749.50   776761.69    792799.80  \n",
              "2   861417.68   861443.04    866000.00  \n",
              "3   763295.15   763236.38    784000.00  \n",
              "4   758784.03   759120.65    732000.00  "
            ],
            "text/html": [
              "\n",
              "  <div id=\"df-c00923eb-32bc-4c2a-9521-b7e8eece49d7\" class=\"colab-df-container\">\n",
              "    <div>\n",
              "<style scoped>\n",
              "    .dataframe tbody tr th:only-of-type {\n",
              "        vertical-align: middle;\n",
              "    }\n",
              "\n",
              "    .dataframe tbody tr th {\n",
              "        vertical-align: top;\n",
              "    }\n",
              "\n",
              "    .dataframe thead th {\n",
              "        text-align: right;\n",
              "    }\n",
              "</style>\n",
              "<table border=\"1\" class=\"dataframe\">\n",
              "  <thead>\n",
              "    <tr style=\"text-align: right;\">\n",
              "      <th></th>\n",
              "      <th>title</th>\n",
              "      <th>Year</th>\n",
              "      <th>PTS</th>\n",
              "      <th>Power</th>\n",
              "      <th>price</th>\n",
              "      <th>LR_predict</th>\n",
              "      <th>RR_predict</th>\n",
              "      <th>LS_predict</th>\n",
              "      <th>KNN_predict</th>\n",
              "    </tr>\n",
              "  </thead>\n",
              "  <tbody>\n",
              "    <tr>\n",
              "      <th>0</th>\n",
              "      <td>Peugeot 308 1.6 AT</td>\n",
              "      <td>2013</td>\n",
              "      <td>1</td>\n",
              "      <td>150</td>\n",
              "      <td>850000</td>\n",
              "      <td>1037238.59</td>\n",
              "      <td>1036925.00</td>\n",
              "      <td>1037224.23</td>\n",
              "      <td>933000.00</td>\n",
              "    </tr>\n",
              "    <tr>\n",
              "      <th>1</th>\n",
              "      <td>Renault Megane 1.6 MT</td>\n",
              "      <td>2013</td>\n",
              "      <td>1</td>\n",
              "      <td>106</td>\n",
              "      <td>739000</td>\n",
              "      <td>776762.63</td>\n",
              "      <td>776749.50</td>\n",
              "      <td>776761.69</td>\n",
              "      <td>792799.80</td>\n",
              "    </tr>\n",
              "    <tr>\n",
              "      <th>2</th>\n",
              "      <td>Hyundai Solaris 1.6 AT</td>\n",
              "      <td>2015</td>\n",
              "      <td>4</td>\n",
              "      <td>123</td>\n",
              "      <td>799000</td>\n",
              "      <td>861444.20</td>\n",
              "      <td>861417.68</td>\n",
              "      <td>861443.04</td>\n",
              "      <td>866000.00</td>\n",
              "    </tr>\n",
              "    <tr>\n",
              "      <th>3</th>\n",
              "      <td>Renault Duster 1.6 MT</td>\n",
              "      <td>2013</td>\n",
              "      <td>1</td>\n",
              "      <td>102</td>\n",
              "      <td>995000</td>\n",
              "      <td>763234.23</td>\n",
              "      <td>763295.15</td>\n",
              "      <td>763236.38</td>\n",
              "      <td>784000.00</td>\n",
              "    </tr>\n",
              "    <tr>\n",
              "      <th>4</th>\n",
              "      <td>Volkswagen Passat 1.4 AMT</td>\n",
              "      <td>2011</td>\n",
              "      <td>4</td>\n",
              "      <td>122</td>\n",
              "      <td>730000</td>\n",
              "      <td>759135.77</td>\n",
              "      <td>758784.03</td>\n",
              "      <td>759120.65</td>\n",
              "      <td>732000.00</td>\n",
              "    </tr>\n",
              "  </tbody>\n",
              "</table>\n",
              "</div>\n",
              "    <div class=\"colab-df-buttons\">\n",
              "\n",
              "  <div class=\"colab-df-container\">\n",
              "    <button class=\"colab-df-convert\" onclick=\"convertToInteractive('df-c00923eb-32bc-4c2a-9521-b7e8eece49d7')\"\n",
              "            title=\"Convert this dataframe to an interactive table.\"\n",
              "            style=\"display:none;\">\n",
              "\n",
              "  <svg xmlns=\"http://www.w3.org/2000/svg\" height=\"24px\" viewBox=\"0 -960 960 960\">\n",
              "    <path d=\"M120-120v-720h720v720H120Zm60-500h600v-160H180v160Zm220 220h160v-160H400v160Zm0 220h160v-160H400v160ZM180-400h160v-160H180v160Zm440 0h160v-160H620v160ZM180-180h160v-160H180v160Zm440 0h160v-160H620v160Z\"/>\n",
              "  </svg>\n",
              "    </button>\n",
              "\n",
              "  <style>\n",
              "    .colab-df-container {\n",
              "      display:flex;\n",
              "      gap: 12px;\n",
              "    }\n",
              "\n",
              "    .colab-df-convert {\n",
              "      background-color: #E8F0FE;\n",
              "      border: none;\n",
              "      border-radius: 50%;\n",
              "      cursor: pointer;\n",
              "      display: none;\n",
              "      fill: #1967D2;\n",
              "      height: 32px;\n",
              "      padding: 0 0 0 0;\n",
              "      width: 32px;\n",
              "    }\n",
              "\n",
              "    .colab-df-convert:hover {\n",
              "      background-color: #E2EBFA;\n",
              "      box-shadow: 0px 1px 2px rgba(60, 64, 67, 0.3), 0px 1px 3px 1px rgba(60, 64, 67, 0.15);\n",
              "      fill: #174EA6;\n",
              "    }\n",
              "\n",
              "    .colab-df-buttons div {\n",
              "      margin-bottom: 4px;\n",
              "    }\n",
              "\n",
              "    [theme=dark] .colab-df-convert {\n",
              "      background-color: #3B4455;\n",
              "      fill: #D2E3FC;\n",
              "    }\n",
              "\n",
              "    [theme=dark] .colab-df-convert:hover {\n",
              "      background-color: #434B5C;\n",
              "      box-shadow: 0px 1px 3px 1px rgba(0, 0, 0, 0.15);\n",
              "      filter: drop-shadow(0px 1px 2px rgba(0, 0, 0, 0.3));\n",
              "      fill: #FFFFFF;\n",
              "    }\n",
              "  </style>\n",
              "\n",
              "    <script>\n",
              "      const buttonEl =\n",
              "        document.querySelector('#df-c00923eb-32bc-4c2a-9521-b7e8eece49d7 button.colab-df-convert');\n",
              "      buttonEl.style.display =\n",
              "        google.colab.kernel.accessAllowed ? 'block' : 'none';\n",
              "\n",
              "      async function convertToInteractive(key) {\n",
              "        const element = document.querySelector('#df-c00923eb-32bc-4c2a-9521-b7e8eece49d7');\n",
              "        const dataTable =\n",
              "          await google.colab.kernel.invokeFunction('convertToInteractive',\n",
              "                                                    [key], {});\n",
              "        if (!dataTable) return;\n",
              "\n",
              "        const docLinkHtml = 'Like what you see? Visit the ' +\n",
              "          '<a target=\"_blank\" href=https://colab.research.google.com/notebooks/data_table.ipynb>data table notebook</a>'\n",
              "          + ' to learn more about interactive tables.';\n",
              "        element.innerHTML = '';\n",
              "        dataTable['output_type'] = 'display_data';\n",
              "        await google.colab.output.renderOutput(dataTable, element);\n",
              "        const docLink = document.createElement('div');\n",
              "        docLink.innerHTML = docLinkHtml;\n",
              "        element.appendChild(docLink);\n",
              "      }\n",
              "    </script>\n",
              "  </div>\n",
              "\n",
              "\n",
              "<div id=\"df-6e4bdd6e-4d0a-47b8-ab51-bcad7a4e2228\">\n",
              "  <button class=\"colab-df-quickchart\" onclick=\"quickchart('df-6e4bdd6e-4d0a-47b8-ab51-bcad7a4e2228')\"\n",
              "            title=\"Suggest charts.\"\n",
              "            style=\"display:none;\">\n",
              "\n",
              "<svg xmlns=\"http://www.w3.org/2000/svg\" height=\"24px\"viewBox=\"0 0 24 24\"\n",
              "     width=\"24px\">\n",
              "    <g>\n",
              "        <path d=\"M19 3H5c-1.1 0-2 .9-2 2v14c0 1.1.9 2 2 2h14c1.1 0 2-.9 2-2V5c0-1.1-.9-2-2-2zM9 17H7v-7h2v7zm4 0h-2V7h2v10zm4 0h-2v-4h2v4z\"/>\n",
              "    </g>\n",
              "</svg>\n",
              "  </button>\n",
              "\n",
              "<style>\n",
              "  .colab-df-quickchart {\n",
              "      --bg-color: #E8F0FE;\n",
              "      --fill-color: #1967D2;\n",
              "      --hover-bg-color: #E2EBFA;\n",
              "      --hover-fill-color: #174EA6;\n",
              "      --disabled-fill-color: #AAA;\n",
              "      --disabled-bg-color: #DDD;\n",
              "  }\n",
              "\n",
              "  [theme=dark] .colab-df-quickchart {\n",
              "      --bg-color: #3B4455;\n",
              "      --fill-color: #D2E3FC;\n",
              "      --hover-bg-color: #434B5C;\n",
              "      --hover-fill-color: #FFFFFF;\n",
              "      --disabled-bg-color: #3B4455;\n",
              "      --disabled-fill-color: #666;\n",
              "  }\n",
              "\n",
              "  .colab-df-quickchart {\n",
              "    background-color: var(--bg-color);\n",
              "    border: none;\n",
              "    border-radius: 50%;\n",
              "    cursor: pointer;\n",
              "    display: none;\n",
              "    fill: var(--fill-color);\n",
              "    height: 32px;\n",
              "    padding: 0;\n",
              "    width: 32px;\n",
              "  }\n",
              "\n",
              "  .colab-df-quickchart:hover {\n",
              "    background-color: var(--hover-bg-color);\n",
              "    box-shadow: 0 1px 2px rgba(60, 64, 67, 0.3), 0 1px 3px 1px rgba(60, 64, 67, 0.15);\n",
              "    fill: var(--button-hover-fill-color);\n",
              "  }\n",
              "\n",
              "  .colab-df-quickchart-complete:disabled,\n",
              "  .colab-df-quickchart-complete:disabled:hover {\n",
              "    background-color: var(--disabled-bg-color);\n",
              "    fill: var(--disabled-fill-color);\n",
              "    box-shadow: none;\n",
              "  }\n",
              "\n",
              "  .colab-df-spinner {\n",
              "    border: 2px solid var(--fill-color);\n",
              "    border-color: transparent;\n",
              "    border-bottom-color: var(--fill-color);\n",
              "    animation:\n",
              "      spin 1s steps(1) infinite;\n",
              "  }\n",
              "\n",
              "  @keyframes spin {\n",
              "    0% {\n",
              "      border-color: transparent;\n",
              "      border-bottom-color: var(--fill-color);\n",
              "      border-left-color: var(--fill-color);\n",
              "    }\n",
              "    20% {\n",
              "      border-color: transparent;\n",
              "      border-left-color: var(--fill-color);\n",
              "      border-top-color: var(--fill-color);\n",
              "    }\n",
              "    30% {\n",
              "      border-color: transparent;\n",
              "      border-left-color: var(--fill-color);\n",
              "      border-top-color: var(--fill-color);\n",
              "      border-right-color: var(--fill-color);\n",
              "    }\n",
              "    40% {\n",
              "      border-color: transparent;\n",
              "      border-right-color: var(--fill-color);\n",
              "      border-top-color: var(--fill-color);\n",
              "    }\n",
              "    60% {\n",
              "      border-color: transparent;\n",
              "      border-right-color: var(--fill-color);\n",
              "    }\n",
              "    80% {\n",
              "      border-color: transparent;\n",
              "      border-right-color: var(--fill-color);\n",
              "      border-bottom-color: var(--fill-color);\n",
              "    }\n",
              "    90% {\n",
              "      border-color: transparent;\n",
              "      border-bottom-color: var(--fill-color);\n",
              "    }\n",
              "  }\n",
              "</style>\n",
              "\n",
              "  <script>\n",
              "    async function quickchart(key) {\n",
              "      const quickchartButtonEl =\n",
              "        document.querySelector('#' + key + ' button');\n",
              "      quickchartButtonEl.disabled = true;  // To prevent multiple clicks.\n",
              "      quickchartButtonEl.classList.add('colab-df-spinner');\n",
              "      try {\n",
              "        const charts = await google.colab.kernel.invokeFunction(\n",
              "            'suggestCharts', [key], {});\n",
              "      } catch (error) {\n",
              "        console.error('Error during call to suggestCharts:', error);\n",
              "      }\n",
              "      quickchartButtonEl.classList.remove('colab-df-spinner');\n",
              "      quickchartButtonEl.classList.add('colab-df-quickchart-complete');\n",
              "    }\n",
              "    (() => {\n",
              "      let quickchartButtonEl =\n",
              "        document.querySelector('#df-6e4bdd6e-4d0a-47b8-ab51-bcad7a4e2228 button');\n",
              "      quickchartButtonEl.style.display =\n",
              "        google.colab.kernel.accessAllowed ? 'block' : 'none';\n",
              "    })();\n",
              "  </script>\n",
              "</div>\n",
              "    </div>\n",
              "  </div>\n"
            ]
          },
          "metadata": {},
          "execution_count": 77
        }
      ]
    },
    {
      "cell_type": "markdown",
      "source": [
        "#SVM"
      ],
      "metadata": {
        "id": "Dm3o5dfkEZvY"
      }
    },
    {
      "cell_type": "code",
      "source": [
        "SVM = SVR(gamma='auto')\n",
        "SVM.fit(X_train, y_train)"
      ],
      "metadata": {
        "colab": {
          "base_uri": "https://localhost:8080/",
          "height": 75
        },
        "id": "2Qr2YudUEbFW",
        "outputId": "5d1a6c6d-7165-47a2-b769-6773156647c8"
      },
      "execution_count": null,
      "outputs": [
        {
          "output_type": "execute_result",
          "data": {
            "text/plain": [
              "SVR(gamma='auto')"
            ],
            "text/html": [
              "<style>#sk-container-id-5 {color: black;background-color: white;}#sk-container-id-5 pre{padding: 0;}#sk-container-id-5 div.sk-toggleable {background-color: white;}#sk-container-id-5 label.sk-toggleable__label {cursor: pointer;display: block;width: 100%;margin-bottom: 0;padding: 0.3em;box-sizing: border-box;text-align: center;}#sk-container-id-5 label.sk-toggleable__label-arrow:before {content: \"▸\";float: left;margin-right: 0.25em;color: #696969;}#sk-container-id-5 label.sk-toggleable__label-arrow:hover:before {color: black;}#sk-container-id-5 div.sk-estimator:hover label.sk-toggleable__label-arrow:before {color: black;}#sk-container-id-5 div.sk-toggleable__content {max-height: 0;max-width: 0;overflow: hidden;text-align: left;background-color: #f0f8ff;}#sk-container-id-5 div.sk-toggleable__content pre {margin: 0.2em;color: black;border-radius: 0.25em;background-color: #f0f8ff;}#sk-container-id-5 input.sk-toggleable__control:checked~div.sk-toggleable__content {max-height: 200px;max-width: 100%;overflow: auto;}#sk-container-id-5 input.sk-toggleable__control:checked~label.sk-toggleable__label-arrow:before {content: \"▾\";}#sk-container-id-5 div.sk-estimator input.sk-toggleable__control:checked~label.sk-toggleable__label {background-color: #d4ebff;}#sk-container-id-5 div.sk-label input.sk-toggleable__control:checked~label.sk-toggleable__label {background-color: #d4ebff;}#sk-container-id-5 input.sk-hidden--visually {border: 0;clip: rect(1px 1px 1px 1px);clip: rect(1px, 1px, 1px, 1px);height: 1px;margin: -1px;overflow: hidden;padding: 0;position: absolute;width: 1px;}#sk-container-id-5 div.sk-estimator {font-family: monospace;background-color: #f0f8ff;border: 1px dotted black;border-radius: 0.25em;box-sizing: border-box;margin-bottom: 0.5em;}#sk-container-id-5 div.sk-estimator:hover {background-color: #d4ebff;}#sk-container-id-5 div.sk-parallel-item::after {content: \"\";width: 100%;border-bottom: 1px solid gray;flex-grow: 1;}#sk-container-id-5 div.sk-label:hover label.sk-toggleable__label {background-color: #d4ebff;}#sk-container-id-5 div.sk-serial::before {content: \"\";position: absolute;border-left: 1px solid gray;box-sizing: border-box;top: 0;bottom: 0;left: 50%;z-index: 0;}#sk-container-id-5 div.sk-serial {display: flex;flex-direction: column;align-items: center;background-color: white;padding-right: 0.2em;padding-left: 0.2em;position: relative;}#sk-container-id-5 div.sk-item {position: relative;z-index: 1;}#sk-container-id-5 div.sk-parallel {display: flex;align-items: stretch;justify-content: center;background-color: white;position: relative;}#sk-container-id-5 div.sk-item::before, #sk-container-id-5 div.sk-parallel-item::before {content: \"\";position: absolute;border-left: 1px solid gray;box-sizing: border-box;top: 0;bottom: 0;left: 50%;z-index: -1;}#sk-container-id-5 div.sk-parallel-item {display: flex;flex-direction: column;z-index: 1;position: relative;background-color: white;}#sk-container-id-5 div.sk-parallel-item:first-child::after {align-self: flex-end;width: 50%;}#sk-container-id-5 div.sk-parallel-item:last-child::after {align-self: flex-start;width: 50%;}#sk-container-id-5 div.sk-parallel-item:only-child::after {width: 0;}#sk-container-id-5 div.sk-dashed-wrapped {border: 1px dashed gray;margin: 0 0.4em 0.5em 0.4em;box-sizing: border-box;padding-bottom: 0.4em;background-color: white;}#sk-container-id-5 div.sk-label label {font-family: monospace;font-weight: bold;display: inline-block;line-height: 1.2em;}#sk-container-id-5 div.sk-label-container {text-align: center;}#sk-container-id-5 div.sk-container {/* jupyter's `normalize.less` sets `[hidden] { display: none; }` but bootstrap.min.css set `[hidden] { display: none !important; }` so we also need the `!important` here to be able to override the default hidden behavior on the sphinx rendered scikit-learn.org. See: https://github.com/scikit-learn/scikit-learn/issues/21755 */display: inline-block !important;position: relative;}#sk-container-id-5 div.sk-text-repr-fallback {display: none;}</style><div id=\"sk-container-id-5\" class=\"sk-top-container\"><div class=\"sk-text-repr-fallback\"><pre>SVR(gamma=&#x27;auto&#x27;)</pre><b>In a Jupyter environment, please rerun this cell to show the HTML representation or trust the notebook. <br />On GitHub, the HTML representation is unable to render, please try loading this page with nbviewer.org.</b></div><div class=\"sk-container\" hidden><div class=\"sk-item\"><div class=\"sk-estimator sk-toggleable\"><input class=\"sk-toggleable__control sk-hidden--visually\" id=\"sk-estimator-id-5\" type=\"checkbox\" checked><label for=\"sk-estimator-id-5\" class=\"sk-toggleable__label sk-toggleable__label-arrow\">SVR</label><div class=\"sk-toggleable__content\"><pre>SVR(gamma=&#x27;auto&#x27;)</pre></div></div></div></div></div>"
            ]
          },
          "metadata": {},
          "execution_count": 78
        }
      ]
    },
    {
      "cell_type": "code",
      "source": [
        "# Прогнозирование\n",
        "SVM_predict = SVM.predict(X_test)"
      ],
      "metadata": {
        "id": "j49wgxg8Eovt"
      },
      "execution_count": null,
      "outputs": []
    },
    {
      "cell_type": "code",
      "source": [
        "# Оценка модели\n",
        "mse = mean_squared_error(y_test, SVM_predict)\n",
        "rmse = mean_squared_error(y_test, SVM_predict, squared=False)\n",
        "mae = mean_absolute_error(y_test, SVM_predict)\n",
        "r2 = r2_score(y_test, SVM_predict)\n",
        "adj_r2 = 1 - (1-r2)*(len(y_test)-1)/(len(y_test)-X_test.shape[1]-1)\n",
        "\n",
        "print(f'Mean Squared Error: {mse}')\n",
        "print(f'Root Mean Squared Error: {rmse}')\n",
        "print(f'Mean Absolute Error: {mae}')\n",
        "print(f'R^2: {r2}')\n",
        "print(f'Adjusted R^2: {adj_r2}')"
      ],
      "metadata": {
        "colab": {
          "base_uri": "https://localhost:8080/"
        },
        "outputId": "34897133-bae9-4af3-d57e-03617a247d6b",
        "id": "S6V3OO_jEovt"
      },
      "execution_count": null,
      "outputs": [
        {
          "output_type": "stream",
          "name": "stdout",
          "text": [
            "Mean Squared Error: 20725922547.89835\n",
            "Root Mean Squared Error: 143965.0045945137\n",
            "Mean Absolute Error: 114922.98845272468\n",
            "R^2: -0.00010023959679084093\n",
            "Adjusted R^2: -0.010392866419399294\n"
          ]
        }
      ]
    },
    {
      "cell_type": "code",
      "source": [
        "SVM_predict = SVM.predict(to_predict)"
      ],
      "metadata": {
        "id": "1a120zAkEovt"
      },
      "execution_count": null,
      "outputs": []
    },
    {
      "cell_type": "code",
      "source": [
        "mse = mean_squared_error(new_data['price'], SVM_predict)\n",
        "rmse = mean_squared_error(new_data['price'], SVM_predict, squared=False)\n",
        "mae = mean_absolute_error(new_data['price'], SVM_predict)\n",
        "r2 = r2_score(new_data['price'], SVM_predict)\n",
        "print(f\"Mean Squared Error: {mse}\")\n",
        "print(f\"Root Mean Squared Error: {rmse}\")\n",
        "print(f\"Mean Absolute Error: {mae}\")\n",
        "print(f\"R^2 Score: {r2}\")"
      ],
      "metadata": {
        "colab": {
          "base_uri": "https://localhost:8080/"
        },
        "outputId": "ac4f71b7-3c46-4c9a-c259-4136c7e1a586",
        "id": "dZqKAe4xEovt"
      },
      "execution_count": null,
      "outputs": [
        {
          "output_type": "stream",
          "name": "stdout",
          "text": [
            "Mean Squared Error: 9325272227.240551\n",
            "Root Mean Squared Error: 96567.44910807446\n",
            "Mean Absolute Error: 79399.57105444798\n",
            "R^2 Score: -0.0007117162204517413\n"
          ]
        }
      ]
    },
    {
      "cell_type": "code",
      "source": [
        "SVM_predict = SVM_predict.reshape(-1,1)"
      ],
      "metadata": {
        "id": "DkXiojKaEovu"
      },
      "execution_count": null,
      "outputs": []
    },
    {
      "cell_type": "code",
      "source": [
        "new_data['SVM_predict'] = SVM_predict"
      ],
      "metadata": {
        "id": "k_tSgxYJEovu"
      },
      "execution_count": null,
      "outputs": []
    },
    {
      "cell_type": "code",
      "source": [
        "new_data[['title','Year','PTS',\"Power\",'price','LR_predict','RR_predict','LS_predict','KNN_predict','SVM_predict']]"
      ],
      "metadata": {
        "colab": {
          "base_uri": "https://localhost:8080/",
          "height": 206
        },
        "outputId": "2987107f-1263-4193-8ddd-1a04391d9078",
        "id": "TaEMoEAsEovu"
      },
      "execution_count": null,
      "outputs": [
        {
          "output_type": "execute_result",
          "data": {
            "text/plain": [
              "                       title  Year  PTS  Power   price  LR_predict  \\\n",
              "0         Peugeot 308 1.6 AT  2013    1    150  850000  1037238.59   \n",
              "1      Renault Megane 1.6 MT  2013    1    106  739000   776762.63   \n",
              "2     Hyundai Solaris 1.6 AT  2015    4    123  799000   861444.20   \n",
              "3      Renault Duster 1.6 MT  2013    1    102  995000   763234.23   \n",
              "4  Volkswagen Passat 1.4 AMT  2011    4    122  730000   759135.77   \n",
              "\n",
              "   RR_predict  LS_predict  KNN_predict  SVM_predict  \n",
              "0  1036925.00  1037224.23    933000.00    820001.52  \n",
              "1   776749.50   776761.69    792799.80    819999.52  \n",
              "2   861417.68   861443.04    866000.00    820001.34  \n",
              "3   763295.15   763236.38    784000.00    820001.52  \n",
              "4   758784.03   759120.65    732000.00    820000.03  "
            ],
            "text/html": [
              "\n",
              "  <div id=\"df-5c907800-0607-4fcf-b80f-96b3ce250660\" class=\"colab-df-container\">\n",
              "    <div>\n",
              "<style scoped>\n",
              "    .dataframe tbody tr th:only-of-type {\n",
              "        vertical-align: middle;\n",
              "    }\n",
              "\n",
              "    .dataframe tbody tr th {\n",
              "        vertical-align: top;\n",
              "    }\n",
              "\n",
              "    .dataframe thead th {\n",
              "        text-align: right;\n",
              "    }\n",
              "</style>\n",
              "<table border=\"1\" class=\"dataframe\">\n",
              "  <thead>\n",
              "    <tr style=\"text-align: right;\">\n",
              "      <th></th>\n",
              "      <th>title</th>\n",
              "      <th>Year</th>\n",
              "      <th>PTS</th>\n",
              "      <th>Power</th>\n",
              "      <th>price</th>\n",
              "      <th>LR_predict</th>\n",
              "      <th>RR_predict</th>\n",
              "      <th>LS_predict</th>\n",
              "      <th>KNN_predict</th>\n",
              "      <th>SVM_predict</th>\n",
              "    </tr>\n",
              "  </thead>\n",
              "  <tbody>\n",
              "    <tr>\n",
              "      <th>0</th>\n",
              "      <td>Peugeot 308 1.6 AT</td>\n",
              "      <td>2013</td>\n",
              "      <td>1</td>\n",
              "      <td>150</td>\n",
              "      <td>850000</td>\n",
              "      <td>1037238.59</td>\n",
              "      <td>1036925.00</td>\n",
              "      <td>1037224.23</td>\n",
              "      <td>933000.00</td>\n",
              "      <td>820001.52</td>\n",
              "    </tr>\n",
              "    <tr>\n",
              "      <th>1</th>\n",
              "      <td>Renault Megane 1.6 MT</td>\n",
              "      <td>2013</td>\n",
              "      <td>1</td>\n",
              "      <td>106</td>\n",
              "      <td>739000</td>\n",
              "      <td>776762.63</td>\n",
              "      <td>776749.50</td>\n",
              "      <td>776761.69</td>\n",
              "      <td>792799.80</td>\n",
              "      <td>819999.52</td>\n",
              "    </tr>\n",
              "    <tr>\n",
              "      <th>2</th>\n",
              "      <td>Hyundai Solaris 1.6 AT</td>\n",
              "      <td>2015</td>\n",
              "      <td>4</td>\n",
              "      <td>123</td>\n",
              "      <td>799000</td>\n",
              "      <td>861444.20</td>\n",
              "      <td>861417.68</td>\n",
              "      <td>861443.04</td>\n",
              "      <td>866000.00</td>\n",
              "      <td>820001.34</td>\n",
              "    </tr>\n",
              "    <tr>\n",
              "      <th>3</th>\n",
              "      <td>Renault Duster 1.6 MT</td>\n",
              "      <td>2013</td>\n",
              "      <td>1</td>\n",
              "      <td>102</td>\n",
              "      <td>995000</td>\n",
              "      <td>763234.23</td>\n",
              "      <td>763295.15</td>\n",
              "      <td>763236.38</td>\n",
              "      <td>784000.00</td>\n",
              "      <td>820001.52</td>\n",
              "    </tr>\n",
              "    <tr>\n",
              "      <th>4</th>\n",
              "      <td>Volkswagen Passat 1.4 AMT</td>\n",
              "      <td>2011</td>\n",
              "      <td>4</td>\n",
              "      <td>122</td>\n",
              "      <td>730000</td>\n",
              "      <td>759135.77</td>\n",
              "      <td>758784.03</td>\n",
              "      <td>759120.65</td>\n",
              "      <td>732000.00</td>\n",
              "      <td>820000.03</td>\n",
              "    </tr>\n",
              "  </tbody>\n",
              "</table>\n",
              "</div>\n",
              "    <div class=\"colab-df-buttons\">\n",
              "\n",
              "  <div class=\"colab-df-container\">\n",
              "    <button class=\"colab-df-convert\" onclick=\"convertToInteractive('df-5c907800-0607-4fcf-b80f-96b3ce250660')\"\n",
              "            title=\"Convert this dataframe to an interactive table.\"\n",
              "            style=\"display:none;\">\n",
              "\n",
              "  <svg xmlns=\"http://www.w3.org/2000/svg\" height=\"24px\" viewBox=\"0 -960 960 960\">\n",
              "    <path d=\"M120-120v-720h720v720H120Zm60-500h600v-160H180v160Zm220 220h160v-160H400v160Zm0 220h160v-160H400v160ZM180-400h160v-160H180v160Zm440 0h160v-160H620v160ZM180-180h160v-160H180v160Zm440 0h160v-160H620v160Z\"/>\n",
              "  </svg>\n",
              "    </button>\n",
              "\n",
              "  <style>\n",
              "    .colab-df-container {\n",
              "      display:flex;\n",
              "      gap: 12px;\n",
              "    }\n",
              "\n",
              "    .colab-df-convert {\n",
              "      background-color: #E8F0FE;\n",
              "      border: none;\n",
              "      border-radius: 50%;\n",
              "      cursor: pointer;\n",
              "      display: none;\n",
              "      fill: #1967D2;\n",
              "      height: 32px;\n",
              "      padding: 0 0 0 0;\n",
              "      width: 32px;\n",
              "    }\n",
              "\n",
              "    .colab-df-convert:hover {\n",
              "      background-color: #E2EBFA;\n",
              "      box-shadow: 0px 1px 2px rgba(60, 64, 67, 0.3), 0px 1px 3px 1px rgba(60, 64, 67, 0.15);\n",
              "      fill: #174EA6;\n",
              "    }\n",
              "\n",
              "    .colab-df-buttons div {\n",
              "      margin-bottom: 4px;\n",
              "    }\n",
              "\n",
              "    [theme=dark] .colab-df-convert {\n",
              "      background-color: #3B4455;\n",
              "      fill: #D2E3FC;\n",
              "    }\n",
              "\n",
              "    [theme=dark] .colab-df-convert:hover {\n",
              "      background-color: #434B5C;\n",
              "      box-shadow: 0px 1px 3px 1px rgba(0, 0, 0, 0.15);\n",
              "      filter: drop-shadow(0px 1px 2px rgba(0, 0, 0, 0.3));\n",
              "      fill: #FFFFFF;\n",
              "    }\n",
              "  </style>\n",
              "\n",
              "    <script>\n",
              "      const buttonEl =\n",
              "        document.querySelector('#df-5c907800-0607-4fcf-b80f-96b3ce250660 button.colab-df-convert');\n",
              "      buttonEl.style.display =\n",
              "        google.colab.kernel.accessAllowed ? 'block' : 'none';\n",
              "\n",
              "      async function convertToInteractive(key) {\n",
              "        const element = document.querySelector('#df-5c907800-0607-4fcf-b80f-96b3ce250660');\n",
              "        const dataTable =\n",
              "          await google.colab.kernel.invokeFunction('convertToInteractive',\n",
              "                                                    [key], {});\n",
              "        if (!dataTable) return;\n",
              "\n",
              "        const docLinkHtml = 'Like what you see? Visit the ' +\n",
              "          '<a target=\"_blank\" href=https://colab.research.google.com/notebooks/data_table.ipynb>data table notebook</a>'\n",
              "          + ' to learn more about interactive tables.';\n",
              "        element.innerHTML = '';\n",
              "        dataTable['output_type'] = 'display_data';\n",
              "        await google.colab.output.renderOutput(dataTable, element);\n",
              "        const docLink = document.createElement('div');\n",
              "        docLink.innerHTML = docLinkHtml;\n",
              "        element.appendChild(docLink);\n",
              "      }\n",
              "    </script>\n",
              "  </div>\n",
              "\n",
              "\n",
              "<div id=\"df-ad30dc7c-4187-4845-8619-900dc1ff875f\">\n",
              "  <button class=\"colab-df-quickchart\" onclick=\"quickchart('df-ad30dc7c-4187-4845-8619-900dc1ff875f')\"\n",
              "            title=\"Suggest charts.\"\n",
              "            style=\"display:none;\">\n",
              "\n",
              "<svg xmlns=\"http://www.w3.org/2000/svg\" height=\"24px\"viewBox=\"0 0 24 24\"\n",
              "     width=\"24px\">\n",
              "    <g>\n",
              "        <path d=\"M19 3H5c-1.1 0-2 .9-2 2v14c0 1.1.9 2 2 2h14c1.1 0 2-.9 2-2V5c0-1.1-.9-2-2-2zM9 17H7v-7h2v7zm4 0h-2V7h2v10zm4 0h-2v-4h2v4z\"/>\n",
              "    </g>\n",
              "</svg>\n",
              "  </button>\n",
              "\n",
              "<style>\n",
              "  .colab-df-quickchart {\n",
              "      --bg-color: #E8F0FE;\n",
              "      --fill-color: #1967D2;\n",
              "      --hover-bg-color: #E2EBFA;\n",
              "      --hover-fill-color: #174EA6;\n",
              "      --disabled-fill-color: #AAA;\n",
              "      --disabled-bg-color: #DDD;\n",
              "  }\n",
              "\n",
              "  [theme=dark] .colab-df-quickchart {\n",
              "      --bg-color: #3B4455;\n",
              "      --fill-color: #D2E3FC;\n",
              "      --hover-bg-color: #434B5C;\n",
              "      --hover-fill-color: #FFFFFF;\n",
              "      --disabled-bg-color: #3B4455;\n",
              "      --disabled-fill-color: #666;\n",
              "  }\n",
              "\n",
              "  .colab-df-quickchart {\n",
              "    background-color: var(--bg-color);\n",
              "    border: none;\n",
              "    border-radius: 50%;\n",
              "    cursor: pointer;\n",
              "    display: none;\n",
              "    fill: var(--fill-color);\n",
              "    height: 32px;\n",
              "    padding: 0;\n",
              "    width: 32px;\n",
              "  }\n",
              "\n",
              "  .colab-df-quickchart:hover {\n",
              "    background-color: var(--hover-bg-color);\n",
              "    box-shadow: 0 1px 2px rgba(60, 64, 67, 0.3), 0 1px 3px 1px rgba(60, 64, 67, 0.15);\n",
              "    fill: var(--button-hover-fill-color);\n",
              "  }\n",
              "\n",
              "  .colab-df-quickchart-complete:disabled,\n",
              "  .colab-df-quickchart-complete:disabled:hover {\n",
              "    background-color: var(--disabled-bg-color);\n",
              "    fill: var(--disabled-fill-color);\n",
              "    box-shadow: none;\n",
              "  }\n",
              "\n",
              "  .colab-df-spinner {\n",
              "    border: 2px solid var(--fill-color);\n",
              "    border-color: transparent;\n",
              "    border-bottom-color: var(--fill-color);\n",
              "    animation:\n",
              "      spin 1s steps(1) infinite;\n",
              "  }\n",
              "\n",
              "  @keyframes spin {\n",
              "    0% {\n",
              "      border-color: transparent;\n",
              "      border-bottom-color: var(--fill-color);\n",
              "      border-left-color: var(--fill-color);\n",
              "    }\n",
              "    20% {\n",
              "      border-color: transparent;\n",
              "      border-left-color: var(--fill-color);\n",
              "      border-top-color: var(--fill-color);\n",
              "    }\n",
              "    30% {\n",
              "      border-color: transparent;\n",
              "      border-left-color: var(--fill-color);\n",
              "      border-top-color: var(--fill-color);\n",
              "      border-right-color: var(--fill-color);\n",
              "    }\n",
              "    40% {\n",
              "      border-color: transparent;\n",
              "      border-right-color: var(--fill-color);\n",
              "      border-top-color: var(--fill-color);\n",
              "    }\n",
              "    60% {\n",
              "      border-color: transparent;\n",
              "      border-right-color: var(--fill-color);\n",
              "    }\n",
              "    80% {\n",
              "      border-color: transparent;\n",
              "      border-right-color: var(--fill-color);\n",
              "      border-bottom-color: var(--fill-color);\n",
              "    }\n",
              "    90% {\n",
              "      border-color: transparent;\n",
              "      border-bottom-color: var(--fill-color);\n",
              "    }\n",
              "  }\n",
              "</style>\n",
              "\n",
              "  <script>\n",
              "    async function quickchart(key) {\n",
              "      const quickchartButtonEl =\n",
              "        document.querySelector('#' + key + ' button');\n",
              "      quickchartButtonEl.disabled = true;  // To prevent multiple clicks.\n",
              "      quickchartButtonEl.classList.add('colab-df-spinner');\n",
              "      try {\n",
              "        const charts = await google.colab.kernel.invokeFunction(\n",
              "            'suggestCharts', [key], {});\n",
              "      } catch (error) {\n",
              "        console.error('Error during call to suggestCharts:', error);\n",
              "      }\n",
              "      quickchartButtonEl.classList.remove('colab-df-spinner');\n",
              "      quickchartButtonEl.classList.add('colab-df-quickchart-complete');\n",
              "    }\n",
              "    (() => {\n",
              "      let quickchartButtonEl =\n",
              "        document.querySelector('#df-ad30dc7c-4187-4845-8619-900dc1ff875f button');\n",
              "      quickchartButtonEl.style.display =\n",
              "        google.colab.kernel.accessAllowed ? 'block' : 'none';\n",
              "    })();\n",
              "  </script>\n",
              "</div>\n",
              "    </div>\n",
              "  </div>\n"
            ]
          },
          "metadata": {},
          "execution_count": 85
        }
      ]
    },
    {
      "cell_type": "markdown",
      "source": [
        "# Дерево решений"
      ],
      "metadata": {
        "id": "mqNSAgUCI307"
      }
    },
    {
      "cell_type": "code",
      "source": [
        "# Создание и обучение модели решающего дерева\n",
        "dt_regressor = DecisionTreeRegressor(random_state=42)\n",
        "dt_regressor.fit(X_train, y_train)\n",
        "\n",
        "# Предсказание на тестовой выборке\n",
        "y_pred = dt_regressor.predict(X_test)\n",
        "\n",
        "# Оценка модели\n",
        "mse = mean_squared_error(y_test, y_pred)\n",
        "rmse = mean_squared_error(y_test, y_pred, squared=False)\n",
        "mae = mean_absolute_error(y_test, y_pred)\n",
        "r2 = r2_score(y_test, y_pred)\n",
        "\n",
        "print(f\"Mean Squared Error: {mse}\")\n",
        "print(f\"Root Mean Squared Error: {rmse}\")\n",
        "print(f\"Mean Absolute Error: {mae}\")\n",
        "print(f\"R^2 Score: {r2}\")"
      ],
      "metadata": {
        "colab": {
          "base_uri": "https://localhost:8080/"
        },
        "id": "ByKMJLtmD4Ui",
        "outputId": "3550c0ab-cff1-41e0-e7d7-9e25586497ba"
      },
      "execution_count": null,
      "outputs": [
        {
          "output_type": "stream",
          "name": "stdout",
          "text": [
            "Mean Squared Error: 21697667145.517796\n",
            "Root Mean Squared Error: 147301.28018967723\n",
            "Mean Absolute Error: 113479.1372881356\n",
            "R^2 Score: -0.04699040830509005\n"
          ]
        }
      ]
    },
    {
      "cell_type": "code",
      "source": [
        "dt_pred = dt_regressor.predict(to_predict)"
      ],
      "metadata": {
        "id": "dZHIz3hFGDFM"
      },
      "execution_count": null,
      "outputs": []
    },
    {
      "cell_type": "code",
      "source": [
        "dt_pred = dt_pred.reshape(-1,1)"
      ],
      "metadata": {
        "id": "1LpdzU5E-UKC"
      },
      "execution_count": null,
      "outputs": []
    },
    {
      "cell_type": "code",
      "source": [
        "new_data['dt_pred'] = dt_pred"
      ],
      "metadata": {
        "id": "3j7BxcEe-UKD"
      },
      "execution_count": null,
      "outputs": []
    },
    {
      "cell_type": "code",
      "source": [
        "new_data[['title','Year','PTS',\"Power\",'price','dt_pred','LR_predict','RR_predict','LS_predict','KNN_predict','SVM_predict']]"
      ],
      "metadata": {
        "colab": {
          "base_uri": "https://localhost:8080/",
          "height": 206
        },
        "outputId": "31e95825-1b1e-422e-a8bc-187d12ca0333",
        "id": "OkcRCt84-UKD"
      },
      "execution_count": null,
      "outputs": [
        {
          "output_type": "execute_result",
          "data": {
            "text/plain": [
              "                       title  Year  PTS  Power   price   dt_pred  LR_predict  \\\n",
              "0         Peugeot 308 1.6 AT  2013    1    150  850000 850000.00  1037238.59   \n",
              "1      Renault Megane 1.6 MT  2013    1    106  739000 739000.00   776762.63   \n",
              "2     Hyundai Solaris 1.6 AT  2015    4    123  799000 900000.00   861444.20   \n",
              "3      Renault Duster 1.6 MT  2013    1    102  995000 995000.00   763234.23   \n",
              "4  Volkswagen Passat 1.4 AMT  2011    4    122  730000 750000.00   759135.77   \n",
              "\n",
              "   RR_predict  LS_predict  KNN_predict  SVM_predict  \n",
              "0  1036925.00  1037224.23    933000.00    820001.52  \n",
              "1   776749.50   776761.69    792799.80    819999.52  \n",
              "2   861417.68   861443.04    866000.00    820001.34  \n",
              "3   763295.15   763236.38    784000.00    820001.52  \n",
              "4   758784.03   759120.65    732000.00    820000.03  "
            ],
            "text/html": [
              "\n",
              "  <div id=\"df-1f110b6c-ae9b-4f91-96cf-64a980f8b751\" class=\"colab-df-container\">\n",
              "    <div>\n",
              "<style scoped>\n",
              "    .dataframe tbody tr th:only-of-type {\n",
              "        vertical-align: middle;\n",
              "    }\n",
              "\n",
              "    .dataframe tbody tr th {\n",
              "        vertical-align: top;\n",
              "    }\n",
              "\n",
              "    .dataframe thead th {\n",
              "        text-align: right;\n",
              "    }\n",
              "</style>\n",
              "<table border=\"1\" class=\"dataframe\">\n",
              "  <thead>\n",
              "    <tr style=\"text-align: right;\">\n",
              "      <th></th>\n",
              "      <th>title</th>\n",
              "      <th>Year</th>\n",
              "      <th>PTS</th>\n",
              "      <th>Power</th>\n",
              "      <th>price</th>\n",
              "      <th>dt_pred</th>\n",
              "      <th>LR_predict</th>\n",
              "      <th>RR_predict</th>\n",
              "      <th>LS_predict</th>\n",
              "      <th>KNN_predict</th>\n",
              "      <th>SVM_predict</th>\n",
              "    </tr>\n",
              "  </thead>\n",
              "  <tbody>\n",
              "    <tr>\n",
              "      <th>0</th>\n",
              "      <td>Peugeot 308 1.6 AT</td>\n",
              "      <td>2013</td>\n",
              "      <td>1</td>\n",
              "      <td>150</td>\n",
              "      <td>850000</td>\n",
              "      <td>850000.00</td>\n",
              "      <td>1037238.59</td>\n",
              "      <td>1036925.00</td>\n",
              "      <td>1037224.23</td>\n",
              "      <td>933000.00</td>\n",
              "      <td>820001.52</td>\n",
              "    </tr>\n",
              "    <tr>\n",
              "      <th>1</th>\n",
              "      <td>Renault Megane 1.6 MT</td>\n",
              "      <td>2013</td>\n",
              "      <td>1</td>\n",
              "      <td>106</td>\n",
              "      <td>739000</td>\n",
              "      <td>739000.00</td>\n",
              "      <td>776762.63</td>\n",
              "      <td>776749.50</td>\n",
              "      <td>776761.69</td>\n",
              "      <td>792799.80</td>\n",
              "      <td>819999.52</td>\n",
              "    </tr>\n",
              "    <tr>\n",
              "      <th>2</th>\n",
              "      <td>Hyundai Solaris 1.6 AT</td>\n",
              "      <td>2015</td>\n",
              "      <td>4</td>\n",
              "      <td>123</td>\n",
              "      <td>799000</td>\n",
              "      <td>900000.00</td>\n",
              "      <td>861444.20</td>\n",
              "      <td>861417.68</td>\n",
              "      <td>861443.04</td>\n",
              "      <td>866000.00</td>\n",
              "      <td>820001.34</td>\n",
              "    </tr>\n",
              "    <tr>\n",
              "      <th>3</th>\n",
              "      <td>Renault Duster 1.6 MT</td>\n",
              "      <td>2013</td>\n",
              "      <td>1</td>\n",
              "      <td>102</td>\n",
              "      <td>995000</td>\n",
              "      <td>995000.00</td>\n",
              "      <td>763234.23</td>\n",
              "      <td>763295.15</td>\n",
              "      <td>763236.38</td>\n",
              "      <td>784000.00</td>\n",
              "      <td>820001.52</td>\n",
              "    </tr>\n",
              "    <tr>\n",
              "      <th>4</th>\n",
              "      <td>Volkswagen Passat 1.4 AMT</td>\n",
              "      <td>2011</td>\n",
              "      <td>4</td>\n",
              "      <td>122</td>\n",
              "      <td>730000</td>\n",
              "      <td>750000.00</td>\n",
              "      <td>759135.77</td>\n",
              "      <td>758784.03</td>\n",
              "      <td>759120.65</td>\n",
              "      <td>732000.00</td>\n",
              "      <td>820000.03</td>\n",
              "    </tr>\n",
              "  </tbody>\n",
              "</table>\n",
              "</div>\n",
              "    <div class=\"colab-df-buttons\">\n",
              "\n",
              "  <div class=\"colab-df-container\">\n",
              "    <button class=\"colab-df-convert\" onclick=\"convertToInteractive('df-1f110b6c-ae9b-4f91-96cf-64a980f8b751')\"\n",
              "            title=\"Convert this dataframe to an interactive table.\"\n",
              "            style=\"display:none;\">\n",
              "\n",
              "  <svg xmlns=\"http://www.w3.org/2000/svg\" height=\"24px\" viewBox=\"0 -960 960 960\">\n",
              "    <path d=\"M120-120v-720h720v720H120Zm60-500h600v-160H180v160Zm220 220h160v-160H400v160Zm0 220h160v-160H400v160ZM180-400h160v-160H180v160Zm440 0h160v-160H620v160ZM180-180h160v-160H180v160Zm440 0h160v-160H620v160Z\"/>\n",
              "  </svg>\n",
              "    </button>\n",
              "\n",
              "  <style>\n",
              "    .colab-df-container {\n",
              "      display:flex;\n",
              "      gap: 12px;\n",
              "    }\n",
              "\n",
              "    .colab-df-convert {\n",
              "      background-color: #E8F0FE;\n",
              "      border: none;\n",
              "      border-radius: 50%;\n",
              "      cursor: pointer;\n",
              "      display: none;\n",
              "      fill: #1967D2;\n",
              "      height: 32px;\n",
              "      padding: 0 0 0 0;\n",
              "      width: 32px;\n",
              "    }\n",
              "\n",
              "    .colab-df-convert:hover {\n",
              "      background-color: #E2EBFA;\n",
              "      box-shadow: 0px 1px 2px rgba(60, 64, 67, 0.3), 0px 1px 3px 1px rgba(60, 64, 67, 0.15);\n",
              "      fill: #174EA6;\n",
              "    }\n",
              "\n",
              "    .colab-df-buttons div {\n",
              "      margin-bottom: 4px;\n",
              "    }\n",
              "\n",
              "    [theme=dark] .colab-df-convert {\n",
              "      background-color: #3B4455;\n",
              "      fill: #D2E3FC;\n",
              "    }\n",
              "\n",
              "    [theme=dark] .colab-df-convert:hover {\n",
              "      background-color: #434B5C;\n",
              "      box-shadow: 0px 1px 3px 1px rgba(0, 0, 0, 0.15);\n",
              "      filter: drop-shadow(0px 1px 2px rgba(0, 0, 0, 0.3));\n",
              "      fill: #FFFFFF;\n",
              "    }\n",
              "  </style>\n",
              "\n",
              "    <script>\n",
              "      const buttonEl =\n",
              "        document.querySelector('#df-1f110b6c-ae9b-4f91-96cf-64a980f8b751 button.colab-df-convert');\n",
              "      buttonEl.style.display =\n",
              "        google.colab.kernel.accessAllowed ? 'block' : 'none';\n",
              "\n",
              "      async function convertToInteractive(key) {\n",
              "        const element = document.querySelector('#df-1f110b6c-ae9b-4f91-96cf-64a980f8b751');\n",
              "        const dataTable =\n",
              "          await google.colab.kernel.invokeFunction('convertToInteractive',\n",
              "                                                    [key], {});\n",
              "        if (!dataTable) return;\n",
              "\n",
              "        const docLinkHtml = 'Like what you see? Visit the ' +\n",
              "          '<a target=\"_blank\" href=https://colab.research.google.com/notebooks/data_table.ipynb>data table notebook</a>'\n",
              "          + ' to learn more about interactive tables.';\n",
              "        element.innerHTML = '';\n",
              "        dataTable['output_type'] = 'display_data';\n",
              "        await google.colab.output.renderOutput(dataTable, element);\n",
              "        const docLink = document.createElement('div');\n",
              "        docLink.innerHTML = docLinkHtml;\n",
              "        element.appendChild(docLink);\n",
              "      }\n",
              "    </script>\n",
              "  </div>\n",
              "\n",
              "\n",
              "<div id=\"df-353ac655-cb7a-4279-80d4-e33470671565\">\n",
              "  <button class=\"colab-df-quickchart\" onclick=\"quickchart('df-353ac655-cb7a-4279-80d4-e33470671565')\"\n",
              "            title=\"Suggest charts.\"\n",
              "            style=\"display:none;\">\n",
              "\n",
              "<svg xmlns=\"http://www.w3.org/2000/svg\" height=\"24px\"viewBox=\"0 0 24 24\"\n",
              "     width=\"24px\">\n",
              "    <g>\n",
              "        <path d=\"M19 3H5c-1.1 0-2 .9-2 2v14c0 1.1.9 2 2 2h14c1.1 0 2-.9 2-2V5c0-1.1-.9-2-2-2zM9 17H7v-7h2v7zm4 0h-2V7h2v10zm4 0h-2v-4h2v4z\"/>\n",
              "    </g>\n",
              "</svg>\n",
              "  </button>\n",
              "\n",
              "<style>\n",
              "  .colab-df-quickchart {\n",
              "      --bg-color: #E8F0FE;\n",
              "      --fill-color: #1967D2;\n",
              "      --hover-bg-color: #E2EBFA;\n",
              "      --hover-fill-color: #174EA6;\n",
              "      --disabled-fill-color: #AAA;\n",
              "      --disabled-bg-color: #DDD;\n",
              "  }\n",
              "\n",
              "  [theme=dark] .colab-df-quickchart {\n",
              "      --bg-color: #3B4455;\n",
              "      --fill-color: #D2E3FC;\n",
              "      --hover-bg-color: #434B5C;\n",
              "      --hover-fill-color: #FFFFFF;\n",
              "      --disabled-bg-color: #3B4455;\n",
              "      --disabled-fill-color: #666;\n",
              "  }\n",
              "\n",
              "  .colab-df-quickchart {\n",
              "    background-color: var(--bg-color);\n",
              "    border: none;\n",
              "    border-radius: 50%;\n",
              "    cursor: pointer;\n",
              "    display: none;\n",
              "    fill: var(--fill-color);\n",
              "    height: 32px;\n",
              "    padding: 0;\n",
              "    width: 32px;\n",
              "  }\n",
              "\n",
              "  .colab-df-quickchart:hover {\n",
              "    background-color: var(--hover-bg-color);\n",
              "    box-shadow: 0 1px 2px rgba(60, 64, 67, 0.3), 0 1px 3px 1px rgba(60, 64, 67, 0.15);\n",
              "    fill: var(--button-hover-fill-color);\n",
              "  }\n",
              "\n",
              "  .colab-df-quickchart-complete:disabled,\n",
              "  .colab-df-quickchart-complete:disabled:hover {\n",
              "    background-color: var(--disabled-bg-color);\n",
              "    fill: var(--disabled-fill-color);\n",
              "    box-shadow: none;\n",
              "  }\n",
              "\n",
              "  .colab-df-spinner {\n",
              "    border: 2px solid var(--fill-color);\n",
              "    border-color: transparent;\n",
              "    border-bottom-color: var(--fill-color);\n",
              "    animation:\n",
              "      spin 1s steps(1) infinite;\n",
              "  }\n",
              "\n",
              "  @keyframes spin {\n",
              "    0% {\n",
              "      border-color: transparent;\n",
              "      border-bottom-color: var(--fill-color);\n",
              "      border-left-color: var(--fill-color);\n",
              "    }\n",
              "    20% {\n",
              "      border-color: transparent;\n",
              "      border-left-color: var(--fill-color);\n",
              "      border-top-color: var(--fill-color);\n",
              "    }\n",
              "    30% {\n",
              "      border-color: transparent;\n",
              "      border-left-color: var(--fill-color);\n",
              "      border-top-color: var(--fill-color);\n",
              "      border-right-color: var(--fill-color);\n",
              "    }\n",
              "    40% {\n",
              "      border-color: transparent;\n",
              "      border-right-color: var(--fill-color);\n",
              "      border-top-color: var(--fill-color);\n",
              "    }\n",
              "    60% {\n",
              "      border-color: transparent;\n",
              "      border-right-color: var(--fill-color);\n",
              "    }\n",
              "    80% {\n",
              "      border-color: transparent;\n",
              "      border-right-color: var(--fill-color);\n",
              "      border-bottom-color: var(--fill-color);\n",
              "    }\n",
              "    90% {\n",
              "      border-color: transparent;\n",
              "      border-bottom-color: var(--fill-color);\n",
              "    }\n",
              "  }\n",
              "</style>\n",
              "\n",
              "  <script>\n",
              "    async function quickchart(key) {\n",
              "      const quickchartButtonEl =\n",
              "        document.querySelector('#' + key + ' button');\n",
              "      quickchartButtonEl.disabled = true;  // To prevent multiple clicks.\n",
              "      quickchartButtonEl.classList.add('colab-df-spinner');\n",
              "      try {\n",
              "        const charts = await google.colab.kernel.invokeFunction(\n",
              "            'suggestCharts', [key], {});\n",
              "      } catch (error) {\n",
              "        console.error('Error during call to suggestCharts:', error);\n",
              "      }\n",
              "      quickchartButtonEl.classList.remove('colab-df-spinner');\n",
              "      quickchartButtonEl.classList.add('colab-df-quickchart-complete');\n",
              "    }\n",
              "    (() => {\n",
              "      let quickchartButtonEl =\n",
              "        document.querySelector('#df-353ac655-cb7a-4279-80d4-e33470671565 button');\n",
              "      quickchartButtonEl.style.display =\n",
              "        google.colab.kernel.accessAllowed ? 'block' : 'none';\n",
              "    })();\n",
              "  </script>\n",
              "</div>\n",
              "    </div>\n",
              "  </div>\n"
            ]
          },
          "metadata": {},
          "execution_count": 90
        }
      ]
    },
    {
      "cell_type": "markdown",
      "source": [
        "# Случайный лес"
      ],
      "metadata": {
        "id": "JyCDxmmyJAfi"
      }
    },
    {
      "cell_type": "code",
      "source": [
        "# Создание и обучение модели Случайного леса\n",
        "rf_regressor = RandomForestRegressor(n_estimators=100, random_state=42)\n",
        "rf_regressor.fit(X_train, y_train)\n",
        "\n",
        "# Предсказание на тестовой выборке\n",
        "y_pred = rf_regressor.predict(X_test)\n",
        "\n",
        "# Оценка модели\n",
        "mse = mean_squared_error(y_test, y_pred)\n",
        "rmse = mean_squared_error(y_test, y_pred, squared=False)\n",
        "mae = mean_absolute_error(y_test, y_pred)\n",
        "r2 = r2_score(y_test, y_pred)\n",
        "\n",
        "print(f\"Mean Squared Error: {mse}\")\n",
        "print(f\"Root Mean Squared Error: {rmse}\")\n",
        "print(f\"Mean Absolute Error: {mae}\")\n",
        "print(f\"R^2 Score: {r2}\")"
      ],
      "metadata": {
        "colab": {
          "base_uri": "https://localhost:8080/"
        },
        "id": "Mjo85YybGDCg",
        "outputId": "6f392af5-0663-4f9a-883c-6bceaab128af"
      },
      "execution_count": null,
      "outputs": [
        {
          "output_type": "stream",
          "name": "stdout",
          "text": [
            "Mean Squared Error: 13031540981.026258\n",
            "Root Mean Squared Error: 114155.77506646897\n",
            "Mean Absolute Error: 89241.31566026567\n",
            "R^2 Score: 0.4297334775267151\n"
          ]
        }
      ]
    },
    {
      "cell_type": "code",
      "source": [
        "rf_pred = rf_regressor.predict(to_predict)"
      ],
      "metadata": {
        "id": "EIofG-T4-e1S"
      },
      "execution_count": null,
      "outputs": []
    },
    {
      "cell_type": "code",
      "source": [
        "rf_pred = rf_pred.reshape(-1,1)"
      ],
      "metadata": {
        "id": "MUF3vZsM-e1S"
      },
      "execution_count": null,
      "outputs": []
    },
    {
      "cell_type": "code",
      "source": [
        "new_data['rf_pred'] = rf_pred"
      ],
      "metadata": {
        "id": "XRyMF_Ky-e1S"
      },
      "execution_count": null,
      "outputs": []
    },
    {
      "cell_type": "code",
      "source": [
        "new_data[['title','Year','PTS',\"Power\",'price','rf_pred','dt_pred','LR_predict','RR_predict','LS_predict','KNN_predict','SVM_predict']]"
      ],
      "metadata": {
        "colab": {
          "base_uri": "https://localhost:8080/",
          "height": 206
        },
        "outputId": "965a65f9-1872-4000-fd9c-38abc88a375d",
        "id": "dI4x0bAU-e1T"
      },
      "execution_count": null,
      "outputs": [
        {
          "output_type": "execute_result",
          "data": {
            "text/plain": [
              "                       title  Year  PTS  Power   price   rf_pred    dt_pred  \\\n",
              "0         Peugeot 308 1.6 AT  2013    1    150  850000 881580.80  850000.00   \n",
              "1      Renault Megane 1.6 MT  2013    1    106  739000 780965.98  739000.00   \n",
              "2     Hyundai Solaris 1.6 AT  2015    4    123  799000 876050.00  950000.00   \n",
              "3      Renault Duster 1.6 MT  2013    1    102  995000 949283.00  995000.00   \n",
              "4  Volkswagen Passat 1.4 AMT  2011    4    122  730000 894627.17 1050000.00   \n",
              "\n",
              "   LR_predict  RR_predict  LS_predict  KNN_predict  SVM_predict  \n",
              "0  1040273.27  1039983.02  1040258.66    869800.00    830001.53  \n",
              "1   775526.82   775515.84   775525.91    804799.80    829999.53  \n",
              "2   853307.65   853281.53   853306.41    881000.00    830002.19  \n",
              "3   765266.56   765323.89   765268.81    829000.00    830001.53  \n",
              "4   771756.72   771451.02   771742.44    765000.00    830000.15  "
            ],
            "text/html": [
              "\n",
              "  <div id=\"df-d3ea47dd-b576-4401-868c-9073f413e860\" class=\"colab-df-container\">\n",
              "    <div>\n",
              "<style scoped>\n",
              "    .dataframe tbody tr th:only-of-type {\n",
              "        vertical-align: middle;\n",
              "    }\n",
              "\n",
              "    .dataframe tbody tr th {\n",
              "        vertical-align: top;\n",
              "    }\n",
              "\n",
              "    .dataframe thead th {\n",
              "        text-align: right;\n",
              "    }\n",
              "</style>\n",
              "<table border=\"1\" class=\"dataframe\">\n",
              "  <thead>\n",
              "    <tr style=\"text-align: right;\">\n",
              "      <th></th>\n",
              "      <th>title</th>\n",
              "      <th>Year</th>\n",
              "      <th>PTS</th>\n",
              "      <th>Power</th>\n",
              "      <th>price</th>\n",
              "      <th>rf_pred</th>\n",
              "      <th>dt_pred</th>\n",
              "      <th>LR_predict</th>\n",
              "      <th>RR_predict</th>\n",
              "      <th>LS_predict</th>\n",
              "      <th>KNN_predict</th>\n",
              "      <th>SVM_predict</th>\n",
              "    </tr>\n",
              "  </thead>\n",
              "  <tbody>\n",
              "    <tr>\n",
              "      <th>0</th>\n",
              "      <td>Peugeot 308 1.6 AT</td>\n",
              "      <td>2013</td>\n",
              "      <td>1</td>\n",
              "      <td>150</td>\n",
              "      <td>850000</td>\n",
              "      <td>881580.80</td>\n",
              "      <td>850000.00</td>\n",
              "      <td>1040273.27</td>\n",
              "      <td>1039983.02</td>\n",
              "      <td>1040258.66</td>\n",
              "      <td>869800.00</td>\n",
              "      <td>830001.53</td>\n",
              "    </tr>\n",
              "    <tr>\n",
              "      <th>1</th>\n",
              "      <td>Renault Megane 1.6 MT</td>\n",
              "      <td>2013</td>\n",
              "      <td>1</td>\n",
              "      <td>106</td>\n",
              "      <td>739000</td>\n",
              "      <td>780965.98</td>\n",
              "      <td>739000.00</td>\n",
              "      <td>775526.82</td>\n",
              "      <td>775515.84</td>\n",
              "      <td>775525.91</td>\n",
              "      <td>804799.80</td>\n",
              "      <td>829999.53</td>\n",
              "    </tr>\n",
              "    <tr>\n",
              "      <th>2</th>\n",
              "      <td>Hyundai Solaris 1.6 AT</td>\n",
              "      <td>2015</td>\n",
              "      <td>4</td>\n",
              "      <td>123</td>\n",
              "      <td>799000</td>\n",
              "      <td>876050.00</td>\n",
              "      <td>950000.00</td>\n",
              "      <td>853307.65</td>\n",
              "      <td>853281.53</td>\n",
              "      <td>853306.41</td>\n",
              "      <td>881000.00</td>\n",
              "      <td>830002.19</td>\n",
              "    </tr>\n",
              "    <tr>\n",
              "      <th>3</th>\n",
              "      <td>Renault Duster 1.6 MT</td>\n",
              "      <td>2013</td>\n",
              "      <td>1</td>\n",
              "      <td>102</td>\n",
              "      <td>995000</td>\n",
              "      <td>949283.00</td>\n",
              "      <td>995000.00</td>\n",
              "      <td>765266.56</td>\n",
              "      <td>765323.89</td>\n",
              "      <td>765268.81</td>\n",
              "      <td>829000.00</td>\n",
              "      <td>830001.53</td>\n",
              "    </tr>\n",
              "    <tr>\n",
              "      <th>4</th>\n",
              "      <td>Volkswagen Passat 1.4 AMT</td>\n",
              "      <td>2011</td>\n",
              "      <td>4</td>\n",
              "      <td>122</td>\n",
              "      <td>730000</td>\n",
              "      <td>894627.17</td>\n",
              "      <td>1050000.00</td>\n",
              "      <td>771756.72</td>\n",
              "      <td>771451.02</td>\n",
              "      <td>771742.44</td>\n",
              "      <td>765000.00</td>\n",
              "      <td>830000.15</td>\n",
              "    </tr>\n",
              "  </tbody>\n",
              "</table>\n",
              "</div>\n",
              "    <div class=\"colab-df-buttons\">\n",
              "\n",
              "  <div class=\"colab-df-container\">\n",
              "    <button class=\"colab-df-convert\" onclick=\"convertToInteractive('df-d3ea47dd-b576-4401-868c-9073f413e860')\"\n",
              "            title=\"Convert this dataframe to an interactive table.\"\n",
              "            style=\"display:none;\">\n",
              "\n",
              "  <svg xmlns=\"http://www.w3.org/2000/svg\" height=\"24px\" viewBox=\"0 -960 960 960\">\n",
              "    <path d=\"M120-120v-720h720v720H120Zm60-500h600v-160H180v160Zm220 220h160v-160H400v160Zm0 220h160v-160H400v160ZM180-400h160v-160H180v160Zm440 0h160v-160H620v160ZM180-180h160v-160H180v160Zm440 0h160v-160H620v160Z\"/>\n",
              "  </svg>\n",
              "    </button>\n",
              "\n",
              "  <style>\n",
              "    .colab-df-container {\n",
              "      display:flex;\n",
              "      gap: 12px;\n",
              "    }\n",
              "\n",
              "    .colab-df-convert {\n",
              "      background-color: #E8F0FE;\n",
              "      border: none;\n",
              "      border-radius: 50%;\n",
              "      cursor: pointer;\n",
              "      display: none;\n",
              "      fill: #1967D2;\n",
              "      height: 32px;\n",
              "      padding: 0 0 0 0;\n",
              "      width: 32px;\n",
              "    }\n",
              "\n",
              "    .colab-df-convert:hover {\n",
              "      background-color: #E2EBFA;\n",
              "      box-shadow: 0px 1px 2px rgba(60, 64, 67, 0.3), 0px 1px 3px 1px rgba(60, 64, 67, 0.15);\n",
              "      fill: #174EA6;\n",
              "    }\n",
              "\n",
              "    .colab-df-buttons div {\n",
              "      margin-bottom: 4px;\n",
              "    }\n",
              "\n",
              "    [theme=dark] .colab-df-convert {\n",
              "      background-color: #3B4455;\n",
              "      fill: #D2E3FC;\n",
              "    }\n",
              "\n",
              "    [theme=dark] .colab-df-convert:hover {\n",
              "      background-color: #434B5C;\n",
              "      box-shadow: 0px 1px 3px 1px rgba(0, 0, 0, 0.15);\n",
              "      filter: drop-shadow(0px 1px 2px rgba(0, 0, 0, 0.3));\n",
              "      fill: #FFFFFF;\n",
              "    }\n",
              "  </style>\n",
              "\n",
              "    <script>\n",
              "      const buttonEl =\n",
              "        document.querySelector('#df-d3ea47dd-b576-4401-868c-9073f413e860 button.colab-df-convert');\n",
              "      buttonEl.style.display =\n",
              "        google.colab.kernel.accessAllowed ? 'block' : 'none';\n",
              "\n",
              "      async function convertToInteractive(key) {\n",
              "        const element = document.querySelector('#df-d3ea47dd-b576-4401-868c-9073f413e860');\n",
              "        const dataTable =\n",
              "          await google.colab.kernel.invokeFunction('convertToInteractive',\n",
              "                                                    [key], {});\n",
              "        if (!dataTable) return;\n",
              "\n",
              "        const docLinkHtml = 'Like what you see? Visit the ' +\n",
              "          '<a target=\"_blank\" href=https://colab.research.google.com/notebooks/data_table.ipynb>data table notebook</a>'\n",
              "          + ' to learn more about interactive tables.';\n",
              "        element.innerHTML = '';\n",
              "        dataTable['output_type'] = 'display_data';\n",
              "        await google.colab.output.renderOutput(dataTable, element);\n",
              "        const docLink = document.createElement('div');\n",
              "        docLink.innerHTML = docLinkHtml;\n",
              "        element.appendChild(docLink);\n",
              "      }\n",
              "    </script>\n",
              "  </div>\n",
              "\n",
              "\n",
              "<div id=\"df-daef4ec3-567c-4517-87de-310b0000f0b5\">\n",
              "  <button class=\"colab-df-quickchart\" onclick=\"quickchart('df-daef4ec3-567c-4517-87de-310b0000f0b5')\"\n",
              "            title=\"Suggest charts.\"\n",
              "            style=\"display:none;\">\n",
              "\n",
              "<svg xmlns=\"http://www.w3.org/2000/svg\" height=\"24px\"viewBox=\"0 0 24 24\"\n",
              "     width=\"24px\">\n",
              "    <g>\n",
              "        <path d=\"M19 3H5c-1.1 0-2 .9-2 2v14c0 1.1.9 2 2 2h14c1.1 0 2-.9 2-2V5c0-1.1-.9-2-2-2zM9 17H7v-7h2v7zm4 0h-2V7h2v10zm4 0h-2v-4h2v4z\"/>\n",
              "    </g>\n",
              "</svg>\n",
              "  </button>\n",
              "\n",
              "<style>\n",
              "  .colab-df-quickchart {\n",
              "      --bg-color: #E8F0FE;\n",
              "      --fill-color: #1967D2;\n",
              "      --hover-bg-color: #E2EBFA;\n",
              "      --hover-fill-color: #174EA6;\n",
              "      --disabled-fill-color: #AAA;\n",
              "      --disabled-bg-color: #DDD;\n",
              "  }\n",
              "\n",
              "  [theme=dark] .colab-df-quickchart {\n",
              "      --bg-color: #3B4455;\n",
              "      --fill-color: #D2E3FC;\n",
              "      --hover-bg-color: #434B5C;\n",
              "      --hover-fill-color: #FFFFFF;\n",
              "      --disabled-bg-color: #3B4455;\n",
              "      --disabled-fill-color: #666;\n",
              "  }\n",
              "\n",
              "  .colab-df-quickchart {\n",
              "    background-color: var(--bg-color);\n",
              "    border: none;\n",
              "    border-radius: 50%;\n",
              "    cursor: pointer;\n",
              "    display: none;\n",
              "    fill: var(--fill-color);\n",
              "    height: 32px;\n",
              "    padding: 0;\n",
              "    width: 32px;\n",
              "  }\n",
              "\n",
              "  .colab-df-quickchart:hover {\n",
              "    background-color: var(--hover-bg-color);\n",
              "    box-shadow: 0 1px 2px rgba(60, 64, 67, 0.3), 0 1px 3px 1px rgba(60, 64, 67, 0.15);\n",
              "    fill: var(--button-hover-fill-color);\n",
              "  }\n",
              "\n",
              "  .colab-df-quickchart-complete:disabled,\n",
              "  .colab-df-quickchart-complete:disabled:hover {\n",
              "    background-color: var(--disabled-bg-color);\n",
              "    fill: var(--disabled-fill-color);\n",
              "    box-shadow: none;\n",
              "  }\n",
              "\n",
              "  .colab-df-spinner {\n",
              "    border: 2px solid var(--fill-color);\n",
              "    border-color: transparent;\n",
              "    border-bottom-color: var(--fill-color);\n",
              "    animation:\n",
              "      spin 1s steps(1) infinite;\n",
              "  }\n",
              "\n",
              "  @keyframes spin {\n",
              "    0% {\n",
              "      border-color: transparent;\n",
              "      border-bottom-color: var(--fill-color);\n",
              "      border-left-color: var(--fill-color);\n",
              "    }\n",
              "    20% {\n",
              "      border-color: transparent;\n",
              "      border-left-color: var(--fill-color);\n",
              "      border-top-color: var(--fill-color);\n",
              "    }\n",
              "    30% {\n",
              "      border-color: transparent;\n",
              "      border-left-color: var(--fill-color);\n",
              "      border-top-color: var(--fill-color);\n",
              "      border-right-color: var(--fill-color);\n",
              "    }\n",
              "    40% {\n",
              "      border-color: transparent;\n",
              "      border-right-color: var(--fill-color);\n",
              "      border-top-color: var(--fill-color);\n",
              "    }\n",
              "    60% {\n",
              "      border-color: transparent;\n",
              "      border-right-color: var(--fill-color);\n",
              "    }\n",
              "    80% {\n",
              "      border-color: transparent;\n",
              "      border-right-color: var(--fill-color);\n",
              "      border-bottom-color: var(--fill-color);\n",
              "    }\n",
              "    90% {\n",
              "      border-color: transparent;\n",
              "      border-bottom-color: var(--fill-color);\n",
              "    }\n",
              "  }\n",
              "</style>\n",
              "\n",
              "  <script>\n",
              "    async function quickchart(key) {\n",
              "      const quickchartButtonEl =\n",
              "        document.querySelector('#' + key + ' button');\n",
              "      quickchartButtonEl.disabled = true;  // To prevent multiple clicks.\n",
              "      quickchartButtonEl.classList.add('colab-df-spinner');\n",
              "      try {\n",
              "        const charts = await google.colab.kernel.invokeFunction(\n",
              "            'suggestCharts', [key], {});\n",
              "      } catch (error) {\n",
              "        console.error('Error during call to suggestCharts:', error);\n",
              "      }\n",
              "      quickchartButtonEl.classList.remove('colab-df-spinner');\n",
              "      quickchartButtonEl.classList.add('colab-df-quickchart-complete');\n",
              "    }\n",
              "    (() => {\n",
              "      let quickchartButtonEl =\n",
              "        document.querySelector('#df-daef4ec3-567c-4517-87de-310b0000f0b5 button');\n",
              "      quickchartButtonEl.style.display =\n",
              "        google.colab.kernel.accessAllowed ? 'block' : 'none';\n",
              "    })();\n",
              "  </script>\n",
              "</div>\n",
              "    </div>\n",
              "  </div>\n"
            ]
          },
          "metadata": {},
          "execution_count": 96
        }
      ]
    }
  ]
}